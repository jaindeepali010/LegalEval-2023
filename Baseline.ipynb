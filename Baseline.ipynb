{
  "cells": [
    {
      "cell_type": "markdown",
      "source": [
        "## **The notebook shows the baseline implementation for the Rhetorical Labeling Classification task.**"
      ],
      "metadata": {
        "id": "KmlAHopVciqd"
      }
    },
    {
      "cell_type": "code",
      "execution_count": 1,
      "metadata": {
        "colab": {
          "base_uri": "https://localhost:8080/"
        },
        "id": "6pYe8zIlEQrb",
        "outputId": "07c9128a-3bd9-4507-e71d-be4417d619d6"
      },
      "outputs": [
        {
          "output_type": "stream",
          "name": "stdout",
          "text": [
            "Mounted at /content/drive\n"
          ]
        }
      ],
      "source": [
        "from google.colab import drive\n",
        "drive.mount('/content/drive')"
      ]
    },
    {
      "cell_type": "code",
      "source": [
        "import matplotlib.pyplot as plt\n",
        "import pandas as pd\n",
        "import numpy as np\n",
        "import json\n",
        "import re\n",
        "import csv\n",
        "from sklearn.model_selection import train_test_split\n",
        "import tensorflow as tf\n",
        "from tensorflow.keras.layers import Dense, Input, Dropout\n",
        "from tensorflow.keras.callbacks import EarlyStopping\n",
        "from tensorflow.keras.models import Sequential, Model, load_model\n",
        "from tensorflow.keras.optimizers import Adam\n"
      ],
      "metadata": {
        "id": "7LrlO5dR5tlp"
      },
      "execution_count": 2,
      "outputs": []
    },
    {
      "cell_type": "code",
      "execution_count": 3,
      "metadata": {
        "colab": {
          "base_uri": "https://localhost:8080/"
        },
        "id": "yUooSDJANt9u",
        "outputId": "2474643c-23c1-4fe9-afdd-a5e71d6fcec9"
      },
      "outputs": [
        {
          "output_type": "stream",
          "name": "stdout",
          "text": [
            "Looking in indexes: https://pypi.org/simple, https://us-python.pkg.dev/colab-wheels/public/simple/\n",
            "Collecting transformers\n",
            "  Downloading transformers-4.27.4-py3-none-any.whl (6.8 MB)\n",
            "\u001b[2K     \u001b[90m━━━━━━━━━━━━━━━━━━━━━━━━━━━━━━━━━━━━━━━━\u001b[0m \u001b[32m6.8/6.8 MB\u001b[0m \u001b[31m54.5 MB/s\u001b[0m eta \u001b[36m0:00:00\u001b[0m\n",
            "\u001b[?25hRequirement already satisfied: filelock in /usr/local/lib/python3.9/dist-packages (from transformers) (3.10.7)\n",
            "Requirement already satisfied: requests in /usr/local/lib/python3.9/dist-packages (from transformers) (2.27.1)\n",
            "Requirement already satisfied: packaging>=20.0 in /usr/local/lib/python3.9/dist-packages (from transformers) (23.0)\n",
            "Requirement already satisfied: tqdm>=4.27 in /usr/local/lib/python3.9/dist-packages (from transformers) (4.65.0)\n",
            "Requirement already satisfied: regex!=2019.12.17 in /usr/local/lib/python3.9/dist-packages (from transformers) (2022.10.31)\n",
            "Collecting tokenizers!=0.11.3,<0.14,>=0.11.1\n",
            "  Downloading tokenizers-0.13.3-cp39-cp39-manylinux_2_17_x86_64.manylinux2014_x86_64.whl (7.8 MB)\n",
            "\u001b[2K     \u001b[90m━━━━━━━━━━━━━━━━━━━━━━━━━━━━━━━━━━━━━━━━\u001b[0m \u001b[32m7.8/7.8 MB\u001b[0m \u001b[31m104.3 MB/s\u001b[0m eta \u001b[36m0:00:00\u001b[0m\n",
            "\u001b[?25hRequirement already satisfied: numpy>=1.17 in /usr/local/lib/python3.9/dist-packages (from transformers) (1.22.4)\n",
            "Collecting huggingface-hub<1.0,>=0.11.0\n",
            "  Downloading huggingface_hub-0.13.4-py3-none-any.whl (200 kB)\n",
            "\u001b[2K     \u001b[90m━━━━━━━━━━━━━━━━━━━━━━━━━━━━━━━━━━━━━━\u001b[0m \u001b[32m200.1/200.1 KB\u001b[0m \u001b[31m28.0 MB/s\u001b[0m eta \u001b[36m0:00:00\u001b[0m\n",
            "\u001b[?25hRequirement already satisfied: pyyaml>=5.1 in /usr/local/lib/python3.9/dist-packages (from transformers) (6.0)\n",
            "Requirement already satisfied: typing-extensions>=3.7.4.3 in /usr/local/lib/python3.9/dist-packages (from huggingface-hub<1.0,>=0.11.0->transformers) (4.5.0)\n",
            "Requirement already satisfied: idna<4,>=2.5 in /usr/local/lib/python3.9/dist-packages (from requests->transformers) (3.4)\n",
            "Requirement already satisfied: urllib3<1.27,>=1.21.1 in /usr/local/lib/python3.9/dist-packages (from requests->transformers) (1.26.15)\n",
            "Requirement already satisfied: certifi>=2017.4.17 in /usr/local/lib/python3.9/dist-packages (from requests->transformers) (2022.12.7)\n",
            "Requirement already satisfied: charset-normalizer~=2.0.0 in /usr/local/lib/python3.9/dist-packages (from requests->transformers) (2.0.12)\n",
            "Installing collected packages: tokenizers, huggingface-hub, transformers\n",
            "Successfully installed huggingface-hub-0.13.4 tokenizers-0.13.3 transformers-4.27.4\n"
          ]
        }
      ],
      "source": [
        "!pip install transformers"
      ]
    },
    {
      "cell_type": "code",
      "execution_count": 4,
      "metadata": {
        "colab": {
          "base_uri": "https://localhost:8080/"
        },
        "id": "Dw7DxkLZN-Rv",
        "outputId": "8ce45f10-2963-4568-9059-8b96c89ae4b5"
      },
      "outputs": [
        {
          "output_type": "stream",
          "name": "stdout",
          "text": [
            "There are 1 GPU(s) available.\n",
            "We will use the GPU: Tesla T4\n"
          ]
        }
      ],
      "source": [
        "import torch\n",
        "\n",
        "# If there's a GPU available...\n",
        "if torch.cuda.is_available():    \n",
        "\n",
        "    # Tell PyTorch to use the GPU.    \n",
        "    device = torch.device(\"cuda\")\n",
        "\n",
        "    print('There are %d GPU(s) available.' % torch.cuda.device_count())\n",
        "\n",
        "    print('We will use the GPU:', torch.cuda.get_device_name(0))\n",
        "\n",
        "# If not...\n",
        "else:\n",
        "    print('No GPU available, using the CPU instead.')\n",
        "    device = torch.device(\"cpu\")"
      ]
    },
    {
      "cell_type": "code",
      "execution_count": 5,
      "metadata": {
        "colab": {
          "base_uri": "https://localhost:8080/",
          "height": 249,
          "referenced_widgets": [
            "e2eb29387b4f48c1977b7418fca1011f",
            "ebc8621c0241487c9c18d48def9a7660",
            "b08ab98d140942f09ba0a81477fc9575",
            "8b1ae3b49afb464db22ba37380d93eff",
            "f7c8824321fa4c7389bad97451304163",
            "b4fc96986d4f4b1db6ff6f42a999ac1e",
            "e12119bba1c14bf2a3b1913a3cb49189",
            "af298ccd0f4e4fb99010cc262b20972c",
            "dc85a9aad37b433aa787567d41b500fa",
            "0484b75af09d4a159d423d1a6793183b",
            "6d756716041b458b98a4f8bc3af21545",
            "4ad0a3d625c244c3932f1b64638ee2f9",
            "5bf32df5fe334c698d9e087648134264",
            "fe703fe825cd42929f39f178f7844156",
            "8274f864848c4dd388a4603daa7f9628",
            "58d6c76333c941459b558f90280ad8fc",
            "29a9d7bcfd9a446dad888229c8888b94",
            "779276c9fd644cc79c48c381eac2412c",
            "3d740277525b435eb12ebea171c3eff3",
            "d87112c5a3c14af6a5c8f2c6e8b2ebd2",
            "783d8673c672415baad11f649ec7e3fc",
            "830b6980c33149a8a686bcc979e8be76",
            "8d0d910f39d847f9a37060979e5e2382",
            "e9328606fd6e4e99961afe5a3d1bd092",
            "a8d53386799a4051bedd4da56d315227",
            "4d2aea79094e46ed947e0bcf3e1a2244",
            "c1559100726d4586942be67c96867b2d",
            "f8dd221061244a2a90a0c930c936bb7a",
            "84d0118740054afd90f5f539d30e282c",
            "1ed772cc08144712922131fbe7da13f1",
            "fffdf202d8b54b789669698ff5cc11c8",
            "7eba0b045fc94fe5b14b01c13070d09a",
            "d710c1625fd54c65beec89d094840a7e",
            "b3357b56d18847dd9f653358dd2c8cda",
            "00e94a389e5e4fe79d96a3f7a37dff7d",
            "9661c0d0eaf44b9f89153a0966f6e808",
            "ca5bf27a596946d3be11fb17e24bf2f4",
            "099f47f9d20c4417865b75de387eba54",
            "566d0067e7fa4be9869b6d62eb31d1e5",
            "721af17f6d1a4bfcbb0ccf2a811864ed",
            "0976e47d5abd4b7797444e6502398644",
            "040844a846f0481cbb3cb79943f16ee1",
            "f121162e77eb4aee9f75888d3b31d84c",
            "74d4685dc4a24b7091623e1864b28496",
            "2a950f182ab2457eb7e0074f30726c00",
            "2dbf997ce6014632b3865d154004ea52",
            "ebb103fb620e4e2fbe8898efc78f45ef",
            "bfbaab72934c4fcd96d9da36964663df",
            "f13de01ada3f449da6fdef1852fab9bf",
            "f19fcda2a1c14ce394ec1610382533e7",
            "68eb6bd7f83c4d748e71183f6bb8d70f",
            "0075ea1d2ff0458ab23a191bea2b0ba0",
            "e4a3723433ff4ed78e1277cf40140860",
            "8ba0332a79f84555affcef58736b6bd6",
            "40dadf41abae4dedb443334876b7847a"
          ]
        },
        "id": "hhGyWHeyNx-h",
        "outputId": "32fe34e6-8111-48c1-eaea-e92d2790a819"
      },
      "outputs": [
        {
          "output_type": "display_data",
          "data": {
            "text/plain": [
              "Downloading (…)okenizer_config.json:   0%|          | 0.00/516 [00:00<?, ?B/s]"
            ],
            "application/vnd.jupyter.widget-view+json": {
              "version_major": 2,
              "version_minor": 0,
              "model_id": "e2eb29387b4f48c1977b7418fca1011f"
            }
          },
          "metadata": {}
        },
        {
          "output_type": "display_data",
          "data": {
            "text/plain": [
              "Downloading (…)solve/main/vocab.txt:   0%|          | 0.00/222k [00:00<?, ?B/s]"
            ],
            "application/vnd.jupyter.widget-view+json": {
              "version_major": 2,
              "version_minor": 0,
              "model_id": "4ad0a3d625c244c3932f1b64638ee2f9"
            }
          },
          "metadata": {}
        },
        {
          "output_type": "display_data",
          "data": {
            "text/plain": [
              "Downloading (…)cial_tokens_map.json:   0%|          | 0.00/112 [00:00<?, ?B/s]"
            ],
            "application/vnd.jupyter.widget-view+json": {
              "version_major": 2,
              "version_minor": 0,
              "model_id": "8d0d910f39d847f9a37060979e5e2382"
            }
          },
          "metadata": {}
        },
        {
          "output_type": "display_data",
          "data": {
            "text/plain": [
              "Downloading (…)lve/main/config.json:   0%|          | 0.00/671 [00:00<?, ?B/s]"
            ],
            "application/vnd.jupyter.widget-view+json": {
              "version_major": 2,
              "version_minor": 0,
              "model_id": "b3357b56d18847dd9f653358dd2c8cda"
            }
          },
          "metadata": {}
        },
        {
          "output_type": "display_data",
          "data": {
            "text/plain": [
              "Downloading pytorch_model.bin:   0%|          | 0.00/534M [00:00<?, ?B/s]"
            ],
            "application/vnd.jupyter.widget-view+json": {
              "version_major": 2,
              "version_minor": 0,
              "model_id": "2a950f182ab2457eb7e0074f30726c00"
            }
          },
          "metadata": {}
        },
        {
          "output_type": "stream",
          "name": "stderr",
          "text": [
            "Some weights of the model checkpoint at law-ai/InLegalBERT were not used when initializing BertModel: ['cls.predictions.transform.dense.bias', 'cls.predictions.decoder.bias', 'cls.predictions.bias', 'cls.seq_relationship.weight', 'cls.predictions.decoder.weight', 'cls.predictions.transform.dense.weight', 'cls.predictions.transform.LayerNorm.bias', 'cls.predictions.transform.LayerNorm.weight', 'cls.seq_relationship.bias']\n",
            "- This IS expected if you are initializing BertModel from the checkpoint of a model trained on another task or with another architecture (e.g. initializing a BertForSequenceClassification model from a BertForPreTraining model).\n",
            "- This IS NOT expected if you are initializing BertModel from the checkpoint of a model that you expect to be exactly identical (initializing a BertForSequenceClassification model from a BertForSequenceClassification model).\n"
          ]
        }
      ],
      "source": [
        "from transformers import AutoTokenizer, AutoModel\n",
        "tokenizer = AutoTokenizer.from_pretrained(\"law-ai/InLegalBERT\")\n",
        "bert_model = AutoModel.from_pretrained(\"law-ai/InLegalBERT\",output_hidden_states=True)\n",
        "bert_model = bert_model.to('cuda')\n",
        "\n",
        "# from transformers import AutoTokenizer, AutoModel\n",
        "# tokenizer = AutoTokenizer.from_pretrained(\"nlpaueb/legal-bert-base-uncased\")\n",
        "# bert_model = AutoModel.from_pretrained(\"nlpaueb/legal-bert-base-uncased\")\n",
        "# bert_model = bert_model.to('cuda')"
      ]
    },
    {
      "cell_type": "code",
      "execution_count": 6,
      "metadata": {
        "id": "9olcmPUmNqQz"
      },
      "outputs": [],
      "source": [
        "def numpyarray(sent):\n",
        "  granola_ids = tokenizer.encode(sent, max_length=100)\n",
        "  granola_ids = torch.LongTensor(granola_ids)\n",
        "  granola_ids = granola_ids.to(device)\n",
        "  # print(granola_ids.shape)\n",
        "  bert_model.eval()\n",
        "  granola_ids = granola_ids.unsqueeze(0)\n",
        "  # print(granola_ids.shape)\n",
        "  with torch.no_grad():\n",
        "    out = bert_model(input_ids=granola_ids)\n",
        "    # print(out[0].shape)\n",
        "  hidden_states = out[2]\n",
        "  sentence_embedding = torch.mean(hidden_states[-1], dim=1).squeeze()\n",
        "  # print(sentence_embedding.shape)\n",
        "  np_tensor = sentence_embedding.cpu().numpy()\n",
        "  return np_tensor\n"
      ]
    },
    {
      "cell_type": "code",
      "execution_count": 12,
      "metadata": {
        "id": "zycsIFJLEd-I",
        "colab": {
          "base_uri": "https://localhost:8080/"
        },
        "outputId": "9738cba9-c23b-460a-e2d7-f883c616f790"
      },
      "outputs": [
        {
          "output_type": "stream",
          "name": "stdout",
          "text": [
            "Total training samples provided by the organizers:  247\n",
            "After cleaning, total number of samples in training data (documentwise):  245\n",
            "After cleaning, total number of labels in training data (documentwise):  245\n",
            "Total number of sentences in training data:  28986\n",
            "Total number of labels in the training data:  28986\n"
          ]
        }
      ],
      "source": [
        "f = open(\"/content/drive/My Drive/Colab Notebooks/LegalEval/RR_train.json\")\n",
        "\n",
        "data = json.load(f)\n",
        "print(\"Total training samples provided by the organizers: \", len(data))\n",
        "\n",
        "AllText=[]\n",
        "for i in range(len(data)):\n",
        "    TempText=[]\n",
        "    if len(data[i]['annotations'][0]['result'])!=0: \n",
        "\n",
        "        for j in range(len(data[i]['annotations'][0]['result'])):\n",
        "            TempText.append(data[i]['annotations'][0]['result'][j]['value']['text'])\n",
        "        AllText.append(TempText)\n",
        "\n",
        "\n",
        "CleanedText=[]\n",
        "for i in range(len(AllText)):\n",
        "    TempCleanedText=[]\n",
        "    for j in range(len(AllText[i])):\n",
        "        AllText[i][j]=AllText[i][j].replace(\"\\n\",\" \")\n",
        "        AllText[i][j]=re.sub('\\s+',' ',AllText[i][j])\n",
        "        AllText[i][j]=AllText[i][j].lower()\n",
        "        TempCleanedText.append(AllText[i][j])\n",
        "    CleanedText.append(TempCleanedText)  \n",
        "print(\"After cleaning, total number of samples in training data (documentwise): \", len(CleanedText))\n",
        "\n",
        "AllLabels=[]\n",
        "for i in range(len(data)):\n",
        "    TempLabels=[]\n",
        "    if len(data[i]['annotations'][0]['result'])!=0:\n",
        "        for j in range(len(data[i]['annotations'][0]['result'])):\n",
        "            TempLabels.append(data[i]['annotations'][0]['result'][j]['value']['labels'][0])\n",
        "        AllLabels.append(TempLabels)\n",
        "    \n",
        "for i in range(len(AllLabels)):\n",
        "    for j in range(len(AllLabels[i])):\n",
        "        AllLabels[i][j]=AllLabels[i][j].lower()    \n",
        "print(\"After cleaning, total number of labels in training data (documentwise): \", len(AllLabels)) \n",
        "\n",
        "SentwiseCleanedText=[]\n",
        "for i in range(len(CleanedText)):\n",
        "  for j in range(len(CleanedText[i])):\n",
        "      SentwiseCleanedText.append(CleanedText[i][j])\n",
        "\n",
        "SentwiseLabels=[]\n",
        "for i in range(len(AllLabels)):\n",
        "  for j in range(len(AllLabels[i])):\n",
        "      SentwiseLabels.append(AllLabels[i][j])\n",
        "\n",
        "print(\"Total number of sentences in training data: \", len(SentwiseCleanedText))\n",
        "print(\"Total number of labels in the training data: \", len(SentwiseLabels))"
      ]
    },
    {
      "cell_type": "code",
      "source": [
        "# analysis          10695\n",
        "# arg_petitioner     1315\n",
        "# arg_respondent      698\n",
        "# fac                5744\n",
        "# issue               367\n",
        "# none               1423\n",
        "# pre_not_relied      158\n",
        "# pre_relied         1431\n",
        "# preamble           4167\n",
        "# ratio               674\n",
        "# rlc                 752\n",
        "# rpc                1081\n",
        "# sta                 481"
      ],
      "metadata": {
        "id": "IURBkrrujAI4"
      },
      "execution_count": null,
      "outputs": []
    },
    {
      "cell_type": "code",
      "source": [
        "f = open(\"/content/drive/My Drive/Colab Notebooks/LegalEval/RR_dev.json\")\n",
        "\n",
        "val_data = json.load(f)\n",
        "print(\"Total validation samples provided by the organizers: \", len(val_data))\n",
        "\n",
        "DevText=[]\n",
        "for i in range(len(val_data)):\n",
        "    TempText=[]\n",
        "    for j in range(len(val_data[i]['annotations'][0]['result'])):\n",
        "        TempText.append(val_data[i]['annotations'][0]['result'][j]['value']['text'])\n",
        "    DevText.append(TempText)\n",
        "\n",
        "\n",
        "CleanedDevText=[]\n",
        "for i in range(len(DevText)):\n",
        "    TempCleanedText=[]\n",
        "    for j in range(len(DevText[i])):\n",
        "        DevText[i][j]=DevText[i][j].replace(\"\\n\",\" \")\n",
        "        DevText[i][j]=re.sub('\\s+',' ',DevText[i][j])\n",
        "        DevText[i][j]=DevText[i][j].lower()\n",
        "        TempCleanedText.append(DevText[i][j])\n",
        "    CleanedDevText.append(TempCleanedText)  \n",
        "\n",
        "AllDevLabels=[]\n",
        "for i in range(len(val_data)):\n",
        "    TempLabels=[]\n",
        "    for j in range(len(val_data[i]['annotations'][0]['result'])):\n",
        "        TempLabels.append(val_data[i]['annotations'][0]['result'][j]['value']['labels'][0])\n",
        "    AllDevLabels.append(TempLabels)\n",
        "    \n",
        "for i in range(len(AllDevLabels)):\n",
        "    for j in range(len(AllDevLabels[i])):\n",
        "        AllDevLabels[i][j]=AllDevLabels[i][j].lower()   \n",
        "\n",
        "print(\"After cleaning, total number of samples in validation data (documentwise): \", len(CleanedDevText))\n",
        "print(\"After cleaning, total number of labels in validation data (documentwise): \", len(AllDevLabels))\n",
        "\n",
        "SentwiseDevLabels=[]\n",
        "for i in range(len(AllDevLabels)):\n",
        "  for j in range(len(AllDevLabels[i])):\n",
        "      SentwiseDevLabels.append(AllDevLabels[i][j])  \n",
        "\n",
        "print(\"Total number of sentences in validation data: \", len(SentwiseDevLabels))"
      ],
      "metadata": {
        "colab": {
          "base_uri": "https://localhost:8080/"
        },
        "id": "G9JuJ2INvmnS",
        "outputId": "ee5c7add-8f8d-4da8-b019-a9e173ccbe81"
      },
      "execution_count": 13,
      "outputs": [
        {
          "output_type": "stream",
          "name": "stdout",
          "text": [
            "Total validation samples provided by the organizers:  30\n",
            "After cleaning, total number of samples in validation data (documentwise):  30\n",
            "After cleaning, total number of labels in validation data (documentwise):  30\n",
            "Total number of sentences in validation data:  2879\n"
          ]
        }
      ]
    },
    {
      "cell_type": "code",
      "source": [
        "encoded_labels=[]\n",
        "from sklearn.preprocessing import LabelEncoder\n",
        "\n",
        "label_enc= LabelEncoder()\n",
        "label_enc.fit(SentwiseLabels)\n",
        "\n",
        "y_tr=label_enc.transform(SentwiseLabels)\n",
        "y_val=LabelEncoder().fit_transform(SentwiseDevLabels)"
      ],
      "metadata": {
        "id": "INfC3Iek1-FG"
      },
      "execution_count": 14,
      "outputs": []
    },
    {
      "cell_type": "markdown",
      "source": [
        "With the help of code given below, we are creating numerical vector of each sentence of a document. This block of code needs to be run for once. Once we have csv file containing the numerical vectors along with their labels, we can utilize this while training."
      ],
      "metadata": {
        "id": "iw75LEfoTtUC"
      }
    },
    {
      "cell_type": "code",
      "source": [
        "# import csv\n",
        "# import numpy as np\n",
        "# for j in range(len(SentwiseCleanedText)):\n",
        "\t\n",
        "# \tif j%1000==0:\n",
        "# \t\tprint(j)\n",
        "# \twith open('/content/drive/My Drive/Colab Notebooks/LegalEval/LegalEval_RR_valid_embeddings_indian_legal_bert.csv', 'a+', newline='',encoding='utf-8') as write_obj:\n",
        "# \t\t# Create a writer object from csv module\n",
        "# \t\tcsv_writer = csv.writer(write_obj, quoting= csv.QUOTE_NONNUMERIC)\n",
        "# \t\t# Add contents of list as last row in the csv file\n",
        "# \t\tcsv_writer.writerow(np.append(numpyarray(SentwiseCleanedText[j]),[SentwiseLabels[j]]))\n",
        "\n",
        "# \twrite_obj.close()"
      ],
      "metadata": {
        "id": "7sMNS5-Pb012"
      },
      "execution_count": null,
      "outputs": []
    },
    {
      "cell_type": "code",
      "source": [
        "import numpy as np\n",
        "import matplotlib.pyplot as plt\n",
        "\n",
        "data={'ANALYSIS':10695,'ARG PETITIONER':1315 ,'ARG_RESPONDENT':698,'FAC':5744 ,'ISSUE':367 ,'NONE':1423, 'PRE NOT RELIED':158, 'PRE RELIED':1431, \n",
        "'PREAMBLE':4167, 'RATIO':674,'RLC':752, 'RPC':1081, 'STA':481}\n",
        "\n",
        "# data = {'Baseline': 0.6160, 'Model1':0.7419, 'Model2':0.725,'Model3':0.7368, 'Model4':0.7201}\n",
        "labels = list(data.keys())\n",
        "freqs = list(data.values())\n",
        "  \n",
        "fig = plt.figure(figsize = (10,4))\n",
        "\n",
        "plt.rcParams['font.family'] = 'serif'\n",
        "plt.rcParams['font.serif'] = ['Times New Roman'] + plt.rcParams['font.serif']\n",
        "# plt.rcParams.update({'font.family':'DejaVu Serif'})\n",
        "# creating the bar plot\n",
        "plt.bar(labels, freqs, color ='#20B2AA',edgecolor= 'black', width = 0.3)\n",
        " \n",
        "plt.xlabel(\"Labels\", fontsize=16)\n",
        "plt.ylabel(\"Frequency\",fontsize=16)\n",
        "plt.xticks(fontsize=12)\n",
        "plt.yticks(fontsize=12)\n",
        "# plt.ylim(ymin=150,ymax=10900)\n",
        "fig.autofmt_xdate()\n",
        "\n",
        "plt.show()\n",
        "\n",
        "# plt.title(\"Students enrolled in different courses\")\n",
        "# plt.savefig('Freq.eps', format='eps',bbox_inches='tight')"
      ],
      "metadata": {
        "colab": {
          "base_uri": "https://localhost:8080/",
          "height": 447
        },
        "id": "TKoWEEjkU46p",
        "outputId": "0e800212-bf2d-402a-93da-9f45c48f9465"
      },
      "execution_count": 15,
      "outputs": [
        {
          "output_type": "display_data",
          "data": {
            "text/plain": [
              "<Figure size 1000x400 with 1 Axes>"
            ],
            "image/png": "[encoded data removed]"
          },
          "metadata": {}
        }
      ]
    },
    {
      "cell_type": "code",
      "source": [
        "# label_dict= {0: 'ANALYSIS', 1: 'ARG_PETITIONER', 2:'ARG_RESPONDENT', 3: 'FAC',4:'ISSUE', \n",
        "#              5: 'NONE',6:'PRE_NOT_RELIED',7:'PRE_RELIED',8: 'PREAMBLE', 9:'RATIO',\n",
        "#              10:'RLC', 11: 'RPC', 12: 'STA'}"
      ],
      "metadata": {
        "id": "Y4W3E5fJmIob"
      },
      "execution_count": null,
      "outputs": []
    },
    {
      "cell_type": "markdown",
      "source": [
        "The code below gives the weight to each of the class. One can utilize this to somehow deal with the problem of class imbalance. In our baseline model, we did not use it because we did not observe much improvement."
      ],
      "metadata": {
        "id": "zn7ovQydVuu_"
      }
    },
    {
      "cell_type": "code",
      "source": [
        "# import numpy as np\n",
        "# import math\n",
        "\n",
        "# # labels_dict : {ind_label: count_label}\n",
        "# # mu : parameter to tune \n",
        "\n",
        "# def create_class_weight(labels_dict,mu=0.15):\n",
        "#     total = np.sum(list(labels_dict.values()))\n",
        "#     keys = labels_dict.keys()\n",
        "#     class_weight = dict()\n",
        "    \n",
        "#     for key in keys:\n",
        "#         score = math.log(mu*total/float(labels_dict[key]))\n",
        "#         class_weight[key] = score if score > 1.0 else 1.0\n",
        "    \n",
        "#     return class_weight\n",
        "\n",
        "# # random labels_dict\n",
        "# labels_dict = {0: 10695, 1: 1315, 2: 698, 3: 5744, 4: 367, 5: 1423, 6: 158, 7: 1431, 8: 4167, 9:674, 10: 752, 11: 1081, 12: 481}\n",
        "\n",
        "# class_weight=create_class_weight(labels_dict)\n"
      ],
      "metadata": {
        "id": "oVC7Nnl6f3of"
      },
      "execution_count": null,
      "outputs": []
    },
    {
      "cell_type": "code",
      "source": [
        "df=pd.read_csv('/content/drive/My Drive/Colab Notebooks/LegalEval/LegalEval_RR_train_embeddings_indian_legal_bert.csv',header=None)\n",
        "Y = df[768].tolist()\n",
        "df.drop(768, axis=1, inplace=True)\n",
        "df=df.values.tolist()"
      ],
      "metadata": {
        "id": "VzIaUEu3geXp"
      },
      "execution_count": 16,
      "outputs": []
    },
    {
      "cell_type": "code",
      "source": [
        "df_val=pd.read_csv('/content/drive/My Drive/Colab Notebooks/LegalEval/LegalEval_RR_valid_embeddings_indian_legal_bert.csv',header=None)\n",
        "Y_val = df_val[768].tolist()\n",
        "df_val.drop(768, axis=1, inplace=True)\n",
        "df_val=df_val.values.tolist()"
      ],
      "metadata": {
        "id": "tPB2b5Hvd_Uc"
      },
      "execution_count": 17,
      "outputs": []
    },
    {
      "cell_type": "code",
      "source": [
        "df=np.asarray(df)\n",
        "df_val=np.asarray(df_val)\n",
        "print(df.shape)\n",
        "print(df_val.shape)\n",
        "print(y_tr.shape)\n",
        "print(y_val.shape)"
      ],
      "metadata": {
        "colab": {
          "base_uri": "https://localhost:8080/"
        },
        "id": "bj9TpjfS8V7L",
        "outputId": "597157fb-e7f5-4e41-e7de-6964a25f02ee"
      },
      "execution_count": 18,
      "outputs": [
        {
          "output_type": "stream",
          "name": "stdout",
          "text": [
            "(28986, 768)\n",
            "(2879, 768)\n",
            "(28986,)\n",
            "(2879,)\n"
          ]
        }
      ]
    },
    {
      "cell_type": "markdown",
      "source": [
        "*Multi-layer perceptron (MLP) model utilize for training*"
      ],
      "metadata": {
        "id": "WjrqKyhsWdJe"
      }
    },
    {
      "cell_type": "code",
      "source": [
        "inputA= Input(shape=(df.shape[1],))\n",
        "x=  Dense(2048, activation=\"relu\")(inputA)\n",
        "x=Dropout(0.6)(x)\n",
        "x=Dense(1024,activation=\"relu\")(x)\n",
        "x=Dropout(0.6)(x)\n",
        "x=Dense(units=13, activation='softmax')(x)\n",
        "model= Model(inputs=inputA, outputs=x)\n",
        "model.compile(optimizer=tf.keras.optimizers.Adam(learning_rate=0.001, beta_1=0.9, beta_2=0.999, epsilon=1e-07), loss=\"sparse_categorical_crossentropy\", metrics = ['accuracy'])\n",
        "model.summary()"
      ],
      "metadata": {
        "colab": {
          "base_uri": "https://localhost:8080/"
        },
        "id": "v-MIa7AE6XTv",
        "outputId": "3c1747bc-1525-4464-95c4-afdfff96d5cd"
      },
      "execution_count": 19,
      "outputs": [
        {
          "output_type": "stream",
          "name": "stdout",
          "text": [
            "Model: \"model\"\n",
            "_________________________________________________________________\n",
            " Layer (type)                Output Shape              Param #   \n",
            "=================================================================\n",
            " input_1 (InputLayer)        [(None, 768)]             0         \n",
            "                                                                 \n",
            " dense (Dense)               (None, 2048)              1574912   \n",
            "                                                                 \n",
            " dropout (Dropout)           (None, 2048)              0         \n",
            "                                                                 \n",
            " dense_1 (Dense)             (None, 1024)              2098176   \n",
            "                                                                 \n",
            " dropout_1 (Dropout)         (None, 1024)              0         \n",
            "                                                                 \n",
            " dense_2 (Dense)             (None, 13)                13325     \n",
            "                                                                 \n",
            "=================================================================\n",
            "Total params: 3,686,413\n",
            "Trainable params: 3,686,413\n",
            "Non-trainable params: 0\n",
            "_________________________________________________________________\n"
          ]
        }
      ]
    },
    {
      "cell_type": "code",
      "source": [
        "es = EarlyStopping(monitor='val_loss', mode='min', verbose=1, patience=100, restore_best_weights=True)\n",
        "history=model.fit(df, y_tr, validation_data=(df_val,y_val),epochs =500,callbacks=[es], batch_size= 32)"
      ],
      "metadata": {
        "colab": {
          "base_uri": "https://localhost:8080/"
        },
        "id": "XFZwwpWM6na-",
        "outputId": "fa748548-4e4e-4520-d86f-d47d8d128d98"
      },
      "execution_count": 20,
      "outputs": [
        {
          "output_type": "stream",
          "name": "stdout",
          "text": [
            "Epoch 1/500\n",
            "906/906 [==============================] - 11s 6ms/step - loss: 1.4358 - accuracy: 0.5418 - val_loss: 1.2039 - val_accuracy: 0.6276\n",
            "Epoch 2/500\n",
            "906/906 [==============================] - 4s 4ms/step - loss: 1.2490 - accuracy: 0.5926 - val_loss: 1.1804 - val_accuracy: 0.6336\n",
            "Epoch 3/500\n",
            "906/906 [==============================] - 3s 4ms/step - loss: 1.2002 - accuracy: 0.6059 - val_loss: 1.2254 - val_accuracy: 0.6249\n",
            "Epoch 4/500\n",
            "906/906 [==============================] - 4s 4ms/step - loss: 1.1658 - accuracy: 0.6144 - val_loss: 1.1582 - val_accuracy: 0.6283\n",
            "Epoch 5/500\n",
            "906/906 [==============================] - 6s 7ms/step - loss: 1.1524 - accuracy: 0.6218 - val_loss: 1.1748 - val_accuracy: 0.6429\n",
            "Epoch 6/500\n",
            "906/906 [==============================] - 4s 5ms/step - loss: 1.1242 - accuracy: 0.6269 - val_loss: 1.1665 - val_accuracy: 0.6450\n",
            "Epoch 7/500\n",
            "906/906 [==============================] - 6s 7ms/step - loss: 1.1069 - accuracy: 0.6303 - val_loss: 1.1614 - val_accuracy: 0.6245\n",
            "Epoch 8/500\n",
            "906/906 [==============================] - 4s 5ms/step - loss: 1.0855 - accuracy: 0.6350 - val_loss: 1.1745 - val_accuracy: 0.6315\n",
            "Epoch 9/500\n",
            "906/906 [==============================] - 3s 4ms/step - loss: 1.0738 - accuracy: 0.6416 - val_loss: 1.1630 - val_accuracy: 0.6370\n",
            "Epoch 10/500\n",
            "906/906 [==============================] - 3s 4ms/step - loss: 1.0525 - accuracy: 0.6443 - val_loss: 1.1703 - val_accuracy: 0.6454\n",
            "Epoch 11/500\n",
            "906/906 [==============================] - 4s 5ms/step - loss: 1.0387 - accuracy: 0.6471 - val_loss: 1.1758 - val_accuracy: 0.6398\n",
            "Epoch 12/500\n",
            "906/906 [==============================] - 4s 5ms/step - loss: 1.0322 - accuracy: 0.6529 - val_loss: 1.1958 - val_accuracy: 0.6231\n",
            "Epoch 13/500\n",
            "906/906 [==============================] - 3s 4ms/step - loss: 1.0122 - accuracy: 0.6599 - val_loss: 1.1755 - val_accuracy: 0.6398\n",
            "Epoch 14/500\n",
            "906/906 [==============================] - 3s 4ms/step - loss: 1.0125 - accuracy: 0.6568 - val_loss: 1.1969 - val_accuracy: 0.6474\n",
            "Epoch 15/500\n",
            "906/906 [==============================] - 4s 4ms/step - loss: 0.9925 - accuracy: 0.6658 - val_loss: 1.1802 - val_accuracy: 0.6419\n",
            "Epoch 16/500\n",
            "906/906 [==============================] - 4s 5ms/step - loss: 0.9876 - accuracy: 0.6659 - val_loss: 1.2085 - val_accuracy: 0.6384\n",
            "Epoch 17/500\n",
            "906/906 [==============================] - 3s 4ms/step - loss: 0.9780 - accuracy: 0.6665 - val_loss: 1.2056 - val_accuracy: 0.6360\n",
            "Epoch 18/500\n",
            "906/906 [==============================] - 4s 4ms/step - loss: 0.9650 - accuracy: 0.6739 - val_loss: 1.2305 - val_accuracy: 0.6266\n",
            "Epoch 19/500\n",
            "906/906 [==============================] - 4s 4ms/step - loss: 0.9583 - accuracy: 0.6721 - val_loss: 1.2686 - val_accuracy: 0.6342\n",
            "Epoch 20/500\n",
            "906/906 [==============================] - 4s 5ms/step - loss: 0.9509 - accuracy: 0.6786 - val_loss: 1.2593 - val_accuracy: 0.6374\n",
            "Epoch 21/500\n",
            "906/906 [==============================] - 3s 4ms/step - loss: 0.9223 - accuracy: 0.6855 - val_loss: 1.2461 - val_accuracy: 0.6342\n",
            "Epoch 22/500\n",
            "906/906 [==============================] - 5s 5ms/step - loss: 0.9272 - accuracy: 0.6843 - val_loss: 1.2404 - val_accuracy: 0.6440\n",
            "Epoch 23/500\n",
            "906/906 [==============================] - 6s 6ms/step - loss: 0.9216 - accuracy: 0.6826 - val_loss: 1.2408 - val_accuracy: 0.6367\n",
            "Epoch 24/500\n",
            "906/906 [==============================] - 3s 4ms/step - loss: 0.9068 - accuracy: 0.6891 - val_loss: 1.2730 - val_accuracy: 0.6280\n",
            "Epoch 25/500\n",
            "906/906 [==============================] - 3s 4ms/step - loss: 0.9021 - accuracy: 0.6888 - val_loss: 1.2810 - val_accuracy: 0.6346\n",
            "Epoch 26/500\n",
            "906/906 [==============================] - 3s 4ms/step - loss: 0.8946 - accuracy: 0.6929 - val_loss: 1.2788 - val_accuracy: 0.6259\n",
            "Epoch 27/500\n",
            "906/906 [==============================] - 5s 5ms/step - loss: 0.8936 - accuracy: 0.6940 - val_loss: 1.3157 - val_accuracy: 0.6283\n",
            "Epoch 28/500\n",
            "906/906 [==============================] - 3s 4ms/step - loss: 0.8862 - accuracy: 0.6980 - val_loss: 1.3016 - val_accuracy: 0.6381\n",
            "Epoch 29/500\n",
            "906/906 [==============================] - 3s 4ms/step - loss: 0.8709 - accuracy: 0.7021 - val_loss: 1.3393 - val_accuracy: 0.6221\n",
            "Epoch 30/500\n",
            "906/906 [==============================] - 3s 4ms/step - loss: 0.8679 - accuracy: 0.7004 - val_loss: 1.3498 - val_accuracy: 0.6363\n",
            "Epoch 31/500\n",
            "906/906 [==============================] - 5s 5ms/step - loss: 0.8570 - accuracy: 0.7066 - val_loss: 1.3358 - val_accuracy: 0.6342\n",
            "Epoch 32/500\n",
            "906/906 [==============================] - 4s 4ms/step - loss: 0.8636 - accuracy: 0.7032 - val_loss: 1.3550 - val_accuracy: 0.6329\n",
            "Epoch 33/500\n",
            "906/906 [==============================] - 3s 4ms/step - loss: 0.8507 - accuracy: 0.7088 - val_loss: 1.3858 - val_accuracy: 0.6349\n",
            "Epoch 34/500\n",
            "906/906 [==============================] - 4s 4ms/step - loss: 0.8452 - accuracy: 0.7098 - val_loss: 1.3523 - val_accuracy: 0.6280\n",
            "Epoch 35/500\n",
            "906/906 [==============================] - 5s 5ms/step - loss: 0.8336 - accuracy: 0.7124 - val_loss: 1.3861 - val_accuracy: 0.6391\n",
            "Epoch 36/500\n",
            "906/906 [==============================] - 4s 4ms/step - loss: 0.8350 - accuracy: 0.7127 - val_loss: 1.4266 - val_accuracy: 0.6266\n",
            "Epoch 37/500\n",
            "906/906 [==============================] - 3s 4ms/step - loss: 0.8270 - accuracy: 0.7186 - val_loss: 1.4000 - val_accuracy: 0.6346\n",
            "Epoch 38/500\n",
            "906/906 [==============================] - 3s 4ms/step - loss: 0.8146 - accuracy: 0.7204 - val_loss: 1.4272 - val_accuracy: 0.6231\n",
            "Epoch 39/500\n",
            "906/906 [==============================] - 5s 5ms/step - loss: 0.8138 - accuracy: 0.7201 - val_loss: 1.4643 - val_accuracy: 0.6172\n",
            "Epoch 40/500\n",
            "906/906 [==============================] - 3s 4ms/step - loss: 0.8012 - accuracy: 0.7238 - val_loss: 1.4183 - val_accuracy: 0.6301\n",
            "Epoch 41/500\n",
            "906/906 [==============================] - 3s 4ms/step - loss: 0.8054 - accuracy: 0.7229 - val_loss: 1.4475 - val_accuracy: 0.6384\n",
            "Epoch 42/500\n",
            "906/906 [==============================] - 4s 4ms/step - loss: 0.7935 - accuracy: 0.7305 - val_loss: 1.4852 - val_accuracy: 0.6325\n",
            "Epoch 43/500\n",
            "906/906 [==============================] - 5s 5ms/step - loss: 0.7890 - accuracy: 0.7295 - val_loss: 1.4454 - val_accuracy: 0.6336\n",
            "Epoch 44/500\n",
            "906/906 [==============================] - 4s 4ms/step - loss: 0.7853 - accuracy: 0.7298 - val_loss: 1.4497 - val_accuracy: 0.6193\n",
            "Epoch 45/500\n",
            "906/906 [==============================] - 3s 4ms/step - loss: 0.7815 - accuracy: 0.7330 - val_loss: 1.4779 - val_accuracy: 0.6353\n",
            "Epoch 46/500\n",
            "906/906 [==============================] - 3s 4ms/step - loss: 0.7784 - accuracy: 0.7323 - val_loss: 1.4660 - val_accuracy: 0.6398\n",
            "Epoch 47/500\n",
            "906/906 [==============================] - 4s 5ms/step - loss: 0.7687 - accuracy: 0.7331 - val_loss: 1.4953 - val_accuracy: 0.6276\n",
            "Epoch 48/500\n",
            "906/906 [==============================] - 4s 4ms/step - loss: 0.7714 - accuracy: 0.7361 - val_loss: 1.4867 - val_accuracy: 0.6283\n",
            "Epoch 49/500\n",
            "906/906 [==============================] - 4s 4ms/step - loss: 0.7637 - accuracy: 0.7392 - val_loss: 1.5150 - val_accuracy: 0.6270\n",
            "Epoch 50/500\n",
            "906/906 [==============================] - 4s 4ms/step - loss: 0.7516 - accuracy: 0.7442 - val_loss: 1.5504 - val_accuracy: 0.6249\n",
            "Epoch 51/500\n",
            "906/906 [==============================] - 4s 5ms/step - loss: 0.7524 - accuracy: 0.7409 - val_loss: 1.5566 - val_accuracy: 0.6204\n",
            "Epoch 52/500\n",
            "906/906 [==============================] - 3s 4ms/step - loss: 0.7626 - accuracy: 0.7422 - val_loss: 1.5699 - val_accuracy: 0.6339\n",
            "Epoch 53/500\n",
            "906/906 [==============================] - 3s 4ms/step - loss: 0.7386 - accuracy: 0.7459 - val_loss: 1.5845 - val_accuracy: 0.6304\n",
            "Epoch 54/500\n",
            "906/906 [==============================] - 4s 4ms/step - loss: 0.7418 - accuracy: 0.7455 - val_loss: 1.5233 - val_accuracy: 0.6304\n",
            "Epoch 55/500\n",
            "906/906 [==============================] - 5s 5ms/step - loss: 0.7354 - accuracy: 0.7508 - val_loss: 1.9017 - val_accuracy: 0.6356\n",
            "Epoch 56/500\n",
            "906/906 [==============================] - 3s 4ms/step - loss: 0.7396 - accuracy: 0.7479 - val_loss: 1.8663 - val_accuracy: 0.6346\n",
            "Epoch 57/500\n",
            "906/906 [==============================] - 3s 4ms/step - loss: 0.7266 - accuracy: 0.7510 - val_loss: 1.8993 - val_accuracy: 0.6339\n",
            "Epoch 58/500\n",
            "906/906 [==============================] - 4s 4ms/step - loss: 0.7218 - accuracy: 0.7495 - val_loss: 1.8601 - val_accuracy: 0.6259\n",
            "Epoch 59/500\n",
            "906/906 [==============================] - 5s 5ms/step - loss: 0.7241 - accuracy: 0.7556 - val_loss: 1.9015 - val_accuracy: 0.6325\n",
            "Epoch 60/500\n",
            "906/906 [==============================] - 3s 4ms/step - loss: 0.7260 - accuracy: 0.7547 - val_loss: 1.8781 - val_accuracy: 0.6311\n",
            "Epoch 61/500\n",
            "906/906 [==============================] - 3s 4ms/step - loss: 0.7113 - accuracy: 0.7555 - val_loss: 1.9278 - val_accuracy: 0.6304\n",
            "Epoch 62/500\n",
            "906/906 [==============================] - 4s 4ms/step - loss: 0.7235 - accuracy: 0.7537 - val_loss: 1.8936 - val_accuracy: 0.6329\n",
            "Epoch 63/500\n",
            "906/906 [==============================] - 5s 5ms/step - loss: 0.7028 - accuracy: 0.7587 - val_loss: 1.9130 - val_accuracy: 0.6266\n",
            "Epoch 64/500\n",
            "906/906 [==============================] - 3s 4ms/step - loss: 0.6989 - accuracy: 0.7634 - val_loss: 1.9080 - val_accuracy: 0.6224\n",
            "Epoch 65/500\n",
            "906/906 [==============================] - 4s 4ms/step - loss: 0.7032 - accuracy: 0.7617 - val_loss: 1.8758 - val_accuracy: 0.6297\n",
            "Epoch 66/500\n",
            "906/906 [==============================] - 4s 4ms/step - loss: 0.6992 - accuracy: 0.7629 - val_loss: 1.9832 - val_accuracy: 0.6235\n",
            "Epoch 67/500\n",
            "906/906 [==============================] - 5s 5ms/step - loss: 0.6966 - accuracy: 0.7605 - val_loss: 1.9279 - val_accuracy: 0.6304\n",
            "Epoch 68/500\n",
            "906/906 [==============================] - 4s 4ms/step - loss: 0.6909 - accuracy: 0.7609 - val_loss: 1.9076 - val_accuracy: 0.6304\n",
            "Epoch 69/500\n",
            "906/906 [==============================] - 4s 4ms/step - loss: 0.6907 - accuracy: 0.7651 - val_loss: 1.9620 - val_accuracy: 0.6322\n",
            "Epoch 70/500\n",
            "906/906 [==============================] - 4s 4ms/step - loss: 0.6862 - accuracy: 0.7642 - val_loss: 1.8475 - val_accuracy: 0.6283\n",
            "Epoch 71/500\n",
            "906/906 [==============================] - 5s 5ms/step - loss: 0.6871 - accuracy: 0.7668 - val_loss: 1.9626 - val_accuracy: 0.6183\n",
            "Epoch 72/500\n",
            "906/906 [==============================] - 3s 4ms/step - loss: 0.6737 - accuracy: 0.7715 - val_loss: 1.8929 - val_accuracy: 0.6349\n",
            "Epoch 73/500\n",
            "906/906 [==============================] - 3s 4ms/step - loss: 0.6779 - accuracy: 0.7701 - val_loss: 1.8792 - val_accuracy: 0.6353\n",
            "Epoch 74/500\n",
            "906/906 [==============================] - 4s 4ms/step - loss: 0.6692 - accuracy: 0.7718 - val_loss: 1.9801 - val_accuracy: 0.6301\n",
            "Epoch 75/500\n",
            "906/906 [==============================] - 4s 5ms/step - loss: 0.6637 - accuracy: 0.7731 - val_loss: 2.0141 - val_accuracy: 0.6249\n",
            "Epoch 76/500\n",
            "906/906 [==============================] - 3s 4ms/step - loss: 0.6638 - accuracy: 0.7751 - val_loss: 1.9396 - val_accuracy: 0.6339\n",
            "Epoch 77/500\n",
            "906/906 [==============================] - 3s 4ms/step - loss: 0.6652 - accuracy: 0.7721 - val_loss: 2.0508 - val_accuracy: 0.6322\n",
            "Epoch 78/500\n",
            "906/906 [==============================] - 4s 4ms/step - loss: 0.6680 - accuracy: 0.7724 - val_loss: 2.0236 - val_accuracy: 0.6238\n",
            "Epoch 79/500\n",
            "906/906 [==============================] - 4s 5ms/step - loss: 0.6627 - accuracy: 0.7720 - val_loss: 2.0370 - val_accuracy: 0.6290\n",
            "Epoch 80/500\n",
            "906/906 [==============================] - 3s 4ms/step - loss: 0.6449 - accuracy: 0.7798 - val_loss: 2.1173 - val_accuracy: 0.6367\n",
            "Epoch 81/500\n",
            "906/906 [==============================] - 3s 4ms/step - loss: 0.6512 - accuracy: 0.7752 - val_loss: 2.1305 - val_accuracy: 0.6283\n",
            "Epoch 82/500\n",
            "906/906 [==============================] - 4s 4ms/step - loss: 0.6527 - accuracy: 0.7809 - val_loss: 2.1669 - val_accuracy: 0.6204\n",
            "Epoch 83/500\n",
            "906/906 [==============================] - 4s 5ms/step - loss: 0.6570 - accuracy: 0.7755 - val_loss: 2.1080 - val_accuracy: 0.6273\n",
            "Epoch 84/500\n",
            "906/906 [==============================] - 3s 4ms/step - loss: 0.6463 - accuracy: 0.7811 - val_loss: 2.1101 - val_accuracy: 0.6301\n",
            "Epoch 85/500\n",
            "906/906 [==============================] - 4s 4ms/step - loss: 0.6378 - accuracy: 0.7824 - val_loss: 2.1826 - val_accuracy: 0.6339\n",
            "Epoch 86/500\n",
            "906/906 [==============================] - 4s 5ms/step - loss: 0.6463 - accuracy: 0.7811 - val_loss: 2.0365 - val_accuracy: 0.6336\n",
            "Epoch 87/500\n",
            "906/906 [==============================] - 4s 5ms/step - loss: 0.6444 - accuracy: 0.7818 - val_loss: 2.0540 - val_accuracy: 0.6276\n",
            "Epoch 88/500\n",
            "906/906 [==============================] - 3s 4ms/step - loss: 0.6393 - accuracy: 0.7806 - val_loss: 2.1549 - val_accuracy: 0.6280\n",
            "Epoch 89/500\n",
            "906/906 [==============================] - 3s 4ms/step - loss: 0.6311 - accuracy: 0.7860 - val_loss: 2.2026 - val_accuracy: 0.6339\n",
            "Epoch 90/500\n",
            "906/906 [==============================] - 4s 5ms/step - loss: 0.6428 - accuracy: 0.7834 - val_loss: 2.1039 - val_accuracy: 0.6210\n",
            "Epoch 91/500\n",
            "906/906 [==============================] - 4s 4ms/step - loss: 0.6310 - accuracy: 0.7867 - val_loss: 2.2093 - val_accuracy: 0.6280\n",
            "Epoch 92/500\n",
            "906/906 [==============================] - 3s 4ms/step - loss: 0.6315 - accuracy: 0.7861 - val_loss: 2.2721 - val_accuracy: 0.6287\n",
            "Epoch 93/500\n",
            "906/906 [==============================] - 4s 4ms/step - loss: 0.6256 - accuracy: 0.7860 - val_loss: 2.3016 - val_accuracy: 0.6238\n",
            "Epoch 94/500\n",
            "906/906 [==============================] - 4s 5ms/step - loss: 0.6328 - accuracy: 0.7849 - val_loss: 2.2266 - val_accuracy: 0.6235\n",
            "Epoch 95/500\n",
            "906/906 [==============================] - 4s 4ms/step - loss: 0.6178 - accuracy: 0.7879 - val_loss: 2.4020 - val_accuracy: 0.6370\n",
            "Epoch 96/500\n",
            "906/906 [==============================] - 3s 4ms/step - loss: 0.6177 - accuracy: 0.7903 - val_loss: 2.5361 - val_accuracy: 0.6315\n",
            "Epoch 97/500\n",
            "906/906 [==============================] - 4s 4ms/step - loss: 0.6184 - accuracy: 0.7927 - val_loss: 2.4181 - val_accuracy: 0.6280\n",
            "Epoch 98/500\n",
            "906/906 [==============================] - 4s 5ms/step - loss: 0.6114 - accuracy: 0.7931 - val_loss: 2.5265 - val_accuracy: 0.6245\n",
            "Epoch 99/500\n",
            "906/906 [==============================] - 4s 4ms/step - loss: 0.6256 - accuracy: 0.7888 - val_loss: 2.4004 - val_accuracy: 0.6231\n",
            "Epoch 100/500\n",
            "906/906 [==============================] - 3s 4ms/step - loss: 0.6108 - accuracy: 0.7927 - val_loss: 2.5087 - val_accuracy: 0.6280\n",
            "Epoch 101/500\n",
            "906/906 [==============================] - 4s 4ms/step - loss: 0.6218 - accuracy: 0.7899 - val_loss: 2.4776 - val_accuracy: 0.6294\n",
            "Epoch 102/500\n",
            "906/906 [==============================] - 4s 5ms/step - loss: 0.6059 - accuracy: 0.7928 - val_loss: 2.5369 - val_accuracy: 0.6252\n",
            "Epoch 103/500\n",
            "906/906 [==============================] - 4s 4ms/step - loss: 0.6118 - accuracy: 0.7930 - val_loss: 2.5396 - val_accuracy: 0.6329\n",
            "Epoch 104/500\n",
            "901/906 [============================>.] - ETA: 0s - loss: 0.5936 - accuracy: 0.7973Restoring model weights from the end of the best epoch: 4.\n",
            "906/906 [==============================] - 3s 4ms/step - loss: 0.5941 - accuracy: 0.7970 - val_loss: 2.5142 - val_accuracy: 0.6266\n",
            "Epoch 104: early stopping\n"
          ]
        }
      ]
    },
    {
      "cell_type": "code",
      "source": [
        "# model.save('/content/drive/My Drive/Colab Notebooks/LegalEval/model2_INDIANLEGALBERT.h5')"
      ],
      "metadata": {
        "id": "ov3ZKJ5E6waE"
      },
      "execution_count": null,
      "outputs": []
    },
    {
      "cell_type": "code",
      "source": [
        "# import keras\n",
        "# model=keras.models.load_model('/content/drive/My Drive/Colab Notebooks/LegalEval/model2_INDIANLEGALBERT.h5')"
      ],
      "metadata": {
        "id": "jtNlEtQN_lE8"
      },
      "execution_count": null,
      "outputs": []
    },
    {
      "cell_type": "code",
      "source": [
        "y_prob=model.predict(df_val)\n",
        "flat_pred=np.argmax(y_prob,axis=1)\n"
      ],
      "metadata": {
        "colab": {
          "base_uri": "https://localhost:8080/"
        },
        "id": "MYCQLQ6WZ-ns",
        "outputId": "69857781-08a6-4672-f8ae-bf5b41396f9d"
      },
      "execution_count": 25,
      "outputs": [
        {
          "output_type": "stream",
          "name": "stdout",
          "text": [
            "90/90 [==============================] - 0s 2ms/step\n"
          ]
        }
      ]
    },
    {
      "cell_type": "code",
      "source": [
        "from sklearn.metrics import accuracy_score, classification_report, confusion_matrix\n",
        "print('Classification Report:')\n",
        "print(classification_report(flat_pred, y_val, digits=4))\n",
        "from sklearn import metrics\n",
        "print(metrics.accuracy_score(y_val, flat_pred))"
      ],
      "metadata": {
        "id": "i30nh0XIFJ9I",
        "colab": {
          "base_uri": "https://localhost:8080/"
        },
        "outputId": "771d514d-71c8-49bb-cc21-42628f1ffb59"
      },
      "execution_count": 26,
      "outputs": [
        {
          "output_type": "stream",
          "name": "stdout",
          "text": [
            "Classification Report:\n",
            "              precision    recall  f1-score   support\n",
            "\n",
            "           0     0.8577    0.5509    0.6709      1532\n",
            "           1     0.1714    0.3077    0.2202        39\n",
            "           2     0.0000    0.0000    0.0000         0\n",
            "           3     0.5879    0.6545    0.6194       521\n",
            "           4     0.7000    0.7292    0.7143        48\n",
            "           5     0.8211    0.8478    0.8342       184\n",
            "           6     0.0000    0.0000    0.0000         0\n",
            "           7     0.2254    0.7442    0.3459        43\n",
            "           8     0.5492    0.8558    0.6691       326\n",
            "           9     0.0143    1.0000    0.0282         1\n",
            "          10     0.1638    0.4750    0.2436        40\n",
            "          11     0.7692    0.6667    0.7143       105\n",
            "          12     0.7143    0.5000    0.5882        40\n",
            "\n",
            "    accuracy                         0.6283      2879\n",
            "   macro avg     0.4288    0.5640    0.4345      2879\n",
            "weighted avg     0.7351    0.6283    0.6559      2879\n",
            "\n",
            "0.6283431747134421\n"
          ]
        },
        {
          "output_type": "stream",
          "name": "stderr",
          "text": [
            "/usr/local/lib/python3.9/dist-packages/sklearn/metrics/_classification.py:1344: UndefinedMetricWarning: Recall and F-score are ill-defined and being set to 0.0 in labels with no true samples. Use `zero_division` parameter to control this behavior.\n",
            "  _warn_prf(average, modifier, msg_start, len(result))\n",
            "/usr/local/lib/python3.9/dist-packages/sklearn/metrics/_classification.py:1344: UndefinedMetricWarning: Recall and F-score are ill-defined and being set to 0.0 in labels with no true samples. Use `zero_division` parameter to control this behavior.\n",
            "  _warn_prf(average, modifier, msg_start, len(result))\n",
            "/usr/local/lib/python3.9/dist-packages/sklearn/metrics/_classification.py:1344: UndefinedMetricWarning: Recall and F-score are ill-defined and being set to 0.0 in labels with no true samples. Use `zero_division` parameter to control this behavior.\n",
            "  _warn_prf(average, modifier, msg_start, len(result))\n"
          ]
        }
      ]
    },
    {
      "cell_type": "code",
      "source": [
        "from sklearn.metrics import f1_score\n",
        "from sklearn.metrics import recall_score\n",
        "from sklearn.metrics import precision_score\n",
        "\n",
        "print(precision_score(y_val,flat_pred, average='weighted'))\n",
        "print(recall_score(y_val,flat_pred, average='weighted'))\n",
        "print(f1_score(y_val,flat_pred, average='weighted'))\n",
        "\n",
        "print(precision_score(y_val,flat_pred, average='micro'))\n",
        "print(recall_score(y_val,flat_pred, average='micro'))\n",
        "print(f1_score(y_val,flat_pred, average='micro'))\n",
        "\n",
        "print(precision_score(y_val,flat_pred, average='macro'))\n",
        "print(recall_score(y_val,flat_pred, average='macro'))\n",
        "print(f1_score(y_val,flat_pred, average='macro'))\n"
      ],
      "metadata": {
        "colab": {
          "base_uri": "https://localhost:8080/"
        },
        "id": "1_ENS3b1M2CH",
        "outputId": "33c9cef6-fcda-4788-cb06-0122416466f3"
      },
      "execution_count": 27,
      "outputs": [
        {
          "output_type": "stream",
          "name": "stdout",
          "text": [
            "0.6533521752039056\n",
            "0.6283431747134421\n",
            "0.6008276965537246\n",
            "0.6283431747134421\n",
            "0.6283431747134421\n",
            "0.6283431747134421\n",
            "0.5639838761611287\n",
            "0.42879198669829055\n",
            "0.43448671812041195\n"
          ]
        },
        {
          "output_type": "stream",
          "name": "stderr",
          "text": [
            "/usr/local/lib/python3.9/dist-packages/sklearn/metrics/_classification.py:1344: UndefinedMetricWarning: Precision is ill-defined and being set to 0.0 in labels with no predicted samples. Use `zero_division` parameter to control this behavior.\n",
            "  _warn_prf(average, modifier, msg_start, len(result))\n",
            "/usr/local/lib/python3.9/dist-packages/sklearn/metrics/_classification.py:1344: UndefinedMetricWarning: Precision is ill-defined and being set to 0.0 in labels with no predicted samples. Use `zero_division` parameter to control this behavior.\n",
            "  _warn_prf(average, modifier, msg_start, len(result))\n"
          ]
        }
      ]
    },
    {
      "cell_type": "markdown",
      "source": [
        "During testing phase, we utilized the code written below in order to make a submission."
      ],
      "metadata": {
        "id": "LIaRBxx3bIav"
      }
    },
    {
      "cell_type": "code",
      "source": [
        "#For creating the document wise embeddings.\n",
        "def bert_embeds(doc):\n",
        "    \n",
        "  np_tensor=[]\n",
        "  for i in range(len(doc)):\n",
        "\n",
        "    granola_ids = tokenizer.encode(doc[i], max_length=100)\n",
        "    granola_ids = torch.LongTensor(granola_ids)\n",
        "    granola_ids = granola_ids.to(device)\n",
        "    bert_model.eval()\n",
        "    granola_ids = granola_ids.unsqueeze(0)\n",
        "    with torch.no_grad():\n",
        "      out = bert_model(input_ids=granola_ids)\n",
        "    hidden_states = out[2]\n",
        "    sentence_embedding = torch.mean(hidden_states[-1], dim=1).squeeze()\n",
        "    np_tensor.append(sentence_embedding.cpu().numpy())\n",
        "  return np_tensor"
      ],
      "metadata": {
        "id": "S4_V8VFKi3Lq"
      },
      "execution_count": 28,
      "outputs": []
    },
    {
      "cell_type": "code",
      "source": [
        "import re\n",
        "from sklearn.metrics import precision_recall_fscore_support\n",
        "def pred_probs(doc):\n",
        "    bert_embedding=bert_embeds(doc)\n",
        "#     print(bert_embedding[0].shape)\n",
        "    y_prob=model.predict(np.asarray(bert_embedding))\n",
        "    flat_pred=np.argmax(y_prob,axis=1).flatten()\n",
        "    flat_pred_list= flat_pred.tolist()\n",
        "    # label_list=[]\n",
        "    # for key in flat_pred_list:\n",
        "    #     label_list.append(label_dict[key])\n",
        "    y_pred_string =label_enc.inverse_transform(flat_pred)\n",
        "    label= y_pred_string.tolist()\n",
        "    \n",
        "# print(label)\n",
        "    \n",
        "    return label\n",
        "    \n",
        "    "
      ],
      "metadata": {
        "id": "AyFXJmYFkby8"
      },
      "execution_count": 29,
      "outputs": []
    },
    {
      "cell_type": "code",
      "source": [
        "total_prob=[]\n",
        "for i in range(len(CleanedDevText)):\n",
        "    print(i)\n",
        "    total_prob.append(pred_probs(CleanedDevText[i]))"
      ],
      "metadata": {
        "colab": {
          "base_uri": "https://localhost:8080/"
        },
        "id": "3BQUUlGkkP1r",
        "outputId": "8c093fe1-d250-4d1c-fcab-6b625d3e940b"
      },
      "execution_count": 30,
      "outputs": [
        {
          "output_type": "stream",
          "name": "stderr",
          "text": [
            "Truncation was not explicitly activated but `max_length` is provided a specific value, please use `truncation=True` to explicitly truncate examples to max length. Defaulting to 'longest_first' truncation strategy. If you encode pairs of sequences (GLUE-style) with the tokenizer you can select this strategy more precisely by providing a specific strategy to `truncation`.\n"
          ]
        },
        {
          "output_type": "stream",
          "name": "stdout",
          "text": [
            "0\n",
            "3/3 [==============================] - 0s 3ms/step\n",
            "1\n",
            "5/5 [==============================] - 0s 3ms/step\n",
            "2\n",
            "5/5 [==============================] - 0s 2ms/step\n",
            "3\n",
            "2/2 [==============================] - 0s 5ms/step\n",
            "4\n",
            "3/3 [==============================] - 0s 7ms/step\n",
            "5\n",
            "2/2 [==============================] - 0s 5ms/step\n",
            "6\n",
            "3/3 [==============================] - 0s 3ms/step\n",
            "7\n",
            "4/4 [==============================] - 0s 3ms/step\n",
            "8\n",
            "7/7 [==============================] - 0s 2ms/step\n",
            "9\n",
            "5/5 [==============================] - 0s 3ms/step\n",
            "10\n",
            "3/3 [==============================] - 0s 5ms/step\n",
            "11\n",
            "4/4 [==============================] - 0s 4ms/step\n",
            "12\n",
            "7/7 [==============================] - 0s 2ms/step\n",
            "13\n",
            "5/5 [==============================] - 0s 2ms/step\n",
            "14\n",
            "2/2 [==============================] - 0s 5ms/step\n",
            "15\n",
            "2/2 [==============================] - 0s 5ms/step\n",
            "16\n",
            "4/4 [==============================] - 0s 3ms/step\n",
            "17\n",
            "4/4 [==============================] - 0s 4ms/step\n",
            "18\n",
            "2/2 [==============================] - 0s 5ms/step\n",
            "19\n",
            "5/5 [==============================] - 0s 3ms/step\n",
            "20\n",
            "2/2 [==============================] - 0s 8ms/step\n",
            "21\n",
            "3/3 [==============================] - 0s 3ms/step\n",
            "22\n",
            "3/3 [==============================] - 0s 4ms/step\n",
            "23\n",
            "2/2 [==============================] - 0s 3ms/step\n",
            "24\n",
            "4/4 [==============================] - 0s 3ms/step\n",
            "25\n",
            "6/6 [==============================] - 0s 2ms/step\n",
            "26\n",
            "2/2 [==============================] - 0s 4ms/step\n",
            "27\n",
            "2/2 [==============================] - 0s 6ms/step\n",
            "28\n",
            "2/2 [==============================] - 0s 4ms/step\n",
            "29\n",
            "1/1 [==============================] - 0s 21ms/step\n"
          ]
        }
      ]
    },
    {
      "cell_type": "code",
      "source": [
        "for i in range(len(total_prob)):\n",
        "  for j in range(len(total_prob[i])):\n",
        "    total_prob[i][j]=total_prob[i][j].upper()"
      ],
      "metadata": {
        "id": "VDZ-6Jm8ryIq"
      },
      "execution_count": 31,
      "outputs": []
    },
    {
      "cell_type": "code",
      "source": [
        "# for i in range(len(total_prob)):\n",
        "#   for j in range(len(total_prob[i])):\n",
        "#     print(f'Indices: {i},{j}')\n",
        "#     test_data[i]['annotations'][0]['result'][j]['value']['labels'][0] = total_prob[i][j]\n",
        "#     print(test_data[i]['annotations'][0]['result'][j]['value']['labels'][0])\n",
        "    "
      ],
      "metadata": {
        "id": "tRbq5jqPJbps"
      },
      "execution_count": 33,
      "outputs": []
    },
    {
      "cell_type": "code",
      "source": [
        "# with open(\"/content/drive/My Drive/Colab Notebooks/LegalEval/RR_TEST_DATA_FS_With_Legal_BERT_SentwisePredictions.json\", \"w\") as outfile:\n",
        "#     json.dump(test_data, outfile)"
      ],
      "metadata": {
        "id": "RWXPIh1Jll6K"
      },
      "execution_count": null,
      "outputs": []
    }
  ],
  "metadata": {
    "accelerator": "GPU",
    "colab": {
      "machine_shape": "hm",
      "provenance": []
    },
    "gpuClass": "standard",
    "kernelspec": {
      "display_name": "Python 3",
      "name": "python3"
    },
    "language_info": {
      "name": "python"
    },
    "widgets": {
      "application/vnd.jupyter.widget-state+json": {
        "e2eb29387b4f48c1977b7418fca1011f": {
          "model_module": "@jupyter-widgets/controls",
          "model_name": "HBoxModel",
          "model_module_version": "1.5.0",
          "state": {
            "_dom_classes": [],
            "_model_module": "@jupyter-widgets/controls",
            "_model_module_version": "1.5.0",
            "_model_name": "HBoxModel",
            "_view_count": null,
            "_view_module": "@jupyter-widgets/controls",
            "_view_module_version": "1.5.0",
            "_view_name": "HBoxView",
            "box_style": "",
            "children": [
              "IPY_MODEL_ebc8621c0241487c9c18d48def9a7660",
              "IPY_MODEL_b08ab98d140942f09ba0a81477fc9575",
              "IPY_MODEL_8b1ae3b49afb464db22ba37380d93eff"
            ],
            "layout": "IPY_MODEL_f7c8824321fa4c7389bad97451304163"
          }
        },
        "ebc8621c0241487c9c18d48def9a7660": {
          "model_module": "@jupyter-widgets/controls",
          "model_name": "HTMLModel",
          "model_module_version": "1.5.0",
          "state": {
            "_dom_classes": [],
            "_model_module": "@jupyter-widgets/controls",
            "_model_module_version": "1.5.0",
            "_model_name": "HTMLModel",
            "_view_count": null,
            "_view_module": "@jupyter-widgets/controls",
            "_view_module_version": "1.5.0",
            "_view_name": "HTMLView",
            "description": "",
            "description_tooltip": null,
            "layout": "IPY_MODEL_b4fc96986d4f4b1db6ff6f42a999ac1e",
            "placeholder": "​",
            "style": "IPY_MODEL_e12119bba1c14bf2a3b1913a3cb49189",
            "value": "Downloading (…)okenizer_config.json: 100%"
          }
        },
        "b08ab98d140942f09ba0a81477fc9575": {
          "model_module": "@jupyter-widgets/controls",
          "model_name": "FloatProgressModel",
          "model_module_version": "1.5.0",
          "state": {
            "_dom_classes": [],
            "_model_module": "@jupyter-widgets/controls",
            "_model_module_version": "1.5.0",
            "_model_name": "FloatProgressModel",
            "_view_count": null,
            "_view_module": "@jupyter-widgets/controls",
            "_view_module_version": "1.5.0",
            "_view_name": "ProgressView",
            "bar_style": "success",
            "description": "",
            "description_tooltip": null,
            "layout": "IPY_MODEL_af298ccd0f4e4fb99010cc262b20972c",
            "max": 516,
            "min": 0,
            "orientation": "horizontal",
            "style": "IPY_MODEL_dc85a9aad37b433aa787567d41b500fa",
            "value": 516
          }
        },
        "8b1ae3b49afb464db22ba37380d93eff": {
          "model_module": "@jupyter-widgets/controls",
          "model_name": "HTMLModel",
          "model_module_version": "1.5.0",
          "state": {
            "_dom_classes": [],
            "_model_module": "@jupyter-widgets/controls",
            "_model_module_version": "1.5.0",
            "_model_name": "HTMLModel",
            "_view_count": null,
            "_view_module": "@jupyter-widgets/controls",
            "_view_module_version": "1.5.0",
            "_view_name": "HTMLView",
            "description": "",
            "description_tooltip": null,
            "layout": "IPY_MODEL_0484b75af09d4a159d423d1a6793183b",
            "placeholder": "​",
            "style": "IPY_MODEL_6d756716041b458b98a4f8bc3af21545",
            "value": " 516/516 [00:00&lt;00:00, 17.5kB/s]"
          }
        },
        "f7c8824321fa4c7389bad97451304163": {
          "model_module": "@jupyter-widgets/base",
          "model_name": "LayoutModel",
          "model_module_version": "1.2.0",
          "state": {
            "_model_module": "@jupyter-widgets/base",
            "_model_module_version": "1.2.0",
            "_model_name": "LayoutModel",
            "_view_count": null,
            "_view_module": "@jupyter-widgets/base",
            "_view_module_version": "1.2.0",
            "_view_name": "LayoutView",
            "align_content": null,
            "align_items": null,
            "align_self": null,
            "border": null,
            "bottom": null,
            "display": null,
            "flex": null,
            "flex_flow": null,
            "grid_area": null,
            "grid_auto_columns": null,
            "grid_auto_flow": null,
            "grid_auto_rows": null,
            "grid_column": null,
            "grid_gap": null,
            "grid_row": null,
            "grid_template_areas": null,
            "grid_template_columns": null,
            "grid_template_rows": null,
            "height": null,
            "justify_content": null,
            "justify_items": null,
            "left": null,
            "margin": null,
            "max_height": null,
            "max_width": null,
            "min_height": null,
            "min_width": null,
            "object_fit": null,
            "object_position": null,
            "order": null,
            "overflow": null,
            "overflow_x": null,
            "overflow_y": null,
            "padding": null,
            "right": null,
            "top": null,
            "visibility": null,
            "width": null
          }
        },
        "b4fc96986d4f4b1db6ff6f42a999ac1e": {
          "model_module": "@jupyter-widgets/base",
          "model_name": "LayoutModel",
          "model_module_version": "1.2.0",
          "state": {
            "_model_module": "@jupyter-widgets/base",
            "_model_module_version": "1.2.0",
            "_model_name": "LayoutModel",
            "_view_count": null,
            "_view_module": "@jupyter-widgets/base",
            "_view_module_version": "1.2.0",
            "_view_name": "LayoutView",
            "align_content": null,
            "align_items": null,
            "align_self": null,
            "border": null,
            "bottom": null,
            "display": null,
            "flex": null,
            "flex_flow": null,
            "grid_area": null,
            "grid_auto_columns": null,
            "grid_auto_flow": null,
            "grid_auto_rows": null,
            "grid_column": null,
            "grid_gap": null,
            "grid_row": null,
            "grid_template_areas": null,
            "grid_template_columns": null,
            "grid_template_rows": null,
            "height": null,
            "justify_content": null,
            "justify_items": null,
            "left": null,
            "margin": null,
            "max_height": null,
            "max_width": null,
            "min_height": null,
            "min_width": null,
            "object_fit": null,
            "object_position": null,
            "order": null,
            "overflow": null,
            "overflow_x": null,
            "overflow_y": null,
            "padding": null,
            "right": null,
            "top": null,
            "visibility": null,
            "width": null
          }
        },
        "e12119bba1c14bf2a3b1913a3cb49189": {
          "model_module": "@jupyter-widgets/controls",
          "model_name": "DescriptionStyleModel",
          "model_module_version": "1.5.0",
          "state": {
            "_model_module": "@jupyter-widgets/controls",
            "_model_module_version": "1.5.0",
            "_model_name": "DescriptionStyleModel",
            "_view_count": null,
            "_view_module": "@jupyter-widgets/base",
            "_view_module_version": "1.2.0",
            "_view_name": "StyleView",
            "description_width": ""
          }
        },
        "af298ccd0f4e4fb99010cc262b20972c": {
          "model_module": "@jupyter-widgets/base",
          "model_name": "LayoutModel",
          "model_module_version": "1.2.0",
          "state": {
            "_model_module": "@jupyter-widgets/base",
            "_model_module_version": "1.2.0",
            "_model_name": "LayoutModel",
            "_view_count": null,
            "_view_module": "@jupyter-widgets/base",
            "_view_module_version": "1.2.0",
            "_view_name": "LayoutView",
            "align_content": null,
            "align_items": null,
            "align_self": null,
            "border": null,
            "bottom": null,
            "display": null,
            "flex": null,
            "flex_flow": null,
            "grid_area": null,
            "grid_auto_columns": null,
            "grid_auto_flow": null,
            "grid_auto_rows": null,
            "grid_column": null,
            "grid_gap": null,
            "grid_row": null,
            "grid_template_areas": null,
            "grid_template_columns": null,
            "grid_template_rows": null,
            "height": null,
            "justify_content": null,
            "justify_items": null,
            "left": null,
            "margin": null,
            "max_height": null,
            "max_width": null,
            "min_height": null,
            "min_width": null,
            "object_fit": null,
            "object_position": null,
            "order": null,
            "overflow": null,
            "overflow_x": null,
            "overflow_y": null,
            "padding": null,
            "right": null,
            "top": null,
            "visibility": null,
            "width": null
          }
        },
        "dc85a9aad37b433aa787567d41b500fa": {
          "model_module": "@jupyter-widgets/controls",
          "model_name": "ProgressStyleModel",
          "model_module_version": "1.5.0",
          "state": {
            "_model_module": "@jupyter-widgets/controls",
            "_model_module_version": "1.5.0",
            "_model_name": "ProgressStyleModel",
            "_view_count": null,
            "_view_module": "@jupyter-widgets/base",
            "_view_module_version": "1.2.0",
            "_view_name": "StyleView",
            "bar_color": null,
            "description_width": ""
          }
        },
        "0484b75af09d4a159d423d1a6793183b": {
          "model_module": "@jupyter-widgets/base",
          "model_name": "LayoutModel",
          "model_module_version": "1.2.0",
          "state": {
            "_model_module": "@jupyter-widgets/base",
            "_model_module_version": "1.2.0",
            "_model_name": "LayoutModel",
            "_view_count": null,
            "_view_module": "@jupyter-widgets/base",
            "_view_module_version": "1.2.0",
            "_view_name": "LayoutView",
            "align_content": null,
            "align_items": null,
            "align_self": null,
            "border": null,
            "bottom": null,
            "display": null,
            "flex": null,
            "flex_flow": null,
            "grid_area": null,
            "grid_auto_columns": null,
            "grid_auto_flow": null,
            "grid_auto_rows": null,
            "grid_column": null,
            "grid_gap": null,
            "grid_row": null,
            "grid_template_areas": null,
            "grid_template_columns": null,
            "grid_template_rows": null,
            "height": null,
            "justify_content": null,
            "justify_items": null,
            "left": null,
            "margin": null,
            "max_height": null,
            "max_width": null,
            "min_height": null,
            "min_width": null,
            "object_fit": null,
            "object_position": null,
            "order": null,
            "overflow": null,
            "overflow_x": null,
            "overflow_y": null,
            "padding": null,
            "right": null,
            "top": null,
            "visibility": null,
            "width": null
          }
        },
        "6d756716041b458b98a4f8bc3af21545": {
          "model_module": "@jupyter-widgets/controls",
          "model_name": "DescriptionStyleModel",
          "model_module_version": "1.5.0",
          "state": {
            "_model_module": "@jupyter-widgets/controls",
            "_model_module_version": "1.5.0",
            "_model_name": "DescriptionStyleModel",
            "_view_count": null,
            "_view_module": "@jupyter-widgets/base",
            "_view_module_version": "1.2.0",
            "_view_name": "StyleView",
            "description_width": ""
          }
        },
        "4ad0a3d625c244c3932f1b64638ee2f9": {
          "model_module": "@jupyter-widgets/controls",
          "model_name": "HBoxModel",
          "model_module_version": "1.5.0",
          "state": {
            "_dom_classes": [],
            "_model_module": "@jupyter-widgets/controls",
            "_model_module_version": "1.5.0",
            "_model_name": "HBoxModel",
            "_view_count": null,
            "_view_module": "@jupyter-widgets/controls",
            "_view_module_version": "1.5.0",
            "_view_name": "HBoxView",
            "box_style": "",
            "children": [
              "IPY_MODEL_5bf32df5fe334c698d9e087648134264",
              "IPY_MODEL_fe703fe825cd42929f39f178f7844156",
              "IPY_MODEL_8274f864848c4dd388a4603daa7f9628"
            ],
            "layout": "IPY_MODEL_58d6c76333c941459b558f90280ad8fc"
          }
        },
        "5bf32df5fe334c698d9e087648134264": {
          "model_module": "@jupyter-widgets/controls",
          "model_name": "HTMLModel",
          "model_module_version": "1.5.0",
          "state": {
            "_dom_classes": [],
            "_model_module": "@jupyter-widgets/controls",
            "_model_module_version": "1.5.0",
            "_model_name": "HTMLModel",
            "_view_count": null,
            "_view_module": "@jupyter-widgets/controls",
            "_view_module_version": "1.5.0",
            "_view_name": "HTMLView",
            "description": "",
            "description_tooltip": null,
            "layout": "IPY_MODEL_29a9d7bcfd9a446dad888229c8888b94",
            "placeholder": "​",
            "style": "IPY_MODEL_779276c9fd644cc79c48c381eac2412c",
            "value": "Downloading (…)solve/main/vocab.txt: 100%"
          }
        },
        "fe703fe825cd42929f39f178f7844156": {
          "model_module": "@jupyter-widgets/controls",
          "model_name": "FloatProgressModel",
          "model_module_version": "1.5.0",
          "state": {
            "_dom_classes": [],
            "_model_module": "@jupyter-widgets/controls",
            "_model_module_version": "1.5.0",
            "_model_name": "FloatProgressModel",
            "_view_count": null,
            "_view_module": "@jupyter-widgets/controls",
            "_view_module_version": "1.5.0",
            "_view_name": "ProgressView",
            "bar_style": "success",
            "description": "",
            "description_tooltip": null,
            "layout": "IPY_MODEL_3d740277525b435eb12ebea171c3eff3",
            "max": 221793,
            "min": 0,
            "orientation": "horizontal",
            "style": "IPY_MODEL_d87112c5a3c14af6a5c8f2c6e8b2ebd2",
            "value": 221793
          }
        },
        "8274f864848c4dd388a4603daa7f9628": {
          "model_module": "@jupyter-widgets/controls",
          "model_name": "HTMLModel",
          "model_module_version": "1.5.0",
          "state": {
            "_dom_classes": [],
            "_model_module": "@jupyter-widgets/controls",
            "_model_module_version": "1.5.0",
            "_model_name": "HTMLModel",
            "_view_count": null,
            "_view_module": "@jupyter-widgets/controls",
            "_view_module_version": "1.5.0",
            "_view_name": "HTMLView",
            "description": "",
            "description_tooltip": null,
            "layout": "IPY_MODEL_783d8673c672415baad11f649ec7e3fc",
            "placeholder": "​",
            "style": "IPY_MODEL_830b6980c33149a8a686bcc979e8be76",
            "value": " 222k/222k [00:00&lt;00:00, 3.48MB/s]"
          }
        },
        "58d6c76333c941459b558f90280ad8fc": {
          "model_module": "@jupyter-widgets/base",
          "model_name": "LayoutModel",
          "model_module_version": "1.2.0",
          "state": {
            "_model_module": "@jupyter-widgets/base",
            "_model_module_version": "1.2.0",
            "_model_name": "LayoutModel",
            "_view_count": null,
            "_view_module": "@jupyter-widgets/base",
            "_view_module_version": "1.2.0",
            "_view_name": "LayoutView",
            "align_content": null,
            "align_items": null,
            "align_self": null,
            "border": null,
            "bottom": null,
            "display": null,
            "flex": null,
            "flex_flow": null,
            "grid_area": null,
            "grid_auto_columns": null,
            "grid_auto_flow": null,
            "grid_auto_rows": null,
            "grid_column": null,
            "grid_gap": null,
            "grid_row": null,
            "grid_template_areas": null,
            "grid_template_columns": null,
            "grid_template_rows": null,
            "height": null,
            "justify_content": null,
            "justify_items": null,
            "left": null,
            "margin": null,
            "max_height": null,
            "max_width": null,
            "min_height": null,
            "min_width": null,
            "object_fit": null,
            "object_position": null,
            "order": null,
            "overflow": null,
            "overflow_x": null,
            "overflow_y": null,
            "padding": null,
            "right": null,
            "top": null,
            "visibility": null,
            "width": null
          }
        },
        "29a9d7bcfd9a446dad888229c8888b94": {
          "model_module": "@jupyter-widgets/base",
          "model_name": "LayoutModel",
          "model_module_version": "1.2.0",
          "state": {
            "_model_module": "@jupyter-widgets/base",
            "_model_module_version": "1.2.0",
            "_model_name": "LayoutModel",
            "_view_count": null,
            "_view_module": "@jupyter-widgets/base",
            "_view_module_version": "1.2.0",
            "_view_name": "LayoutView",
            "align_content": null,
            "align_items": null,
            "align_self": null,
            "border": null,
            "bottom": null,
            "display": null,
            "flex": null,
            "flex_flow": null,
            "grid_area": null,
            "grid_auto_columns": null,
            "grid_auto_flow": null,
            "grid_auto_rows": null,
            "grid_column": null,
            "grid_gap": null,
            "grid_row": null,
            "grid_template_areas": null,
            "grid_template_columns": null,
            "grid_template_rows": null,
            "height": null,
            "justify_content": null,
            "justify_items": null,
            "left": null,
            "margin": null,
            "max_height": null,
            "max_width": null,
            "min_height": null,
            "min_width": null,
            "object_fit": null,
            "object_position": null,
            "order": null,
            "overflow": null,
            "overflow_x": null,
            "overflow_y": null,
            "padding": null,
            "right": null,
            "top": null,
            "visibility": null,
            "width": null
          }
        },
        "779276c9fd644cc79c48c381eac2412c": {
          "model_module": "@jupyter-widgets/controls",
          "model_name": "DescriptionStyleModel",
          "model_module_version": "1.5.0",
          "state": {
            "_model_module": "@jupyter-widgets/controls",
            "_model_module_version": "1.5.0",
            "_model_name": "DescriptionStyleModel",
            "_view_count": null,
            "_view_module": "@jupyter-widgets/base",
            "_view_module_version": "1.2.0",
            "_view_name": "StyleView",
            "description_width": ""
          }
        },
        "3d740277525b435eb12ebea171c3eff3": {
          "model_module": "@jupyter-widgets/base",
          "model_name": "LayoutModel",
          "model_module_version": "1.2.0",
          "state": {
            "_model_module": "@jupyter-widgets/base",
            "_model_module_version": "1.2.0",
            "_model_name": "LayoutModel",
            "_view_count": null,
            "_view_module": "@jupyter-widgets/base",
            "_view_module_version": "1.2.0",
            "_view_name": "LayoutView",
            "align_content": null,
            "align_items": null,
            "align_self": null,
            "border": null,
            "bottom": null,
            "display": null,
            "flex": null,
            "flex_flow": null,
            "grid_area": null,
            "grid_auto_columns": null,
            "grid_auto_flow": null,
            "grid_auto_rows": null,
            "grid_column": null,
            "grid_gap": null,
            "grid_row": null,
            "grid_template_areas": null,
            "grid_template_columns": null,
            "grid_template_rows": null,
            "height": null,
            "justify_content": null,
            "justify_items": null,
            "left": null,
            "margin": null,
            "max_height": null,
            "max_width": null,
            "min_height": null,
            "min_width": null,
            "object_fit": null,
            "object_position": null,
            "order": null,
            "overflow": null,
            "overflow_x": null,
            "overflow_y": null,
            "padding": null,
            "right": null,
            "top": null,
            "visibility": null,
            "width": null
          }
        },
        "d87112c5a3c14af6a5c8f2c6e8b2ebd2": {
          "model_module": "@jupyter-widgets/controls",
          "model_name": "ProgressStyleModel",
          "model_module_version": "1.5.0",
          "state": {
            "_model_module": "@jupyter-widgets/controls",
            "_model_module_version": "1.5.0",
            "_model_name": "ProgressStyleModel",
            "_view_count": null,
            "_view_module": "@jupyter-widgets/base",
            "_view_module_version": "1.2.0",
            "_view_name": "StyleView",
            "bar_color": null,
            "description_width": ""
          }
        },
        "783d8673c672415baad11f649ec7e3fc": {
          "model_module": "@jupyter-widgets/base",
          "model_name": "LayoutModel",
          "model_module_version": "1.2.0",
          "state": {
            "_model_module": "@jupyter-widgets/base",
            "_model_module_version": "1.2.0",
            "_model_name": "LayoutModel",
            "_view_count": null,
            "_view_module": "@jupyter-widgets/base",
            "_view_module_version": "1.2.0",
            "_view_name": "LayoutView",
            "align_content": null,
            "align_items": null,
            "align_self": null,
            "border": null,
            "bottom": null,
            "display": null,
            "flex": null,
            "flex_flow": null,
            "grid_area": null,
            "grid_auto_columns": null,
            "grid_auto_flow": null,
            "grid_auto_rows": null,
            "grid_column": null,
            "grid_gap": null,
            "grid_row": null,
            "grid_template_areas": null,
            "grid_template_columns": null,
            "grid_template_rows": null,
            "height": null,
            "justify_content": null,
            "justify_items": null,
            "left": null,
            "margin": null,
            "max_height": null,
            "max_width": null,
            "min_height": null,
            "min_width": null,
            "object_fit": null,
            "object_position": null,
            "order": null,
            "overflow": null,
            "overflow_x": null,
            "overflow_y": null,
            "padding": null,
            "right": null,
            "top": null,
            "visibility": null,
            "width": null
          }
        },
        "830b6980c33149a8a686bcc979e8be76": {
          "model_module": "@jupyter-widgets/controls",
          "model_name": "DescriptionStyleModel",
          "model_module_version": "1.5.0",
          "state": {
            "_model_module": "@jupyter-widgets/controls",
            "_model_module_version": "1.5.0",
            "_model_name": "DescriptionStyleModel",
            "_view_count": null,
            "_view_module": "@jupyter-widgets/base",
            "_view_module_version": "1.2.0",
            "_view_name": "StyleView",
            "description_width": ""
          }
        },
        "8d0d910f39d847f9a37060979e5e2382": {
          "model_module": "@jupyter-widgets/controls",
          "model_name": "HBoxModel",
          "model_module_version": "1.5.0",
          "state": {
            "_dom_classes": [],
            "_model_module": "@jupyter-widgets/controls",
            "_model_module_version": "1.5.0",
            "_model_name": "HBoxModel",
            "_view_count": null,
            "_view_module": "@jupyter-widgets/controls",
            "_view_module_version": "1.5.0",
            "_view_name": "HBoxView",
            "box_style": "",
            "children": [
              "IPY_MODEL_e9328606fd6e4e99961afe5a3d1bd092",
              "IPY_MODEL_a8d53386799a4051bedd4da56d315227",
              "IPY_MODEL_4d2aea79094e46ed947e0bcf3e1a2244"
            ],
            "layout": "IPY_MODEL_c1559100726d4586942be67c96867b2d"
          }
        },
        "e9328606fd6e4e99961afe5a3d1bd092": {
          "model_module": "@jupyter-widgets/controls",
          "model_name": "HTMLModel",
          "model_module_version": "1.5.0",
          "state": {
            "_dom_classes": [],
            "_model_module": "@jupyter-widgets/controls",
            "_model_module_version": "1.5.0",
            "_model_name": "HTMLModel",
            "_view_count": null,
            "_view_module": "@jupyter-widgets/controls",
            "_view_module_version": "1.5.0",
            "_view_name": "HTMLView",
            "description": "",
            "description_tooltip": null,
            "layout": "IPY_MODEL_f8dd221061244a2a90a0c930c936bb7a",
            "placeholder": "​",
            "style": "IPY_MODEL_84d0118740054afd90f5f539d30e282c",
            "value": "Downloading (…)cial_tokens_map.json: 100%"
          }
        },
        "a8d53386799a4051bedd4da56d315227": {
          "model_module": "@jupyter-widgets/controls",
          "model_name": "FloatProgressModel",
          "model_module_version": "1.5.0",
          "state": {
            "_dom_classes": [],
            "_model_module": "@jupyter-widgets/controls",
            "_model_module_version": "1.5.0",
            "_model_name": "FloatProgressModel",
            "_view_count": null,
            "_view_module": "@jupyter-widgets/controls",
            "_view_module_version": "1.5.0",
            "_view_name": "ProgressView",
            "bar_style": "success",
            "description": "",
            "description_tooltip": null,
            "layout": "IPY_MODEL_1ed772cc08144712922131fbe7da13f1",
            "max": 112,
            "min": 0,
            "orientation": "horizontal",
            "style": "IPY_MODEL_fffdf202d8b54b789669698ff5cc11c8",
            "value": 112
          }
        },
        "4d2aea79094e46ed947e0bcf3e1a2244": {
          "model_module": "@jupyter-widgets/controls",
          "model_name": "HTMLModel",
          "model_module_version": "1.5.0",
          "state": {
            "_dom_classes": [],
            "_model_module": "@jupyter-widgets/controls",
            "_model_module_version": "1.5.0",
            "_model_name": "HTMLModel",
            "_view_count": null,
            "_view_module": "@jupyter-widgets/controls",
            "_view_module_version": "1.5.0",
            "_view_name": "HTMLView",
            "description": "",
            "description_tooltip": null,
            "layout": "IPY_MODEL_7eba0b045fc94fe5b14b01c13070d09a",
            "placeholder": "​",
            "style": "IPY_MODEL_d710c1625fd54c65beec89d094840a7e",
            "value": " 112/112 [00:00&lt;00:00, 4.38kB/s]"
          }
        },
        "c1559100726d4586942be67c96867b2d": {
          "model_module": "@jupyter-widgets/base",
          "model_name": "LayoutModel",
          "model_module_version": "1.2.0",
          "state": {
            "_model_module": "@jupyter-widgets/base",
            "_model_module_version": "1.2.0",
            "_model_name": "LayoutModel",
            "_view_count": null,
            "_view_module": "@jupyter-widgets/base",
            "_view_module_version": "1.2.0",
            "_view_name": "LayoutView",
            "align_content": null,
            "align_items": null,
            "align_self": null,
            "border": null,
            "bottom": null,
            "display": null,
            "flex": null,
            "flex_flow": null,
            "grid_area": null,
            "grid_auto_columns": null,
            "grid_auto_flow": null,
            "grid_auto_rows": null,
            "grid_column": null,
            "grid_gap": null,
            "grid_row": null,
            "grid_template_areas": null,
            "grid_template_columns": null,
            "grid_template_rows": null,
            "height": null,
            "justify_content": null,
            "justify_items": null,
            "left": null,
            "margin": null,
            "max_height": null,
            "max_width": null,
            "min_height": null,
            "min_width": null,
            "object_fit": null,
            "object_position": null,
            "order": null,
            "overflow": null,
            "overflow_x": null,
            "overflow_y": null,
            "padding": null,
            "right": null,
            "top": null,
            "visibility": null,
            "width": null
          }
        },
        "f8dd221061244a2a90a0c930c936bb7a": {
          "model_module": "@jupyter-widgets/base",
          "model_name": "LayoutModel",
          "model_module_version": "1.2.0",
          "state": {
            "_model_module": "@jupyter-widgets/base",
            "_model_module_version": "1.2.0",
            "_model_name": "LayoutModel",
            "_view_count": null,
            "_view_module": "@jupyter-widgets/base",
            "_view_module_version": "1.2.0",
            "_view_name": "LayoutView",
            "align_content": null,
            "align_items": null,
            "align_self": null,
            "border": null,
            "bottom": null,
            "display": null,
            "flex": null,
            "flex_flow": null,
            "grid_area": null,
            "grid_auto_columns": null,
            "grid_auto_flow": null,
            "grid_auto_rows": null,
            "grid_column": null,
            "grid_gap": null,
            "grid_row": null,
            "grid_template_areas": null,
            "grid_template_columns": null,
            "grid_template_rows": null,
            "height": null,
            "justify_content": null,
            "justify_items": null,
            "left": null,
            "margin": null,
            "max_height": null,
            "max_width": null,
            "min_height": null,
            "min_width": null,
            "object_fit": null,
            "object_position": null,
            "order": null,
            "overflow": null,
            "overflow_x": null,
            "overflow_y": null,
            "padding": null,
            "right": null,
            "top": null,
            "visibility": null,
            "width": null
          }
        },
        "84d0118740054afd90f5f539d30e282c": {
          "model_module": "@jupyter-widgets/controls",
          "model_name": "DescriptionStyleModel",
          "model_module_version": "1.5.0",
          "state": {
            "_model_module": "@jupyter-widgets/controls",
            "_model_module_version": "1.5.0",
            "_model_name": "DescriptionStyleModel",
            "_view_count": null,
            "_view_module": "@jupyter-widgets/base",
            "_view_module_version": "1.2.0",
            "_view_name": "StyleView",
            "description_width": ""
          }
        },
        "1ed772cc08144712922131fbe7da13f1": {
          "model_module": "@jupyter-widgets/base",
          "model_name": "LayoutModel",
          "model_module_version": "1.2.0",
          "state": {
            "_model_module": "@jupyter-widgets/base",
            "_model_module_version": "1.2.0",
            "_model_name": "LayoutModel",
            "_view_count": null,
            "_view_module": "@jupyter-widgets/base",
            "_view_module_version": "1.2.0",
            "_view_name": "LayoutView",
            "align_content": null,
            "align_items": null,
            "align_self": null,
            "border": null,
            "bottom": null,
            "display": null,
            "flex": null,
            "flex_flow": null,
            "grid_area": null,
            "grid_auto_columns": null,
            "grid_auto_flow": null,
            "grid_auto_rows": null,
            "grid_column": null,
            "grid_gap": null,
            "grid_row": null,
            "grid_template_areas": null,
            "grid_template_columns": null,
            "grid_template_rows": null,
            "height": null,
            "justify_content": null,
            "justify_items": null,
            "left": null,
            "margin": null,
            "max_height": null,
            "max_width": null,
            "min_height": null,
            "min_width": null,
            "object_fit": null,
            "object_position": null,
            "order": null,
            "overflow": null,
            "overflow_x": null,
            "overflow_y": null,
            "padding": null,
            "right": null,
            "top": null,
            "visibility": null,
            "width": null
          }
        },
        "fffdf202d8b54b789669698ff5cc11c8": {
          "model_module": "@jupyter-widgets/controls",
          "model_name": "ProgressStyleModel",
          "model_module_version": "1.5.0",
          "state": {
            "_model_module": "@jupyter-widgets/controls",
            "_model_module_version": "1.5.0",
            "_model_name": "ProgressStyleModel",
            "_view_count": null,
            "_view_module": "@jupyter-widgets/base",
            "_view_module_version": "1.2.0",
            "_view_name": "StyleView",
            "bar_color": null,
            "description_width": ""
          }
        },
        "7eba0b045fc94fe5b14b01c13070d09a": {
          "model_module": "@jupyter-widgets/base",
          "model_name": "LayoutModel",
          "model_module_version": "1.2.0",
          "state": {
            "_model_module": "@jupyter-widgets/base",
            "_model_module_version": "1.2.0",
            "_model_name": "LayoutModel",
            "_view_count": null,
            "_view_module": "@jupyter-widgets/base",
            "_view_module_version": "1.2.0",
            "_view_name": "LayoutView",
            "align_content": null,
            "align_items": null,
            "align_self": null,
            "border": null,
            "bottom": null,
            "display": null,
            "flex": null,
            "flex_flow": null,
            "grid_area": null,
            "grid_auto_columns": null,
            "grid_auto_flow": null,
            "grid_auto_rows": null,
            "grid_column": null,
            "grid_gap": null,
            "grid_row": null,
            "grid_template_areas": null,
            "grid_template_columns": null,
            "grid_template_rows": null,
            "height": null,
            "justify_content": null,
            "justify_items": null,
            "left": null,
            "margin": null,
            "max_height": null,
            "max_width": null,
            "min_height": null,
            "min_width": null,
            "object_fit": null,
            "object_position": null,
            "order": null,
            "overflow": null,
            "overflow_x": null,
            "overflow_y": null,
            "padding": null,
            "right": null,
            "top": null,
            "visibility": null,
            "width": null
          }
        },
        "d710c1625fd54c65beec89d094840a7e": {
          "model_module": "@jupyter-widgets/controls",
          "model_name": "DescriptionStyleModel",
          "model_module_version": "1.5.0",
          "state": {
            "_model_module": "@jupyter-widgets/controls",
            "_model_module_version": "1.5.0",
            "_model_name": "DescriptionStyleModel",
            "_view_count": null,
            "_view_module": "@jupyter-widgets/base",
            "_view_module_version": "1.2.0",
            "_view_name": "StyleView",
            "description_width": ""
          }
        },
        "b3357b56d18847dd9f653358dd2c8cda": {
          "model_module": "@jupyter-widgets/controls",
          "model_name": "HBoxModel",
          "model_module_version": "1.5.0",
          "state": {
            "_dom_classes": [],
            "_model_module": "@jupyter-widgets/controls",
            "_model_module_version": "1.5.0",
            "_model_name": "HBoxModel",
            "_view_count": null,
            "_view_module": "@jupyter-widgets/controls",
            "_view_module_version": "1.5.0",
            "_view_name": "HBoxView",
            "box_style": "",
            "children": [
              "IPY_MODEL_00e94a389e5e4fe79d96a3f7a37dff7d",
              "IPY_MODEL_9661c0d0eaf44b9f89153a0966f6e808",
              "IPY_MODEL_ca5bf27a596946d3be11fb17e24bf2f4"
            ],
            "layout": "IPY_MODEL_099f47f9d20c4417865b75de387eba54"
          }
        },
        "00e94a389e5e4fe79d96a3f7a37dff7d": {
          "model_module": "@jupyter-widgets/controls",
          "model_name": "HTMLModel",
          "model_module_version": "1.5.0",
          "state": {
            "_dom_classes": [],
            "_model_module": "@jupyter-widgets/controls",
            "_model_module_version": "1.5.0",
            "_model_name": "HTMLModel",
            "_view_count": null,
            "_view_module": "@jupyter-widgets/controls",
            "_view_module_version": "1.5.0",
            "_view_name": "HTMLView",
            "description": "",
            "description_tooltip": null,
            "layout": "IPY_MODEL_566d0067e7fa4be9869b6d62eb31d1e5",
            "placeholder": "​",
            "style": "IPY_MODEL_721af17f6d1a4bfcbb0ccf2a811864ed",
            "value": "Downloading (…)lve/main/config.json: 100%"
          }
        },
        "9661c0d0eaf44b9f89153a0966f6e808": {
          "model_module": "@jupyter-widgets/controls",
          "model_name": "FloatProgressModel",
          "model_module_version": "1.5.0",
          "state": {
            "_dom_classes": [],
            "_model_module": "@jupyter-widgets/controls",
            "_model_module_version": "1.5.0",
            "_model_name": "FloatProgressModel",
            "_view_count": null,
            "_view_module": "@jupyter-widgets/controls",
            "_view_module_version": "1.5.0",
            "_view_name": "ProgressView",
            "bar_style": "success",
            "description": "",
            "description_tooltip": null,
            "layout": "IPY_MODEL_0976e47d5abd4b7797444e6502398644",
            "max": 671,
            "min": 0,
            "orientation": "horizontal",
            "style": "IPY_MODEL_040844a846f0481cbb3cb79943f16ee1",
            "value": 671
          }
        },
        "ca5bf27a596946d3be11fb17e24bf2f4": {
          "model_module": "@jupyter-widgets/controls",
          "model_name": "HTMLModel",
          "model_module_version": "1.5.0",
          "state": {
            "_dom_classes": [],
            "_model_module": "@jupyter-widgets/controls",
            "_model_module_version": "1.5.0",
            "_model_name": "HTMLModel",
            "_view_count": null,
            "_view_module": "@jupyter-widgets/controls",
            "_view_module_version": "1.5.0",
            "_view_name": "HTMLView",
            "description": "",
            "description_tooltip": null,
            "layout": "IPY_MODEL_f121162e77eb4aee9f75888d3b31d84c",
            "placeholder": "​",
            "style": "IPY_MODEL_74d4685dc4a24b7091623e1864b28496",
            "value": " 671/671 [00:00&lt;00:00, 23.5kB/s]"
          }
        },
        "099f47f9d20c4417865b75de387eba54": {
          "model_module": "@jupyter-widgets/base",
          "model_name": "LayoutModel",
          "model_module_version": "1.2.0",
          "state": {
            "_model_module": "@jupyter-widgets/base",
            "_model_module_version": "1.2.0",
            "_model_name": "LayoutModel",
            "_view_count": null,
            "_view_module": "@jupyter-widgets/base",
            "_view_module_version": "1.2.0",
            "_view_name": "LayoutView",
            "align_content": null,
            "align_items": null,
            "align_self": null,
            "border": null,
            "bottom": null,
            "display": null,
            "flex": null,
            "flex_flow": null,
            "grid_area": null,
            "grid_auto_columns": null,
            "grid_auto_flow": null,
            "grid_auto_rows": null,
            "grid_column": null,
            "grid_gap": null,
            "grid_row": null,
            "grid_template_areas": null,
            "grid_template_columns": null,
            "grid_template_rows": null,
            "height": null,
            "justify_content": null,
            "justify_items": null,
            "left": null,
            "margin": null,
            "max_height": null,
            "max_width": null,
            "min_height": null,
            "min_width": null,
            "object_fit": null,
            "object_position": null,
            "order": null,
            "overflow": null,
            "overflow_x": null,
            "overflow_y": null,
            "padding": null,
            "right": null,
            "top": null,
            "visibility": null,
            "width": null
          }
        },
        "566d0067e7fa4be9869b6d62eb31d1e5": {
          "model_module": "@jupyter-widgets/base",
          "model_name": "LayoutModel",
          "model_module_version": "1.2.0",
          "state": {
            "_model_module": "@jupyter-widgets/base",
            "_model_module_version": "1.2.0",
            "_model_name": "LayoutModel",
            "_view_count": null,
            "_view_module": "@jupyter-widgets/base",
            "_view_module_version": "1.2.0",
            "_view_name": "LayoutView",
            "align_content": null,
            "align_items": null,
            "align_self": null,
            "border": null,
            "bottom": null,
            "display": null,
            "flex": null,
            "flex_flow": null,
            "grid_area": null,
            "grid_auto_columns": null,
            "grid_auto_flow": null,
            "grid_auto_rows": null,
            "grid_column": null,
            "grid_gap": null,
            "grid_row": null,
            "grid_template_areas": null,
            "grid_template_columns": null,
            "grid_template_rows": null,
            "height": null,
            "justify_content": null,
            "justify_items": null,
            "left": null,
            "margin": null,
            "max_height": null,
            "max_width": null,
            "min_height": null,
            "min_width": null,
            "object_fit": null,
            "object_position": null,
            "order": null,
            "overflow": null,
            "overflow_x": null,
            "overflow_y": null,
            "padding": null,
            "right": null,
            "top": null,
            "visibility": null,
            "width": null
          }
        },
        "721af17f6d1a4bfcbb0ccf2a811864ed": {
          "model_module": "@jupyter-widgets/controls",
          "model_name": "DescriptionStyleModel",
          "model_module_version": "1.5.0",
          "state": {
            "_model_module": "@jupyter-widgets/controls",
            "_model_module_version": "1.5.0",
            "_model_name": "DescriptionStyleModel",
            "_view_count": null,
            "_view_module": "@jupyter-widgets/base",
            "_view_module_version": "1.2.0",
            "_view_name": "StyleView",
            "description_width": ""
          }
        },
        "0976e47d5abd4b7797444e6502398644": {
          "model_module": "@jupyter-widgets/base",
          "model_name": "LayoutModel",
          "model_module_version": "1.2.0",
          "state": {
            "_model_module": "@jupyter-widgets/base",
            "_model_module_version": "1.2.0",
            "_model_name": "LayoutModel",
            "_view_count": null,
            "_view_module": "@jupyter-widgets/base",
            "_view_module_version": "1.2.0",
            "_view_name": "LayoutView",
            "align_content": null,
            "align_items": null,
            "align_self": null,
            "border": null,
            "bottom": null,
            "display": null,
            "flex": null,
            "flex_flow": null,
            "grid_area": null,
            "grid_auto_columns": null,
            "grid_auto_flow": null,
            "grid_auto_rows": null,
            "grid_column": null,
            "grid_gap": null,
            "grid_row": null,
            "grid_template_areas": null,
            "grid_template_columns": null,
            "grid_template_rows": null,
            "height": null,
            "justify_content": null,
            "justify_items": null,
            "left": null,
            "margin": null,
            "max_height": null,
            "max_width": null,
            "min_height": null,
            "min_width": null,
            "object_fit": null,
            "object_position": null,
            "order": null,
            "overflow": null,
            "overflow_x": null,
            "overflow_y": null,
            "padding": null,
            "right": null,
            "top": null,
            "visibility": null,
            "width": null
          }
        },
        "040844a846f0481cbb3cb79943f16ee1": {
          "model_module": "@jupyter-widgets/controls",
          "model_name": "ProgressStyleModel",
          "model_module_version": "1.5.0",
          "state": {
            "_model_module": "@jupyter-widgets/controls",
            "_model_module_version": "1.5.0",
            "_model_name": "ProgressStyleModel",
            "_view_count": null,
            "_view_module": "@jupyter-widgets/base",
            "_view_module_version": "1.2.0",
            "_view_name": "StyleView",
            "bar_color": null,
            "description_width": ""
          }
        },
        "f121162e77eb4aee9f75888d3b31d84c": {
          "model_module": "@jupyter-widgets/base",
          "model_name": "LayoutModel",
          "model_module_version": "1.2.0",
          "state": {
            "_model_module": "@jupyter-widgets/base",
            "_model_module_version": "1.2.0",
            "_model_name": "LayoutModel",
            "_view_count": null,
            "_view_module": "@jupyter-widgets/base",
            "_view_module_version": "1.2.0",
            "_view_name": "LayoutView",
            "align_content": null,
            "align_items": null,
            "align_self": null,
            "border": null,
            "bottom": null,
            "display": null,
            "flex": null,
            "flex_flow": null,
            "grid_area": null,
            "grid_auto_columns": null,
            "grid_auto_flow": null,
            "grid_auto_rows": null,
            "grid_column": null,
            "grid_gap": null,
            "grid_row": null,
            "grid_template_areas": null,
            "grid_template_columns": null,
            "grid_template_rows": null,
            "height": null,
            "justify_content": null,
            "justify_items": null,
            "left": null,
            "margin": null,
            "max_height": null,
            "max_width": null,
            "min_height": null,
            "min_width": null,
            "object_fit": null,
            "object_position": null,
            "order": null,
            "overflow": null,
            "overflow_x": null,
            "overflow_y": null,
            "padding": null,
            "right": null,
            "top": null,
            "visibility": null,
            "width": null
          }
        },
        "74d4685dc4a24b7091623e1864b28496": {
          "model_module": "@jupyter-widgets/controls",
          "model_name": "DescriptionStyleModel",
          "model_module_version": "1.5.0",
          "state": {
            "_model_module": "@jupyter-widgets/controls",
            "_model_module_version": "1.5.0",
            "_model_name": "DescriptionStyleModel",
            "_view_count": null,
            "_view_module": "@jupyter-widgets/base",
            "_view_module_version": "1.2.0",
            "_view_name": "StyleView",
            "description_width": ""
          }
        },
        "2a950f182ab2457eb7e0074f30726c00": {
          "model_module": "@jupyter-widgets/controls",
          "model_name": "HBoxModel",
          "model_module_version": "1.5.0",
          "state": {
            "_dom_classes": [],
            "_model_module": "@jupyter-widgets/controls",
            "_model_module_version": "1.5.0",
            "_model_name": "HBoxModel",
            "_view_count": null,
            "_view_module": "@jupyter-widgets/controls",
            "_view_module_version": "1.5.0",
            "_view_name": "HBoxView",
            "box_style": "",
            "children": [
              "IPY_MODEL_2dbf997ce6014632b3865d154004ea52",
              "IPY_MODEL_ebb103fb620e4e2fbe8898efc78f45ef",
              "IPY_MODEL_bfbaab72934c4fcd96d9da36964663df"
            ],
            "layout": "IPY_MODEL_f13de01ada3f449da6fdef1852fab9bf"
          }
        },
        "2dbf997ce6014632b3865d154004ea52": {
          "model_module": "@jupyter-widgets/controls",
          "model_name": "HTMLModel",
          "model_module_version": "1.5.0",
          "state": {
            "_dom_classes": [],
            "_model_module": "@jupyter-widgets/controls",
            "_model_module_version": "1.5.0",
            "_model_name": "HTMLModel",
            "_view_count": null,
            "_view_module": "@jupyter-widgets/controls",
            "_view_module_version": "1.5.0",
            "_view_name": "HTMLView",
            "description": "",
            "description_tooltip": null,
            "layout": "IPY_MODEL_f19fcda2a1c14ce394ec1610382533e7",
            "placeholder": "​",
            "style": "IPY_MODEL_68eb6bd7f83c4d748e71183f6bb8d70f",
            "value": "Downloading pytorch_model.bin: 100%"
          }
        },
        "ebb103fb620e4e2fbe8898efc78f45ef": {
          "model_module": "@jupyter-widgets/controls",
          "model_name": "FloatProgressModel",
          "model_module_version": "1.5.0",
          "state": {
            "_dom_classes": [],
            "_model_module": "@jupyter-widgets/controls",
            "_model_module_version": "1.5.0",
            "_model_name": "FloatProgressModel",
            "_view_count": null,
            "_view_module": "@jupyter-widgets/controls",
            "_view_module_version": "1.5.0",
            "_view_name": "ProgressView",
            "bar_style": "success",
            "description": "",
            "description_tooltip": null,
            "layout": "IPY_MODEL_0075ea1d2ff0458ab23a191bea2b0ba0",
            "max": 534276705,
            "min": 0,
            "orientation": "horizontal",
            "style": "IPY_MODEL_e4a3723433ff4ed78e1277cf40140860",
            "value": 534276705
          }
        },
        "bfbaab72934c4fcd96d9da36964663df": {
          "model_module": "@jupyter-widgets/controls",
          "model_name": "HTMLModel",
          "model_module_version": "1.5.0",
          "state": {
            "_dom_classes": [],
            "_model_module": "@jupyter-widgets/controls",
            "_model_module_version": "1.5.0",
            "_model_name": "HTMLModel",
            "_view_count": null,
            "_view_module": "@jupyter-widgets/controls",
            "_view_module_version": "1.5.0",
            "_view_name": "HTMLView",
            "description": "",
            "description_tooltip": null,
            "layout": "IPY_MODEL_8ba0332a79f84555affcef58736b6bd6",
            "placeholder": "​",
            "style": "IPY_MODEL_40dadf41abae4dedb443334876b7847a",
            "value": " 534M/534M [00:07&lt;00:00, 55.9MB/s]"
          }
        },
        "f13de01ada3f449da6fdef1852fab9bf": {
          "model_module": "@jupyter-widgets/base",
          "model_name": "LayoutModel",
          "model_module_version": "1.2.0",
          "state": {
            "_model_module": "@jupyter-widgets/base",
            "_model_module_version": "1.2.0",
            "_model_name": "LayoutModel",
            "_view_count": null,
            "_view_module": "@jupyter-widgets/base",
            "_view_module_version": "1.2.0",
            "_view_name": "LayoutView",
            "align_content": null,
            "align_items": null,
            "align_self": null,
            "border": null,
            "bottom": null,
            "display": null,
            "flex": null,
            "flex_flow": null,
            "grid_area": null,
            "grid_auto_columns": null,
            "grid_auto_flow": null,
            "grid_auto_rows": null,
            "grid_column": null,
            "grid_gap": null,
            "grid_row": null,
            "grid_template_areas": null,
            "grid_template_columns": null,
            "grid_template_rows": null,
            "height": null,
            "justify_content": null,
            "justify_items": null,
            "left": null,
            "margin": null,
            "max_height": null,
            "max_width": null,
            "min_height": null,
            "min_width": null,
            "object_fit": null,
            "object_position": null,
            "order": null,
            "overflow": null,
            "overflow_x": null,
            "overflow_y": null,
            "padding": null,
            "right": null,
            "top": null,
            "visibility": null,
            "width": null
          }
        },
        "f19fcda2a1c14ce394ec1610382533e7": {
          "model_module": "@jupyter-widgets/base",
          "model_name": "LayoutModel",
          "model_module_version": "1.2.0",
          "state": {
            "_model_module": "@jupyter-widgets/base",
            "_model_module_version": "1.2.0",
            "_model_name": "LayoutModel",
            "_view_count": null,
            "_view_module": "@jupyter-widgets/base",
            "_view_module_version": "1.2.0",
            "_view_name": "LayoutView",
            "align_content": null,
            "align_items": null,
            "align_self": null,
            "border": null,
            "bottom": null,
            "display": null,
            "flex": null,
            "flex_flow": null,
            "grid_area": null,
            "grid_auto_columns": null,
            "grid_auto_flow": null,
            "grid_auto_rows": null,
            "grid_column": null,
            "grid_gap": null,
            "grid_row": null,
            "grid_template_areas": null,
            "grid_template_columns": null,
            "grid_template_rows": null,
            "height": null,
            "justify_content": null,
            "justify_items": null,
            "left": null,
            "margin": null,
            "max_height": null,
            "max_width": null,
            "min_height": null,
            "min_width": null,
            "object_fit": null,
            "object_position": null,
            "order": null,
            "overflow": null,
            "overflow_x": null,
            "overflow_y": null,
            "padding": null,
            "right": null,
            "top": null,
            "visibility": null,
            "width": null
          }
        },
        "68eb6bd7f83c4d748e71183f6bb8d70f": {
          "model_module": "@jupyter-widgets/controls",
          "model_name": "DescriptionStyleModel",
          "model_module_version": "1.5.0",
          "state": {
            "_model_module": "@jupyter-widgets/controls",
            "_model_module_version": "1.5.0",
            "_model_name": "DescriptionStyleModel",
            "_view_count": null,
            "_view_module": "@jupyter-widgets/base",
            "_view_module_version": "1.2.0",
            "_view_name": "StyleView",
            "description_width": ""
          }
        },
        "0075ea1d2ff0458ab23a191bea2b0ba0": {
          "model_module": "@jupyter-widgets/base",
          "model_name": "LayoutModel",
          "model_module_version": "1.2.0",
          "state": {
            "_model_module": "@jupyter-widgets/base",
            "_model_module_version": "1.2.0",
            "_model_name": "LayoutModel",
            "_view_count": null,
            "_view_module": "@jupyter-widgets/base",
            "_view_module_version": "1.2.0",
            "_view_name": "LayoutView",
            "align_content": null,
            "align_items": null,
            "align_self": null,
            "border": null,
            "bottom": null,
            "display": null,
            "flex": null,
            "flex_flow": null,
            "grid_area": null,
            "grid_auto_columns": null,
            "grid_auto_flow": null,
            "grid_auto_rows": null,
            "grid_column": null,
            "grid_gap": null,
            "grid_row": null,
            "grid_template_areas": null,
            "grid_template_columns": null,
            "grid_template_rows": null,
            "height": null,
            "justify_content": null,
            "justify_items": null,
            "left": null,
            "margin": null,
            "max_height": null,
            "max_width": null,
            "min_height": null,
            "min_width": null,
            "object_fit": null,
            "object_position": null,
            "order": null,
            "overflow": null,
            "overflow_x": null,
            "overflow_y": null,
            "padding": null,
            "right": null,
            "top": null,
            "visibility": null,
            "width": null
          }
        },
        "e4a3723433ff4ed78e1277cf40140860": {
          "model_module": "@jupyter-widgets/controls",
          "model_name": "ProgressStyleModel",
          "model_module_version": "1.5.0",
          "state": {
            "_model_module": "@jupyter-widgets/controls",
            "_model_module_version": "1.5.0",
            "_model_name": "ProgressStyleModel",
            "_view_count": null,
            "_view_module": "@jupyter-widgets/base",
            "_view_module_version": "1.2.0",
            "_view_name": "StyleView",
            "bar_color": null,
            "description_width": ""
          }
        },
        "8ba0332a79f84555affcef58736b6bd6": {
          "model_module": "@jupyter-widgets/base",
          "model_name": "LayoutModel",
          "model_module_version": "1.2.0",
          "state": {
            "_model_module": "@jupyter-widgets/base",
            "_model_module_version": "1.2.0",
            "_model_name": "LayoutModel",
            "_view_count": null,
            "_view_module": "@jupyter-widgets/base",
            "_view_module_version": "1.2.0",
            "_view_name": "LayoutView",
            "align_content": null,
            "align_items": null,
            "align_self": null,
            "border": null,
            "bottom": null,
            "display": null,
            "flex": null,
            "flex_flow": null,
            "grid_area": null,
            "grid_auto_columns": null,
            "grid_auto_flow": null,
            "grid_auto_rows": null,
            "grid_column": null,
            "grid_gap": null,
            "grid_row": null,
            "grid_template_areas": null,
            "grid_template_columns": null,
            "grid_template_rows": null,
            "height": null,
            "justify_content": null,
            "justify_items": null,
            "left": null,
            "margin": null,
            "max_height": null,
            "max_width": null,
            "min_height": null,
            "min_width": null,
            "object_fit": null,
            "object_position": null,
            "order": null,
            "overflow": null,
            "overflow_x": null,
            "overflow_y": null,
            "padding": null,
            "right": null,
            "top": null,
            "visibility": null,
            "width": null
          }
        },
        "40dadf41abae4dedb443334876b7847a": {
          "model_module": "@jupyter-widgets/controls",
          "model_name": "DescriptionStyleModel",
          "model_module_version": "1.5.0",
          "state": {
            "_model_module": "@jupyter-widgets/controls",
            "_model_module_version": "1.5.0",
            "_model_name": "DescriptionStyleModel",
            "_view_count": null,
            "_view_module": "@jupyter-widgets/base",
            "_view_module_version": "1.2.0",
            "_view_name": "StyleView",
            "description_width": ""
          }
        }
      }
    }
  },
  "nbformat": 4,
  "nbformat_minor": 0
}