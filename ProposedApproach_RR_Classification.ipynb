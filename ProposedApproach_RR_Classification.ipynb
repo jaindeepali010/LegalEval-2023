{
  "nbformat": 4,
  "nbformat_minor": 0,
  "metadata": {
    "colab": {
      "provenance": []
    },
    "kernelspec": {
      "name": "python3",
      "display_name": "Python 3"
    },
    "language_info": {
      "name": "python"
    },
    "accelerator": "GPU",
    "gpuClass": "premium",
    "widgets": {
      "application/vnd.jupyter.widget-state+json": {
        "8211d9bd30c14d7ab6796c42a198109c": {
          "model_module": "@jupyter-widgets/controls",
          "model_name": "HBoxModel",
          "model_module_version": "1.5.0",
          "state": {
            "_dom_classes": [],
            "_model_module": "@jupyter-widgets/controls",
            "_model_module_version": "1.5.0",
            "_model_name": "HBoxModel",
            "_view_count": null,
            "_view_module": "@jupyter-widgets/controls",
            "_view_module_version": "1.5.0",
            "_view_name": "HBoxView",
            "box_style": "",
            "children": [
              "IPY_MODEL_57401f77d880416d8ca257b9b9f70117",
              "IPY_MODEL_e1f4ace38a68454ca1c658e6db2ab4d4",
              "IPY_MODEL_d8173c4c65f2452d88cb13c9741e8679"
            ],
            "layout": "IPY_MODEL_07119b569cc64c6c8c0c49cd6b147b39"
          }
        },
        "57401f77d880416d8ca257b9b9f70117": {
          "model_module": "@jupyter-widgets/controls",
          "model_name": "HTMLModel",
          "model_module_version": "1.5.0",
          "state": {
            "_dom_classes": [],
            "_model_module": "@jupyter-widgets/controls",
            "_model_module_version": "1.5.0",
            "_model_name": "HTMLModel",
            "_view_count": null,
            "_view_module": "@jupyter-widgets/controls",
            "_view_module_version": "1.5.0",
            "_view_name": "HTMLView",
            "description": "",
            "description_tooltip": null,
            "layout": "IPY_MODEL_a6a7c9ad88ee42e7ac7cb64761d2aacd",
            "placeholder": "​",
            "style": "IPY_MODEL_253d7d52afb940f49e8f5166b851bb4f",
            "value": "Downloading (…)okenizer_config.json: 100%"
          }
        },
        "e1f4ace38a68454ca1c658e6db2ab4d4": {
          "model_module": "@jupyter-widgets/controls",
          "model_name": "FloatProgressModel",
          "model_module_version": "1.5.0",
          "state": {
            "_dom_classes": [],
            "_model_module": "@jupyter-widgets/controls",
            "_model_module_version": "1.5.0",
            "_model_name": "FloatProgressModel",
            "_view_count": null,
            "_view_module": "@jupyter-widgets/controls",
            "_view_module_version": "1.5.0",
            "_view_name": "ProgressView",
            "bar_style": "success",
            "description": "",
            "description_tooltip": null,
            "layout": "IPY_MODEL_6682bb36bd024776b3c8a8ccc3806d20",
            "max": 516,
            "min": 0,
            "orientation": "horizontal",
            "style": "IPY_MODEL_41476f22ac21452b883299a4cef972b7",
            "value": 516
          }
        },
        "d8173c4c65f2452d88cb13c9741e8679": {
          "model_module": "@jupyter-widgets/controls",
          "model_name": "HTMLModel",
          "model_module_version": "1.5.0",
          "state": {
            "_dom_classes": [],
            "_model_module": "@jupyter-widgets/controls",
            "_model_module_version": "1.5.0",
            "_model_name": "HTMLModel",
            "_view_count": null,
            "_view_module": "@jupyter-widgets/controls",
            "_view_module_version": "1.5.0",
            "_view_name": "HTMLView",
            "description": "",
            "description_tooltip": null,
            "layout": "IPY_MODEL_8c6b7843d3014f24998dc69330f975f8",
            "placeholder": "​",
            "style": "IPY_MODEL_ef3a76c00af441acb2294a427e3c1cca",
            "value": " 516/516 [00:00&lt;00:00, 18.0kB/s]"
          }
        },
        "07119b569cc64c6c8c0c49cd6b147b39": {
          "model_module": "@jupyter-widgets/base",
          "model_name": "LayoutModel",
          "model_module_version": "1.2.0",
          "state": {
            "_model_module": "@jupyter-widgets/base",
            "_model_module_version": "1.2.0",
            "_model_name": "LayoutModel",
            "_view_count": null,
            "_view_module": "@jupyter-widgets/base",
            "_view_module_version": "1.2.0",
            "_view_name": "LayoutView",
            "align_content": null,
            "align_items": null,
            "align_self": null,
            "border": null,
            "bottom": null,
            "display": null,
            "flex": null,
            "flex_flow": null,
            "grid_area": null,
            "grid_auto_columns": null,
            "grid_auto_flow": null,
            "grid_auto_rows": null,
            "grid_column": null,
            "grid_gap": null,
            "grid_row": null,
            "grid_template_areas": null,
            "grid_template_columns": null,
            "grid_template_rows": null,
            "height": null,
            "justify_content": null,
            "justify_items": null,
            "left": null,
            "margin": null,
            "max_height": null,
            "max_width": null,
            "min_height": null,
            "min_width": null,
            "object_fit": null,
            "object_position": null,
            "order": null,
            "overflow": null,
            "overflow_x": null,
            "overflow_y": null,
            "padding": null,
            "right": null,
            "top": null,
            "visibility": null,
            "width": null
          }
        },
        "a6a7c9ad88ee42e7ac7cb64761d2aacd": {
          "model_module": "@jupyter-widgets/base",
          "model_name": "LayoutModel",
          "model_module_version": "1.2.0",
          "state": {
            "_model_module": "@jupyter-widgets/base",
            "_model_module_version": "1.2.0",
            "_model_name": "LayoutModel",
            "_view_count": null,
            "_view_module": "@jupyter-widgets/base",
            "_view_module_version": "1.2.0",
            "_view_name": "LayoutView",
            "align_content": null,
            "align_items": null,
            "align_self": null,
            "border": null,
            "bottom": null,
            "display": null,
            "flex": null,
            "flex_flow": null,
            "grid_area": null,
            "grid_auto_columns": null,
            "grid_auto_flow": null,
            "grid_auto_rows": null,
            "grid_column": null,
            "grid_gap": null,
            "grid_row": null,
            "grid_template_areas": null,
            "grid_template_columns": null,
            "grid_template_rows": null,
            "height": null,
            "justify_content": null,
            "justify_items": null,
            "left": null,
            "margin": null,
            "max_height": null,
            "max_width": null,
            "min_height": null,
            "min_width": null,
            "object_fit": null,
            "object_position": null,
            "order": null,
            "overflow": null,
            "overflow_x": null,
            "overflow_y": null,
            "padding": null,
            "right": null,
            "top": null,
            "visibility": null,
            "width": null
          }
        },
        "253d7d52afb940f49e8f5166b851bb4f": {
          "model_module": "@jupyter-widgets/controls",
          "model_name": "DescriptionStyleModel",
          "model_module_version": "1.5.0",
          "state": {
            "_model_module": "@jupyter-widgets/controls",
            "_model_module_version": "1.5.0",
            "_model_name": "DescriptionStyleModel",
            "_view_count": null,
            "_view_module": "@jupyter-widgets/base",
            "_view_module_version": "1.2.0",
            "_view_name": "StyleView",
            "description_width": ""
          }
        },
        "6682bb36bd024776b3c8a8ccc3806d20": {
          "model_module": "@jupyter-widgets/base",
          "model_name": "LayoutModel",
          "model_module_version": "1.2.0",
          "state": {
            "_model_module": "@jupyter-widgets/base",
            "_model_module_version": "1.2.0",
            "_model_name": "LayoutModel",
            "_view_count": null,
            "_view_module": "@jupyter-widgets/base",
            "_view_module_version": "1.2.0",
            "_view_name": "LayoutView",
            "align_content": null,
            "align_items": null,
            "align_self": null,
            "border": null,
            "bottom": null,
            "display": null,
            "flex": null,
            "flex_flow": null,
            "grid_area": null,
            "grid_auto_columns": null,
            "grid_auto_flow": null,
            "grid_auto_rows": null,
            "grid_column": null,
            "grid_gap": null,
            "grid_row": null,
            "grid_template_areas": null,
            "grid_template_columns": null,
            "grid_template_rows": null,
            "height": null,
            "justify_content": null,
            "justify_items": null,
            "left": null,
            "margin": null,
            "max_height": null,
            "max_width": null,
            "min_height": null,
            "min_width": null,
            "object_fit": null,
            "object_position": null,
            "order": null,
            "overflow": null,
            "overflow_x": null,
            "overflow_y": null,
            "padding": null,
            "right": null,
            "top": null,
            "visibility": null,
            "width": null
          }
        },
        "41476f22ac21452b883299a4cef972b7": {
          "model_module": "@jupyter-widgets/controls",
          "model_name": "ProgressStyleModel",
          "model_module_version": "1.5.0",
          "state": {
            "_model_module": "@jupyter-widgets/controls",
            "_model_module_version": "1.5.0",
            "_model_name": "ProgressStyleModel",
            "_view_count": null,
            "_view_module": "@jupyter-widgets/base",
            "_view_module_version": "1.2.0",
            "_view_name": "StyleView",
            "bar_color": null,
            "description_width": ""
          }
        },
        "8c6b7843d3014f24998dc69330f975f8": {
          "model_module": "@jupyter-widgets/base",
          "model_name": "LayoutModel",
          "model_module_version": "1.2.0",
          "state": {
            "_model_module": "@jupyter-widgets/base",
            "_model_module_version": "1.2.0",
            "_model_name": "LayoutModel",
            "_view_count": null,
            "_view_module": "@jupyter-widgets/base",
            "_view_module_version": "1.2.0",
            "_view_name": "LayoutView",
            "align_content": null,
            "align_items": null,
            "align_self": null,
            "border": null,
            "bottom": null,
            "display": null,
            "flex": null,
            "flex_flow": null,
            "grid_area": null,
            "grid_auto_columns": null,
            "grid_auto_flow": null,
            "grid_auto_rows": null,
            "grid_column": null,
            "grid_gap": null,
            "grid_row": null,
            "grid_template_areas": null,
            "grid_template_columns": null,
            "grid_template_rows": null,
            "height": null,
            "justify_content": null,
            "justify_items": null,
            "left": null,
            "margin": null,
            "max_height": null,
            "max_width": null,
            "min_height": null,
            "min_width": null,
            "object_fit": null,
            "object_position": null,
            "order": null,
            "overflow": null,
            "overflow_x": null,
            "overflow_y": null,
            "padding": null,
            "right": null,
            "top": null,
            "visibility": null,
            "width": null
          }
        },
        "ef3a76c00af441acb2294a427e3c1cca": {
          "model_module": "@jupyter-widgets/controls",
          "model_name": "DescriptionStyleModel",
          "model_module_version": "1.5.0",
          "state": {
            "_model_module": "@jupyter-widgets/controls",
            "_model_module_version": "1.5.0",
            "_model_name": "DescriptionStyleModel",
            "_view_count": null,
            "_view_module": "@jupyter-widgets/base",
            "_view_module_version": "1.2.0",
            "_view_name": "StyleView",
            "description_width": ""
          }
        },
        "eb81077a6e384c14a72dccc81b692a51": {
          "model_module": "@jupyter-widgets/controls",
          "model_name": "HBoxModel",
          "model_module_version": "1.5.0",
          "state": {
            "_dom_classes": [],
            "_model_module": "@jupyter-widgets/controls",
            "_model_module_version": "1.5.0",
            "_model_name": "HBoxModel",
            "_view_count": null,
            "_view_module": "@jupyter-widgets/controls",
            "_view_module_version": "1.5.0",
            "_view_name": "HBoxView",
            "box_style": "",
            "children": [
              "IPY_MODEL_9b156c33c9bd4183a55d9ae6cc9469ef",
              "IPY_MODEL_02baf845c2574c4ba8cb47fd7e95d8ba",
              "IPY_MODEL_8fdaee41cd4f4c3e898bc3b73bccf5c4"
            ],
            "layout": "IPY_MODEL_21e0a89ac13f43608aadcb8965b3a45c"
          }
        },
        "9b156c33c9bd4183a55d9ae6cc9469ef": {
          "model_module": "@jupyter-widgets/controls",
          "model_name": "HTMLModel",
          "model_module_version": "1.5.0",
          "state": {
            "_dom_classes": [],
            "_model_module": "@jupyter-widgets/controls",
            "_model_module_version": "1.5.0",
            "_model_name": "HTMLModel",
            "_view_count": null,
            "_view_module": "@jupyter-widgets/controls",
            "_view_module_version": "1.5.0",
            "_view_name": "HTMLView",
            "description": "",
            "description_tooltip": null,
            "layout": "IPY_MODEL_b872458736784824a5fdd372cf845150",
            "placeholder": "​",
            "style": "IPY_MODEL_d11b23c79c234bb2a4ae466f87aa6e2c",
            "value": "Downloading (…)solve/main/vocab.txt: 100%"
          }
        },
        "02baf845c2574c4ba8cb47fd7e95d8ba": {
          "model_module": "@jupyter-widgets/controls",
          "model_name": "FloatProgressModel",
          "model_module_version": "1.5.0",
          "state": {
            "_dom_classes": [],
            "_model_module": "@jupyter-widgets/controls",
            "_model_module_version": "1.5.0",
            "_model_name": "FloatProgressModel",
            "_view_count": null,
            "_view_module": "@jupyter-widgets/controls",
            "_view_module_version": "1.5.0",
            "_view_name": "ProgressView",
            "bar_style": "success",
            "description": "",
            "description_tooltip": null,
            "layout": "IPY_MODEL_69f75f15db134031ac2b69447580e07d",
            "max": 221793,
            "min": 0,
            "orientation": "horizontal",
            "style": "IPY_MODEL_c5204d7d967a4123a81cd438b2bc19ea",
            "value": 221793
          }
        },
        "8fdaee41cd4f4c3e898bc3b73bccf5c4": {
          "model_module": "@jupyter-widgets/controls",
          "model_name": "HTMLModel",
          "model_module_version": "1.5.0",
          "state": {
            "_dom_classes": [],
            "_model_module": "@jupyter-widgets/controls",
            "_model_module_version": "1.5.0",
            "_model_name": "HTMLModel",
            "_view_count": null,
            "_view_module": "@jupyter-widgets/controls",
            "_view_module_version": "1.5.0",
            "_view_name": "HTMLView",
            "description": "",
            "description_tooltip": null,
            "layout": "IPY_MODEL_2718ab12c0724b059ff9d49de153b938",
            "placeholder": "​",
            "style": "IPY_MODEL_8462f194bf864ca5a89b21dcdd92eb3f",
            "value": " 222k/222k [00:00&lt;00:00, 5.53MB/s]"
          }
        },
        "21e0a89ac13f43608aadcb8965b3a45c": {
          "model_module": "@jupyter-widgets/base",
          "model_name": "LayoutModel",
          "model_module_version": "1.2.0",
          "state": {
            "_model_module": "@jupyter-widgets/base",
            "_model_module_version": "1.2.0",
            "_model_name": "LayoutModel",
            "_view_count": null,
            "_view_module": "@jupyter-widgets/base",
            "_view_module_version": "1.2.0",
            "_view_name": "LayoutView",
            "align_content": null,
            "align_items": null,
            "align_self": null,
            "border": null,
            "bottom": null,
            "display": null,
            "flex": null,
            "flex_flow": null,
            "grid_area": null,
            "grid_auto_columns": null,
            "grid_auto_flow": null,
            "grid_auto_rows": null,
            "grid_column": null,
            "grid_gap": null,
            "grid_row": null,
            "grid_template_areas": null,
            "grid_template_columns": null,
            "grid_template_rows": null,
            "height": null,
            "justify_content": null,
            "justify_items": null,
            "left": null,
            "margin": null,
            "max_height": null,
            "max_width": null,
            "min_height": null,
            "min_width": null,
            "object_fit": null,
            "object_position": null,
            "order": null,
            "overflow": null,
            "overflow_x": null,
            "overflow_y": null,
            "padding": null,
            "right": null,
            "top": null,
            "visibility": null,
            "width": null
          }
        },
        "b872458736784824a5fdd372cf845150": {
          "model_module": "@jupyter-widgets/base",
          "model_name": "LayoutModel",
          "model_module_version": "1.2.0",
          "state": {
            "_model_module": "@jupyter-widgets/base",
            "_model_module_version": "1.2.0",
            "_model_name": "LayoutModel",
            "_view_count": null,
            "_view_module": "@jupyter-widgets/base",
            "_view_module_version": "1.2.0",
            "_view_name": "LayoutView",
            "align_content": null,
            "align_items": null,
            "align_self": null,
            "border": null,
            "bottom": null,
            "display": null,
            "flex": null,
            "flex_flow": null,
            "grid_area": null,
            "grid_auto_columns": null,
            "grid_auto_flow": null,
            "grid_auto_rows": null,
            "grid_column": null,
            "grid_gap": null,
            "grid_row": null,
            "grid_template_areas": null,
            "grid_template_columns": null,
            "grid_template_rows": null,
            "height": null,
            "justify_content": null,
            "justify_items": null,
            "left": null,
            "margin": null,
            "max_height": null,
            "max_width": null,
            "min_height": null,
            "min_width": null,
            "object_fit": null,
            "object_position": null,
            "order": null,
            "overflow": null,
            "overflow_x": null,
            "overflow_y": null,
            "padding": null,
            "right": null,
            "top": null,
            "visibility": null,
            "width": null
          }
        },
        "d11b23c79c234bb2a4ae466f87aa6e2c": {
          "model_module": "@jupyter-widgets/controls",
          "model_name": "DescriptionStyleModel",
          "model_module_version": "1.5.0",
          "state": {
            "_model_module": "@jupyter-widgets/controls",
            "_model_module_version": "1.5.0",
            "_model_name": "DescriptionStyleModel",
            "_view_count": null,
            "_view_module": "@jupyter-widgets/base",
            "_view_module_version": "1.2.0",
            "_view_name": "StyleView",
            "description_width": ""
          }
        },
        "69f75f15db134031ac2b69447580e07d": {
          "model_module": "@jupyter-widgets/base",
          "model_name": "LayoutModel",
          "model_module_version": "1.2.0",
          "state": {
            "_model_module": "@jupyter-widgets/base",
            "_model_module_version": "1.2.0",
            "_model_name": "LayoutModel",
            "_view_count": null,
            "_view_module": "@jupyter-widgets/base",
            "_view_module_version": "1.2.0",
            "_view_name": "LayoutView",
            "align_content": null,
            "align_items": null,
            "align_self": null,
            "border": null,
            "bottom": null,
            "display": null,
            "flex": null,
            "flex_flow": null,
            "grid_area": null,
            "grid_auto_columns": null,
            "grid_auto_flow": null,
            "grid_auto_rows": null,
            "grid_column": null,
            "grid_gap": null,
            "grid_row": null,
            "grid_template_areas": null,
            "grid_template_columns": null,
            "grid_template_rows": null,
            "height": null,
            "justify_content": null,
            "justify_items": null,
            "left": null,
            "margin": null,
            "max_height": null,
            "max_width": null,
            "min_height": null,
            "min_width": null,
            "object_fit": null,
            "object_position": null,
            "order": null,
            "overflow": null,
            "overflow_x": null,
            "overflow_y": null,
            "padding": null,
            "right": null,
            "top": null,
            "visibility": null,
            "width": null
          }
        },
        "c5204d7d967a4123a81cd438b2bc19ea": {
          "model_module": "@jupyter-widgets/controls",
          "model_name": "ProgressStyleModel",
          "model_module_version": "1.5.0",
          "state": {
            "_model_module": "@jupyter-widgets/controls",
            "_model_module_version": "1.5.0",
            "_model_name": "ProgressStyleModel",
            "_view_count": null,
            "_view_module": "@jupyter-widgets/base",
            "_view_module_version": "1.2.0",
            "_view_name": "StyleView",
            "bar_color": null,
            "description_width": ""
          }
        },
        "2718ab12c0724b059ff9d49de153b938": {
          "model_module": "@jupyter-widgets/base",
          "model_name": "LayoutModel",
          "model_module_version": "1.2.0",
          "state": {
            "_model_module": "@jupyter-widgets/base",
            "_model_module_version": "1.2.0",
            "_model_name": "LayoutModel",
            "_view_count": null,
            "_view_module": "@jupyter-widgets/base",
            "_view_module_version": "1.2.0",
            "_view_name": "LayoutView",
            "align_content": null,
            "align_items": null,
            "align_self": null,
            "border": null,
            "bottom": null,
            "display": null,
            "flex": null,
            "flex_flow": null,
            "grid_area": null,
            "grid_auto_columns": null,
            "grid_auto_flow": null,
            "grid_auto_rows": null,
            "grid_column": null,
            "grid_gap": null,
            "grid_row": null,
            "grid_template_areas": null,
            "grid_template_columns": null,
            "grid_template_rows": null,
            "height": null,
            "justify_content": null,
            "justify_items": null,
            "left": null,
            "margin": null,
            "max_height": null,
            "max_width": null,
            "min_height": null,
            "min_width": null,
            "object_fit": null,
            "object_position": null,
            "order": null,
            "overflow": null,
            "overflow_x": null,
            "overflow_y": null,
            "padding": null,
            "right": null,
            "top": null,
            "visibility": null,
            "width": null
          }
        },
        "8462f194bf864ca5a89b21dcdd92eb3f": {
          "model_module": "@jupyter-widgets/controls",
          "model_name": "DescriptionStyleModel",
          "model_module_version": "1.5.0",
          "state": {
            "_model_module": "@jupyter-widgets/controls",
            "_model_module_version": "1.5.0",
            "_model_name": "DescriptionStyleModel",
            "_view_count": null,
            "_view_module": "@jupyter-widgets/base",
            "_view_module_version": "1.2.0",
            "_view_name": "StyleView",
            "description_width": ""
          }
        },
        "25c334e63cd14e81bf8e51e315cae829": {
          "model_module": "@jupyter-widgets/controls",
          "model_name": "HBoxModel",
          "model_module_version": "1.5.0",
          "state": {
            "_dom_classes": [],
            "_model_module": "@jupyter-widgets/controls",
            "_model_module_version": "1.5.0",
            "_model_name": "HBoxModel",
            "_view_count": null,
            "_view_module": "@jupyter-widgets/controls",
            "_view_module_version": "1.5.0",
            "_view_name": "HBoxView",
            "box_style": "",
            "children": [
              "IPY_MODEL_9f76ad4aec4d499f929bffcb50350053",
              "IPY_MODEL_2a312b973fab44f4a561f71b1f77d0f7",
              "IPY_MODEL_f6b99d3951264299a12196cec602923c"
            ],
            "layout": "IPY_MODEL_32f88bbc098a4548ab10af29694d0190"
          }
        },
        "9f76ad4aec4d499f929bffcb50350053": {
          "model_module": "@jupyter-widgets/controls",
          "model_name": "HTMLModel",
          "model_module_version": "1.5.0",
          "state": {
            "_dom_classes": [],
            "_model_module": "@jupyter-widgets/controls",
            "_model_module_version": "1.5.0",
            "_model_name": "HTMLModel",
            "_view_count": null,
            "_view_module": "@jupyter-widgets/controls",
            "_view_module_version": "1.5.0",
            "_view_name": "HTMLView",
            "description": "",
            "description_tooltip": null,
            "layout": "IPY_MODEL_4f1ac8caa33947d6aaad32717f178e2d",
            "placeholder": "​",
            "style": "IPY_MODEL_690073a895894affb54c24222a85f1bf",
            "value": "Downloading (…)cial_tokens_map.json: 100%"
          }
        },
        "2a312b973fab44f4a561f71b1f77d0f7": {
          "model_module": "@jupyter-widgets/controls",
          "model_name": "FloatProgressModel",
          "model_module_version": "1.5.0",
          "state": {
            "_dom_classes": [],
            "_model_module": "@jupyter-widgets/controls",
            "_model_module_version": "1.5.0",
            "_model_name": "FloatProgressModel",
            "_view_count": null,
            "_view_module": "@jupyter-widgets/controls",
            "_view_module_version": "1.5.0",
            "_view_name": "ProgressView",
            "bar_style": "success",
            "description": "",
            "description_tooltip": null,
            "layout": "IPY_MODEL_a52ecf0555294be29c3b4eda1d91eaec",
            "max": 112,
            "min": 0,
            "orientation": "horizontal",
            "style": "IPY_MODEL_f1e1c7b0d2bf47db856e84135f91e669",
            "value": 112
          }
        },
        "f6b99d3951264299a12196cec602923c": {
          "model_module": "@jupyter-widgets/controls",
          "model_name": "HTMLModel",
          "model_module_version": "1.5.0",
          "state": {
            "_dom_classes": [],
            "_model_module": "@jupyter-widgets/controls",
            "_model_module_version": "1.5.0",
            "_model_name": "HTMLModel",
            "_view_count": null,
            "_view_module": "@jupyter-widgets/controls",
            "_view_module_version": "1.5.0",
            "_view_name": "HTMLView",
            "description": "",
            "description_tooltip": null,
            "layout": "IPY_MODEL_02eb5a6faf8f40588985542d604af838",
            "placeholder": "​",
            "style": "IPY_MODEL_aa1f2281cdb946689ff960b1ee304ffb",
            "value": " 112/112 [00:00&lt;00:00, 6.09kB/s]"
          }
        },
        "32f88bbc098a4548ab10af29694d0190": {
          "model_module": "@jupyter-widgets/base",
          "model_name": "LayoutModel",
          "model_module_version": "1.2.0",
          "state": {
            "_model_module": "@jupyter-widgets/base",
            "_model_module_version": "1.2.0",
            "_model_name": "LayoutModel",
            "_view_count": null,
            "_view_module": "@jupyter-widgets/base",
            "_view_module_version": "1.2.0",
            "_view_name": "LayoutView",
            "align_content": null,
            "align_items": null,
            "align_self": null,
            "border": null,
            "bottom": null,
            "display": null,
            "flex": null,
            "flex_flow": null,
            "grid_area": null,
            "grid_auto_columns": null,
            "grid_auto_flow": null,
            "grid_auto_rows": null,
            "grid_column": null,
            "grid_gap": null,
            "grid_row": null,
            "grid_template_areas": null,
            "grid_template_columns": null,
            "grid_template_rows": null,
            "height": null,
            "justify_content": null,
            "justify_items": null,
            "left": null,
            "margin": null,
            "max_height": null,
            "max_width": null,
            "min_height": null,
            "min_width": null,
            "object_fit": null,
            "object_position": null,
            "order": null,
            "overflow": null,
            "overflow_x": null,
            "overflow_y": null,
            "padding": null,
            "right": null,
            "top": null,
            "visibility": null,
            "width": null
          }
        },
        "4f1ac8caa33947d6aaad32717f178e2d": {
          "model_module": "@jupyter-widgets/base",
          "model_name": "LayoutModel",
          "model_module_version": "1.2.0",
          "state": {
            "_model_module": "@jupyter-widgets/base",
            "_model_module_version": "1.2.0",
            "_model_name": "LayoutModel",
            "_view_count": null,
            "_view_module": "@jupyter-widgets/base",
            "_view_module_version": "1.2.0",
            "_view_name": "LayoutView",
            "align_content": null,
            "align_items": null,
            "align_self": null,
            "border": null,
            "bottom": null,
            "display": null,
            "flex": null,
            "flex_flow": null,
            "grid_area": null,
            "grid_auto_columns": null,
            "grid_auto_flow": null,
            "grid_auto_rows": null,
            "grid_column": null,
            "grid_gap": null,
            "grid_row": null,
            "grid_template_areas": null,
            "grid_template_columns": null,
            "grid_template_rows": null,
            "height": null,
            "justify_content": null,
            "justify_items": null,
            "left": null,
            "margin": null,
            "max_height": null,
            "max_width": null,
            "min_height": null,
            "min_width": null,
            "object_fit": null,
            "object_position": null,
            "order": null,
            "overflow": null,
            "overflow_x": null,
            "overflow_y": null,
            "padding": null,
            "right": null,
            "top": null,
            "visibility": null,
            "width": null
          }
        },
        "690073a895894affb54c24222a85f1bf": {
          "model_module": "@jupyter-widgets/controls",
          "model_name": "DescriptionStyleModel",
          "model_module_version": "1.5.0",
          "state": {
            "_model_module": "@jupyter-widgets/controls",
            "_model_module_version": "1.5.0",
            "_model_name": "DescriptionStyleModel",
            "_view_count": null,
            "_view_module": "@jupyter-widgets/base",
            "_view_module_version": "1.2.0",
            "_view_name": "StyleView",
            "description_width": ""
          }
        },
        "a52ecf0555294be29c3b4eda1d91eaec": {
          "model_module": "@jupyter-widgets/base",
          "model_name": "LayoutModel",
          "model_module_version": "1.2.0",
          "state": {
            "_model_module": "@jupyter-widgets/base",
            "_model_module_version": "1.2.0",
            "_model_name": "LayoutModel",
            "_view_count": null,
            "_view_module": "@jupyter-widgets/base",
            "_view_module_version": "1.2.0",
            "_view_name": "LayoutView",
            "align_content": null,
            "align_items": null,
            "align_self": null,
            "border": null,
            "bottom": null,
            "display": null,
            "flex": null,
            "flex_flow": null,
            "grid_area": null,
            "grid_auto_columns": null,
            "grid_auto_flow": null,
            "grid_auto_rows": null,
            "grid_column": null,
            "grid_gap": null,
            "grid_row": null,
            "grid_template_areas": null,
            "grid_template_columns": null,
            "grid_template_rows": null,
            "height": null,
            "justify_content": null,
            "justify_items": null,
            "left": null,
            "margin": null,
            "max_height": null,
            "max_width": null,
            "min_height": null,
            "min_width": null,
            "object_fit": null,
            "object_position": null,
            "order": null,
            "overflow": null,
            "overflow_x": null,
            "overflow_y": null,
            "padding": null,
            "right": null,
            "top": null,
            "visibility": null,
            "width": null
          }
        },
        "f1e1c7b0d2bf47db856e84135f91e669": {
          "model_module": "@jupyter-widgets/controls",
          "model_name": "ProgressStyleModel",
          "model_module_version": "1.5.0",
          "state": {
            "_model_module": "@jupyter-widgets/controls",
            "_model_module_version": "1.5.0",
            "_model_name": "ProgressStyleModel",
            "_view_count": null,
            "_view_module": "@jupyter-widgets/base",
            "_view_module_version": "1.2.0",
            "_view_name": "StyleView",
            "bar_color": null,
            "description_width": ""
          }
        },
        "02eb5a6faf8f40588985542d604af838": {
          "model_module": "@jupyter-widgets/base",
          "model_name": "LayoutModel",
          "model_module_version": "1.2.0",
          "state": {
            "_model_module": "@jupyter-widgets/base",
            "_model_module_version": "1.2.0",
            "_model_name": "LayoutModel",
            "_view_count": null,
            "_view_module": "@jupyter-widgets/base",
            "_view_module_version": "1.2.0",
            "_view_name": "LayoutView",
            "align_content": null,
            "align_items": null,
            "align_self": null,
            "border": null,
            "bottom": null,
            "display": null,
            "flex": null,
            "flex_flow": null,
            "grid_area": null,
            "grid_auto_columns": null,
            "grid_auto_flow": null,
            "grid_auto_rows": null,
            "grid_column": null,
            "grid_gap": null,
            "grid_row": null,
            "grid_template_areas": null,
            "grid_template_columns": null,
            "grid_template_rows": null,
            "height": null,
            "justify_content": null,
            "justify_items": null,
            "left": null,
            "margin": null,
            "max_height": null,
            "max_width": null,
            "min_height": null,
            "min_width": null,
            "object_fit": null,
            "object_position": null,
            "order": null,
            "overflow": null,
            "overflow_x": null,
            "overflow_y": null,
            "padding": null,
            "right": null,
            "top": null,
            "visibility": null,
            "width": null
          }
        },
        "aa1f2281cdb946689ff960b1ee304ffb": {
          "model_module": "@jupyter-widgets/controls",
          "model_name": "DescriptionStyleModel",
          "model_module_version": "1.5.0",
          "state": {
            "_model_module": "@jupyter-widgets/controls",
            "_model_module_version": "1.5.0",
            "_model_name": "DescriptionStyleModel",
            "_view_count": null,
            "_view_module": "@jupyter-widgets/base",
            "_view_module_version": "1.2.0",
            "_view_name": "StyleView",
            "description_width": ""
          }
        },
        "227a60c3fe8140248ae051eadbcfd270": {
          "model_module": "@jupyter-widgets/controls",
          "model_name": "HBoxModel",
          "model_module_version": "1.5.0",
          "state": {
            "_dom_classes": [],
            "_model_module": "@jupyter-widgets/controls",
            "_model_module_version": "1.5.0",
            "_model_name": "HBoxModel",
            "_view_count": null,
            "_view_module": "@jupyter-widgets/controls",
            "_view_module_version": "1.5.0",
            "_view_name": "HBoxView",
            "box_style": "",
            "children": [
              "IPY_MODEL_d1add79911d4448e884608de8aca4fdc",
              "IPY_MODEL_1ceb15afb3694af58839c22cbddaa594",
              "IPY_MODEL_b70b9953f3e34b19be0c89af0a4249f2"
            ],
            "layout": "IPY_MODEL_7ba2ec631e3648aba875e77894223669"
          }
        },
        "d1add79911d4448e884608de8aca4fdc": {
          "model_module": "@jupyter-widgets/controls",
          "model_name": "HTMLModel",
          "model_module_version": "1.5.0",
          "state": {
            "_dom_classes": [],
            "_model_module": "@jupyter-widgets/controls",
            "_model_module_version": "1.5.0",
            "_model_name": "HTMLModel",
            "_view_count": null,
            "_view_module": "@jupyter-widgets/controls",
            "_view_module_version": "1.5.0",
            "_view_name": "HTMLView",
            "description": "",
            "description_tooltip": null,
            "layout": "IPY_MODEL_e07f4d71258f46eeb3388c2d5440234d",
            "placeholder": "​",
            "style": "IPY_MODEL_79ee0939bfd94a12b313cb5b3b47fa8a",
            "value": "Downloading (…)lve/main/config.json: 100%"
          }
        },
        "1ceb15afb3694af58839c22cbddaa594": {
          "model_module": "@jupyter-widgets/controls",
          "model_name": "FloatProgressModel",
          "model_module_version": "1.5.0",
          "state": {
            "_dom_classes": [],
            "_model_module": "@jupyter-widgets/controls",
            "_model_module_version": "1.5.0",
            "_model_name": "FloatProgressModel",
            "_view_count": null,
            "_view_module": "@jupyter-widgets/controls",
            "_view_module_version": "1.5.0",
            "_view_name": "ProgressView",
            "bar_style": "success",
            "description": "",
            "description_tooltip": null,
            "layout": "IPY_MODEL_95b0f4ed3d8e4c379278cacba8369824",
            "max": 671,
            "min": 0,
            "orientation": "horizontal",
            "style": "IPY_MODEL_bc877a9910f84ea9b43883d0c76747a7",
            "value": 671
          }
        },
        "b70b9953f3e34b19be0c89af0a4249f2": {
          "model_module": "@jupyter-widgets/controls",
          "model_name": "HTMLModel",
          "model_module_version": "1.5.0",
          "state": {
            "_dom_classes": [],
            "_model_module": "@jupyter-widgets/controls",
            "_model_module_version": "1.5.0",
            "_model_name": "HTMLModel",
            "_view_count": null,
            "_view_module": "@jupyter-widgets/controls",
            "_view_module_version": "1.5.0",
            "_view_name": "HTMLView",
            "description": "",
            "description_tooltip": null,
            "layout": "IPY_MODEL_ab7a57916d3545cfb35e73320b3f7fea",
            "placeholder": "​",
            "style": "IPY_MODEL_40ece9ca7f5a4d719d1de651feea6d8a",
            "value": " 671/671 [00:00&lt;00:00, 21.5kB/s]"
          }
        },
        "7ba2ec631e3648aba875e77894223669": {
          "model_module": "@jupyter-widgets/base",
          "model_name": "LayoutModel",
          "model_module_version": "1.2.0",
          "state": {
            "_model_module": "@jupyter-widgets/base",
            "_model_module_version": "1.2.0",
            "_model_name": "LayoutModel",
            "_view_count": null,
            "_view_module": "@jupyter-widgets/base",
            "_view_module_version": "1.2.0",
            "_view_name": "LayoutView",
            "align_content": null,
            "align_items": null,
            "align_self": null,
            "border": null,
            "bottom": null,
            "display": null,
            "flex": null,
            "flex_flow": null,
            "grid_area": null,
            "grid_auto_columns": null,
            "grid_auto_flow": null,
            "grid_auto_rows": null,
            "grid_column": null,
            "grid_gap": null,
            "grid_row": null,
            "grid_template_areas": null,
            "grid_template_columns": null,
            "grid_template_rows": null,
            "height": null,
            "justify_content": null,
            "justify_items": null,
            "left": null,
            "margin": null,
            "max_height": null,
            "max_width": null,
            "min_height": null,
            "min_width": null,
            "object_fit": null,
            "object_position": null,
            "order": null,
            "overflow": null,
            "overflow_x": null,
            "overflow_y": null,
            "padding": null,
            "right": null,
            "top": null,
            "visibility": null,
            "width": null
          }
        },
        "e07f4d71258f46eeb3388c2d5440234d": {
          "model_module": "@jupyter-widgets/base",
          "model_name": "LayoutModel",
          "model_module_version": "1.2.0",
          "state": {
            "_model_module": "@jupyter-widgets/base",
            "_model_module_version": "1.2.0",
            "_model_name": "LayoutModel",
            "_view_count": null,
            "_view_module": "@jupyter-widgets/base",
            "_view_module_version": "1.2.0",
            "_view_name": "LayoutView",
            "align_content": null,
            "align_items": null,
            "align_self": null,
            "border": null,
            "bottom": null,
            "display": null,
            "flex": null,
            "flex_flow": null,
            "grid_area": null,
            "grid_auto_columns": null,
            "grid_auto_flow": null,
            "grid_auto_rows": null,
            "grid_column": null,
            "grid_gap": null,
            "grid_row": null,
            "grid_template_areas": null,
            "grid_template_columns": null,
            "grid_template_rows": null,
            "height": null,
            "justify_content": null,
            "justify_items": null,
            "left": null,
            "margin": null,
            "max_height": null,
            "max_width": null,
            "min_height": null,
            "min_width": null,
            "object_fit": null,
            "object_position": null,
            "order": null,
            "overflow": null,
            "overflow_x": null,
            "overflow_y": null,
            "padding": null,
            "right": null,
            "top": null,
            "visibility": null,
            "width": null
          }
        },
        "79ee0939bfd94a12b313cb5b3b47fa8a": {
          "model_module": "@jupyter-widgets/controls",
          "model_name": "DescriptionStyleModel",
          "model_module_version": "1.5.0",
          "state": {
            "_model_module": "@jupyter-widgets/controls",
            "_model_module_version": "1.5.0",
            "_model_name": "DescriptionStyleModel",
            "_view_count": null,
            "_view_module": "@jupyter-widgets/base",
            "_view_module_version": "1.2.0",
            "_view_name": "StyleView",
            "description_width": ""
          }
        },
        "95b0f4ed3d8e4c379278cacba8369824": {
          "model_module": "@jupyter-widgets/base",
          "model_name": "LayoutModel",
          "model_module_version": "1.2.0",
          "state": {
            "_model_module": "@jupyter-widgets/base",
            "_model_module_version": "1.2.0",
            "_model_name": "LayoutModel",
            "_view_count": null,
            "_view_module": "@jupyter-widgets/base",
            "_view_module_version": "1.2.0",
            "_view_name": "LayoutView",
            "align_content": null,
            "align_items": null,
            "align_self": null,
            "border": null,
            "bottom": null,
            "display": null,
            "flex": null,
            "flex_flow": null,
            "grid_area": null,
            "grid_auto_columns": null,
            "grid_auto_flow": null,
            "grid_auto_rows": null,
            "grid_column": null,
            "grid_gap": null,
            "grid_row": null,
            "grid_template_areas": null,
            "grid_template_columns": null,
            "grid_template_rows": null,
            "height": null,
            "justify_content": null,
            "justify_items": null,
            "left": null,
            "margin": null,
            "max_height": null,
            "max_width": null,
            "min_height": null,
            "min_width": null,
            "object_fit": null,
            "object_position": null,
            "order": null,
            "overflow": null,
            "overflow_x": null,
            "overflow_y": null,
            "padding": null,
            "right": null,
            "top": null,
            "visibility": null,
            "width": null
          }
        },
        "bc877a9910f84ea9b43883d0c76747a7": {
          "model_module": "@jupyter-widgets/controls",
          "model_name": "ProgressStyleModel",
          "model_module_version": "1.5.0",
          "state": {
            "_model_module": "@jupyter-widgets/controls",
            "_model_module_version": "1.5.0",
            "_model_name": "ProgressStyleModel",
            "_view_count": null,
            "_view_module": "@jupyter-widgets/base",
            "_view_module_version": "1.2.0",
            "_view_name": "StyleView",
            "bar_color": null,
            "description_width": ""
          }
        },
        "ab7a57916d3545cfb35e73320b3f7fea": {
          "model_module": "@jupyter-widgets/base",
          "model_name": "LayoutModel",
          "model_module_version": "1.2.0",
          "state": {
            "_model_module": "@jupyter-widgets/base",
            "_model_module_version": "1.2.0",
            "_model_name": "LayoutModel",
            "_view_count": null,
            "_view_module": "@jupyter-widgets/base",
            "_view_module_version": "1.2.0",
            "_view_name": "LayoutView",
            "align_content": null,
            "align_items": null,
            "align_self": null,
            "border": null,
            "bottom": null,
            "display": null,
            "flex": null,
            "flex_flow": null,
            "grid_area": null,
            "grid_auto_columns": null,
            "grid_auto_flow": null,
            "grid_auto_rows": null,
            "grid_column": null,
            "grid_gap": null,
            "grid_row": null,
            "grid_template_areas": null,
            "grid_template_columns": null,
            "grid_template_rows": null,
            "height": null,
            "justify_content": null,
            "justify_items": null,
            "left": null,
            "margin": null,
            "max_height": null,
            "max_width": null,
            "min_height": null,
            "min_width": null,
            "object_fit": null,
            "object_position": null,
            "order": null,
            "overflow": null,
            "overflow_x": null,
            "overflow_y": null,
            "padding": null,
            "right": null,
            "top": null,
            "visibility": null,
            "width": null
          }
        },
        "40ece9ca7f5a4d719d1de651feea6d8a": {
          "model_module": "@jupyter-widgets/controls",
          "model_name": "DescriptionStyleModel",
          "model_module_version": "1.5.0",
          "state": {
            "_model_module": "@jupyter-widgets/controls",
            "_model_module_version": "1.5.0",
            "_model_name": "DescriptionStyleModel",
            "_view_count": null,
            "_view_module": "@jupyter-widgets/base",
            "_view_module_version": "1.2.0",
            "_view_name": "StyleView",
            "description_width": ""
          }
        },
        "dc368d15d8534bf4bb3150428ed3536c": {
          "model_module": "@jupyter-widgets/controls",
          "model_name": "HBoxModel",
          "model_module_version": "1.5.0",
          "state": {
            "_dom_classes": [],
            "_model_module": "@jupyter-widgets/controls",
            "_model_module_version": "1.5.0",
            "_model_name": "HBoxModel",
            "_view_count": null,
            "_view_module": "@jupyter-widgets/controls",
            "_view_module_version": "1.5.0",
            "_view_name": "HBoxView",
            "box_style": "",
            "children": [
              "IPY_MODEL_6c3829332f754423a4e87c48ff4b9e82",
              "IPY_MODEL_cb591bd86ccc47869bb61fa07c49163f",
              "IPY_MODEL_a97991c5349b4fd39445162282ceddce"
            ],
            "layout": "IPY_MODEL_ff7772096f4041a4b350a83f73c22617"
          }
        },
        "6c3829332f754423a4e87c48ff4b9e82": {
          "model_module": "@jupyter-widgets/controls",
          "model_name": "HTMLModel",
          "model_module_version": "1.5.0",
          "state": {
            "_dom_classes": [],
            "_model_module": "@jupyter-widgets/controls",
            "_model_module_version": "1.5.0",
            "_model_name": "HTMLModel",
            "_view_count": null,
            "_view_module": "@jupyter-widgets/controls",
            "_view_module_version": "1.5.0",
            "_view_name": "HTMLView",
            "description": "",
            "description_tooltip": null,
            "layout": "IPY_MODEL_b5e2d6c8542148b4ad3f834e6d93cb9b",
            "placeholder": "​",
            "style": "IPY_MODEL_4aa4e4d3f6d848fc9017125d6948ba2a",
            "value": "Downloading pytorch_model.bin: 100%"
          }
        },
        "cb591bd86ccc47869bb61fa07c49163f": {
          "model_module": "@jupyter-widgets/controls",
          "model_name": "FloatProgressModel",
          "model_module_version": "1.5.0",
          "state": {
            "_dom_classes": [],
            "_model_module": "@jupyter-widgets/controls",
            "_model_module_version": "1.5.0",
            "_model_name": "FloatProgressModel",
            "_view_count": null,
            "_view_module": "@jupyter-widgets/controls",
            "_view_module_version": "1.5.0",
            "_view_name": "ProgressView",
            "bar_style": "success",
            "description": "",
            "description_tooltip": null,
            "layout": "IPY_MODEL_5228791818d9448c8b529e525ffb9753",
            "max": 534276705,
            "min": 0,
            "orientation": "horizontal",
            "style": "IPY_MODEL_253c320ffdda4a24b4a275dbb693ad7e",
            "value": 534276705
          }
        },
        "a97991c5349b4fd39445162282ceddce": {
          "model_module": "@jupyter-widgets/controls",
          "model_name": "HTMLModel",
          "model_module_version": "1.5.0",
          "state": {
            "_dom_classes": [],
            "_model_module": "@jupyter-widgets/controls",
            "_model_module_version": "1.5.0",
            "_model_name": "HTMLModel",
            "_view_count": null,
            "_view_module": "@jupyter-widgets/controls",
            "_view_module_version": "1.5.0",
            "_view_name": "HTMLView",
            "description": "",
            "description_tooltip": null,
            "layout": "IPY_MODEL_81f7fcfef00b429d86146c4de39fd237",
            "placeholder": "​",
            "style": "IPY_MODEL_4378e482e42f4668afcbd4d8e0eedad2",
            "value": " 534M/534M [00:48&lt;00:00, 16.0MB/s]"
          }
        },
        "ff7772096f4041a4b350a83f73c22617": {
          "model_module": "@jupyter-widgets/base",
          "model_name": "LayoutModel",
          "model_module_version": "1.2.0",
          "state": {
            "_model_module": "@jupyter-widgets/base",
            "_model_module_version": "1.2.0",
            "_model_name": "LayoutModel",
            "_view_count": null,
            "_view_module": "@jupyter-widgets/base",
            "_view_module_version": "1.2.0",
            "_view_name": "LayoutView",
            "align_content": null,
            "align_items": null,
            "align_self": null,
            "border": null,
            "bottom": null,
            "display": null,
            "flex": null,
            "flex_flow": null,
            "grid_area": null,
            "grid_auto_columns": null,
            "grid_auto_flow": null,
            "grid_auto_rows": null,
            "grid_column": null,
            "grid_gap": null,
            "grid_row": null,
            "grid_template_areas": null,
            "grid_template_columns": null,
            "grid_template_rows": null,
            "height": null,
            "justify_content": null,
            "justify_items": null,
            "left": null,
            "margin": null,
            "max_height": null,
            "max_width": null,
            "min_height": null,
            "min_width": null,
            "object_fit": null,
            "object_position": null,
            "order": null,
            "overflow": null,
            "overflow_x": null,
            "overflow_y": null,
            "padding": null,
            "right": null,
            "top": null,
            "visibility": null,
            "width": null
          }
        },
        "b5e2d6c8542148b4ad3f834e6d93cb9b": {
          "model_module": "@jupyter-widgets/base",
          "model_name": "LayoutModel",
          "model_module_version": "1.2.0",
          "state": {
            "_model_module": "@jupyter-widgets/base",
            "_model_module_version": "1.2.0",
            "_model_name": "LayoutModel",
            "_view_count": null,
            "_view_module": "@jupyter-widgets/base",
            "_view_module_version": "1.2.0",
            "_view_name": "LayoutView",
            "align_content": null,
            "align_items": null,
            "align_self": null,
            "border": null,
            "bottom": null,
            "display": null,
            "flex": null,
            "flex_flow": null,
            "grid_area": null,
            "grid_auto_columns": null,
            "grid_auto_flow": null,
            "grid_auto_rows": null,
            "grid_column": null,
            "grid_gap": null,
            "grid_row": null,
            "grid_template_areas": null,
            "grid_template_columns": null,
            "grid_template_rows": null,
            "height": null,
            "justify_content": null,
            "justify_items": null,
            "left": null,
            "margin": null,
            "max_height": null,
            "max_width": null,
            "min_height": null,
            "min_width": null,
            "object_fit": null,
            "object_position": null,
            "order": null,
            "overflow": null,
            "overflow_x": null,
            "overflow_y": null,
            "padding": null,
            "right": null,
            "top": null,
            "visibility": null,
            "width": null
          }
        },
        "4aa4e4d3f6d848fc9017125d6948ba2a": {
          "model_module": "@jupyter-widgets/controls",
          "model_name": "DescriptionStyleModel",
          "model_module_version": "1.5.0",
          "state": {
            "_model_module": "@jupyter-widgets/controls",
            "_model_module_version": "1.5.0",
            "_model_name": "DescriptionStyleModel",
            "_view_count": null,
            "_view_module": "@jupyter-widgets/base",
            "_view_module_version": "1.2.0",
            "_view_name": "StyleView",
            "description_width": ""
          }
        },
        "5228791818d9448c8b529e525ffb9753": {
          "model_module": "@jupyter-widgets/base",
          "model_name": "LayoutModel",
          "model_module_version": "1.2.0",
          "state": {
            "_model_module": "@jupyter-widgets/base",
            "_model_module_version": "1.2.0",
            "_model_name": "LayoutModel",
            "_view_count": null,
            "_view_module": "@jupyter-widgets/base",
            "_view_module_version": "1.2.0",
            "_view_name": "LayoutView",
            "align_content": null,
            "align_items": null,
            "align_self": null,
            "border": null,
            "bottom": null,
            "display": null,
            "flex": null,
            "flex_flow": null,
            "grid_area": null,
            "grid_auto_columns": null,
            "grid_auto_flow": null,
            "grid_auto_rows": null,
            "grid_column": null,
            "grid_gap": null,
            "grid_row": null,
            "grid_template_areas": null,
            "grid_template_columns": null,
            "grid_template_rows": null,
            "height": null,
            "justify_content": null,
            "justify_items": null,
            "left": null,
            "margin": null,
            "max_height": null,
            "max_width": null,
            "min_height": null,
            "min_width": null,
            "object_fit": null,
            "object_position": null,
            "order": null,
            "overflow": null,
            "overflow_x": null,
            "overflow_y": null,
            "padding": null,
            "right": null,
            "top": null,
            "visibility": null,
            "width": null
          }
        },
        "253c320ffdda4a24b4a275dbb693ad7e": {
          "model_module": "@jupyter-widgets/controls",
          "model_name": "ProgressStyleModel",
          "model_module_version": "1.5.0",
          "state": {
            "_model_module": "@jupyter-widgets/controls",
            "_model_module_version": "1.5.0",
            "_model_name": "ProgressStyleModel",
            "_view_count": null,
            "_view_module": "@jupyter-widgets/base",
            "_view_module_version": "1.2.0",
            "_view_name": "StyleView",
            "bar_color": null,
            "description_width": ""
          }
        },
        "81f7fcfef00b429d86146c4de39fd237": {
          "model_module": "@jupyter-widgets/base",
          "model_name": "LayoutModel",
          "model_module_version": "1.2.0",
          "state": {
            "_model_module": "@jupyter-widgets/base",
            "_model_module_version": "1.2.0",
            "_model_name": "LayoutModel",
            "_view_count": null,
            "_view_module": "@jupyter-widgets/base",
            "_view_module_version": "1.2.0",
            "_view_name": "LayoutView",
            "align_content": null,
            "align_items": null,
            "align_self": null,
            "border": null,
            "bottom": null,
            "display": null,
            "flex": null,
            "flex_flow": null,
            "grid_area": null,
            "grid_auto_columns": null,
            "grid_auto_flow": null,
            "grid_auto_rows": null,
            "grid_column": null,
            "grid_gap": null,
            "grid_row": null,
            "grid_template_areas": null,
            "grid_template_columns": null,
            "grid_template_rows": null,
            "height": null,
            "justify_content": null,
            "justify_items": null,
            "left": null,
            "margin": null,
            "max_height": null,
            "max_width": null,
            "min_height": null,
            "min_width": null,
            "object_fit": null,
            "object_position": null,
            "order": null,
            "overflow": null,
            "overflow_x": null,
            "overflow_y": null,
            "padding": null,
            "right": null,
            "top": null,
            "visibility": null,
            "width": null
          }
        },
        "4378e482e42f4668afcbd4d8e0eedad2": {
          "model_module": "@jupyter-widgets/controls",
          "model_name": "DescriptionStyleModel",
          "model_module_version": "1.5.0",
          "state": {
            "_model_module": "@jupyter-widgets/controls",
            "_model_module_version": "1.5.0",
            "_model_name": "DescriptionStyleModel",
            "_view_count": null,
            "_view_module": "@jupyter-widgets/base",
            "_view_module_version": "1.2.0",
            "_view_name": "StyleView",
            "description_width": ""
          }
        }
      }
    }
  },
  "cells": [
    {
      "cell_type": "markdown",
      "source": [
        "# **Sentence sequence labeling approach for Rhetorical Roles (RR) classification task**\n",
        "\n",
        "**Description of our approach:** The primary idea for model development that has been proposed in this work, is a sentence-sequence classification based idea, where a local-context based dataset is  built for model training. This dataset is built with a sentence window size of 5, where we hoped to train a sentence-sequence classification model that can learn from it's local context. The reason for restricting the window size to 5 sentences is due to the resource constraints as well as the extremely lengthy nature of legal documents."
      ],
      "metadata": {
        "id": "k1kbt3oTu1p4"
      }
    },
    {
      "cell_type": "markdown",
      "source": [
        "**During Prediction:** During inference we consider two different ways of recovering the sentence level labels: considering the middle sentence in an input sequence as the sentence of interest for recording it's label and considering the last sentence as the sentence of interest. These two approaches are called as the \"$M_{SS-Mid}$\" and \"$M_{SS-End}$\" respectively."
      ],
      "metadata": {
        "id": "jCHWtVYjvb9z"
      }
    },
    {
      "cell_type": "code",
      "execution_count": null,
      "metadata": {
        "colab": {
          "base_uri": "https://localhost:8080/"
        },
        "id": "frkBeDKKmqmS",
        "outputId": "2be39780-361e-4aca-a899-aef7bf52cdfe"
      },
      "outputs": [
        {
          "output_type": "stream",
          "name": "stdout",
          "text": [
            "Mounted at /content/drive\n"
          ]
        }
      ],
      "source": [
        "from google.colab import drive\n",
        "drive.mount('/content/drive')"
      ]
    },
    {
      "cell_type": "code",
      "source": [
        "import matplotlib.pyplot as plt\n",
        "import pandas as pd\n",
        "import numpy as np\n",
        "import json\n",
        "import re\n",
        "import csv\n",
        "import torch\n",
        "from sklearn.model_selection import train_test_split\n",
        "import tensorflow as tf\n",
        "from tensorflow.keras.layers import Dense, Input, Dropout\n",
        "from tensorflow.keras.callbacks import EarlyStopping\n",
        "from tensorflow.keras.models import Sequential, Model, load_model\n",
        "from tensorflow.keras.optimizers import Adam\n"
      ],
      "metadata": {
        "id": "Z8tTUQAVnz8S"
      },
      "execution_count": null,
      "outputs": []
    },
    {
      "cell_type": "code",
      "source": [
        "!pip install transformers\n",
        "\n",
        "# If there's a GPU available...\n",
        "if torch.cuda.is_available():    \n",
        "\n",
        "    # Tell PyTorch to use the GPU.    \n",
        "    device = torch.device(\"cuda\")\n",
        "\n",
        "    print('There are %d GPU(s) available.' % torch.cuda.device_count())\n",
        "\n",
        "    print('We will use the GPU:', torch.cuda.get_device_name(0))\n",
        "\n",
        "# If not...\n",
        "else:\n",
        "    print('No GPU available, using the CPU instead.')\n",
        "    device = torch.device(\"cpu\")"
      ],
      "metadata": {
        "colab": {
          "base_uri": "https://localhost:8080/"
        },
        "id": "ZGdrPKUwn2Uq",
        "outputId": "ad3aeec3-508d-49cf-ba46-ade806d5c8af"
      },
      "execution_count": null,
      "outputs": [
        {
          "output_type": "stream",
          "name": "stdout",
          "text": [
            "Looking in indexes: https://pypi.org/simple, https://us-python.pkg.dev/colab-wheels/public/simple/\n",
            "Collecting transformers\n",
            "  Downloading transformers-4.27.4-py3-none-any.whl (6.8 MB)\n",
            "\u001b[2K     \u001b[90m━━━━━━━━━━━━━━━━━━━━━━━━━━━━━━━━━━━━━━━━\u001b[0m \u001b[32m6.8/6.8 MB\u001b[0m \u001b[31m27.5 MB/s\u001b[0m eta \u001b[36m0:00:00\u001b[0m\n",
            "\u001b[?25hRequirement already satisfied: packaging>=20.0 in /usr/local/lib/python3.9/dist-packages (from transformers) (23.0)\n",
            "Collecting tokenizers!=0.11.3,<0.14,>=0.11.1\n",
            "  Downloading tokenizers-0.13.3-cp39-cp39-manylinux_2_17_x86_64.manylinux2014_x86_64.whl (7.8 MB)\n",
            "\u001b[2K     \u001b[90m━━━━━━━━━━━━━━━━━━━━━━━━━━━━━━━━━━━━━━━━\u001b[0m \u001b[32m7.8/7.8 MB\u001b[0m \u001b[31m26.4 MB/s\u001b[0m eta \u001b[36m0:00:00\u001b[0m\n",
            "\u001b[?25hRequirement already satisfied: filelock in /usr/local/lib/python3.9/dist-packages (from transformers) (3.10.7)\n",
            "Requirement already satisfied: numpy>=1.17 in /usr/local/lib/python3.9/dist-packages (from transformers) (1.22.4)\n",
            "Requirement already satisfied: pyyaml>=5.1 in /usr/local/lib/python3.9/dist-packages (from transformers) (6.0)\n",
            "Requirement already satisfied: tqdm>=4.27 in /usr/local/lib/python3.9/dist-packages (from transformers) (4.65.0)\n",
            "Requirement already satisfied: requests in /usr/local/lib/python3.9/dist-packages (from transformers) (2.27.1)\n",
            "Requirement already satisfied: regex!=2019.12.17 in /usr/local/lib/python3.9/dist-packages (from transformers) (2022.10.31)\n",
            "Collecting huggingface-hub<1.0,>=0.11.0\n",
            "  Downloading huggingface_hub-0.13.4-py3-none-any.whl (200 kB)\n",
            "\u001b[2K     \u001b[90m━━━━━━━━━━━━━━━━━━━━━━━━━━━━━━━━━━━━━━\u001b[0m \u001b[32m200.1/200.1 KB\u001b[0m \u001b[31m12.3 MB/s\u001b[0m eta \u001b[36m0:00:00\u001b[0m\n",
            "\u001b[?25hRequirement already satisfied: typing-extensions>=3.7.4.3 in /usr/local/lib/python3.9/dist-packages (from huggingface-hub<1.0,>=0.11.0->transformers) (4.5.0)\n",
            "Requirement already satisfied: charset-normalizer~=2.0.0 in /usr/local/lib/python3.9/dist-packages (from requests->transformers) (2.0.12)\n",
            "Requirement already satisfied: idna<4,>=2.5 in /usr/local/lib/python3.9/dist-packages (from requests->transformers) (3.4)\n",
            "Requirement already satisfied: certifi>=2017.4.17 in /usr/local/lib/python3.9/dist-packages (from requests->transformers) (2022.12.7)\n",
            "Requirement already satisfied: urllib3<1.27,>=1.21.1 in /usr/local/lib/python3.9/dist-packages (from requests->transformers) (1.26.15)\n",
            "Installing collected packages: tokenizers, huggingface-hub, transformers\n",
            "Successfully installed huggingface-hub-0.13.4 tokenizers-0.13.3 transformers-4.27.4\n",
            "There are 1 GPU(s) available.\n",
            "We will use the GPU: Tesla T4\n"
          ]
        }
      ]
    },
    {
      "cell_type": "code",
      "source": [
        "from transformers import AutoTokenizer, AutoModel\n",
        "tokenizer = AutoTokenizer.from_pretrained(\"law-ai/InLegalBERT\")\n",
        "bert_model = AutoModel.from_pretrained(\"law-ai/InLegalBERT\",output_hidden_states=True)\n",
        "bert_model = bert_model.to('cuda')\n",
        "\n",
        "def numpyarray(sent):\n",
        "  granola_ids = tokenizer.encode(sent, max_length=100)\n",
        "  granola_ids = torch.LongTensor(granola_ids)\n",
        "  granola_ids = granola_ids.to(device)\n",
        "  # print(granola_ids.shape)\n",
        "  bert_model.eval()\n",
        "  granola_ids = granola_ids.unsqueeze(0)\n",
        "  # print(granola_ids.shape)\n",
        "  with torch.no_grad():\n",
        "    out = bert_model(input_ids=granola_ids)\n",
        "    # print(out[0].shape)\n",
        "  hidden_states = out[2]\n",
        "  sentence_embedding = torch.mean(hidden_states[-1], dim=1).squeeze()\n",
        "  # print(sentence_embedding.shape)\n",
        "  np_tensor = sentence_embedding.cpu().numpy()\n",
        "  return np_tensor\n"
      ],
      "metadata": {
        "colab": {
          "base_uri": "https://localhost:8080/",
          "height": 249,
          "referenced_widgets": [
            "8211d9bd30c14d7ab6796c42a198109c",
            "57401f77d880416d8ca257b9b9f70117",
            "e1f4ace38a68454ca1c658e6db2ab4d4",
            "d8173c4c65f2452d88cb13c9741e8679",
            "07119b569cc64c6c8c0c49cd6b147b39",
            "a6a7c9ad88ee42e7ac7cb64761d2aacd",
            "253d7d52afb940f49e8f5166b851bb4f",
            "6682bb36bd024776b3c8a8ccc3806d20",
            "41476f22ac21452b883299a4cef972b7",
            "8c6b7843d3014f24998dc69330f975f8",
            "ef3a76c00af441acb2294a427e3c1cca",
            "eb81077a6e384c14a72dccc81b692a51",
            "9b156c33c9bd4183a55d9ae6cc9469ef",
            "02baf845c2574c4ba8cb47fd7e95d8ba",
            "8fdaee41cd4f4c3e898bc3b73bccf5c4",
            "21e0a89ac13f43608aadcb8965b3a45c",
            "b872458736784824a5fdd372cf845150",
            "d11b23c79c234bb2a4ae466f87aa6e2c",
            "69f75f15db134031ac2b69447580e07d",
            "c5204d7d967a4123a81cd438b2bc19ea",
            "2718ab12c0724b059ff9d49de153b938",
            "8462f194bf864ca5a89b21dcdd92eb3f",
            "25c334e63cd14e81bf8e51e315cae829",
            "9f76ad4aec4d499f929bffcb50350053",
            "2a312b973fab44f4a561f71b1f77d0f7",
            "f6b99d3951264299a12196cec602923c",
            "32f88bbc098a4548ab10af29694d0190",
            "4f1ac8caa33947d6aaad32717f178e2d",
            "690073a895894affb54c24222a85f1bf",
            "a52ecf0555294be29c3b4eda1d91eaec",
            "f1e1c7b0d2bf47db856e84135f91e669",
            "02eb5a6faf8f40588985542d604af838",
            "aa1f2281cdb946689ff960b1ee304ffb",
            "227a60c3fe8140248ae051eadbcfd270",
            "d1add79911d4448e884608de8aca4fdc",
            "1ceb15afb3694af58839c22cbddaa594",
            "b70b9953f3e34b19be0c89af0a4249f2",
            "7ba2ec631e3648aba875e77894223669",
            "e07f4d71258f46eeb3388c2d5440234d",
            "79ee0939bfd94a12b313cb5b3b47fa8a",
            "95b0f4ed3d8e4c379278cacba8369824",
            "bc877a9910f84ea9b43883d0c76747a7",
            "ab7a57916d3545cfb35e73320b3f7fea",
            "40ece9ca7f5a4d719d1de651feea6d8a",
            "dc368d15d8534bf4bb3150428ed3536c",
            "6c3829332f754423a4e87c48ff4b9e82",
            "cb591bd86ccc47869bb61fa07c49163f",
            "a97991c5349b4fd39445162282ceddce",
            "ff7772096f4041a4b350a83f73c22617",
            "b5e2d6c8542148b4ad3f834e6d93cb9b",
            "4aa4e4d3f6d848fc9017125d6948ba2a",
            "5228791818d9448c8b529e525ffb9753",
            "253c320ffdda4a24b4a275dbb693ad7e",
            "81f7fcfef00b429d86146c4de39fd237",
            "4378e482e42f4668afcbd4d8e0eedad2"
          ]
        },
        "id": "dMZxkrhWn5En",
        "outputId": "4c60fe35-3923-4947-cc25-6d6bc55f01c4"
      },
      "execution_count": null,
      "outputs": [
        {
          "output_type": "display_data",
          "data": {
            "text/plain": [
              "Downloading (…)okenizer_config.json:   0%|          | 0.00/516 [00:00<?, ?B/s]"
            ],
            "application/vnd.jupyter.widget-view+json": {
              "version_major": 2,
              "version_minor": 0,
              "model_id": "8211d9bd30c14d7ab6796c42a198109c"
            }
          },
          "metadata": {}
        },
        {
          "output_type": "display_data",
          "data": {
            "text/plain": [
              "Downloading (…)solve/main/vocab.txt:   0%|          | 0.00/222k [00:00<?, ?B/s]"
            ],
            "application/vnd.jupyter.widget-view+json": {
              "version_major": 2,
              "version_minor": 0,
              "model_id": "eb81077a6e384c14a72dccc81b692a51"
            }
          },
          "metadata": {}
        },
        {
          "output_type": "display_data",
          "data": {
            "text/plain": [
              "Downloading (…)cial_tokens_map.json:   0%|          | 0.00/112 [00:00<?, ?B/s]"
            ],
            "application/vnd.jupyter.widget-view+json": {
              "version_major": 2,
              "version_minor": 0,
              "model_id": "25c334e63cd14e81bf8e51e315cae829"
            }
          },
          "metadata": {}
        },
        {
          "output_type": "display_data",
          "data": {
            "text/plain": [
              "Downloading (…)lve/main/config.json:   0%|          | 0.00/671 [00:00<?, ?B/s]"
            ],
            "application/vnd.jupyter.widget-view+json": {
              "version_major": 2,
              "version_minor": 0,
              "model_id": "227a60c3fe8140248ae051eadbcfd270"
            }
          },
          "metadata": {}
        },
        {
          "output_type": "display_data",
          "data": {
            "text/plain": [
              "Downloading pytorch_model.bin:   0%|          | 0.00/534M [00:00<?, ?B/s]"
            ],
            "application/vnd.jupyter.widget-view+json": {
              "version_major": 2,
              "version_minor": 0,
              "model_id": "dc368d15d8534bf4bb3150428ed3536c"
            }
          },
          "metadata": {}
        },
        {
          "output_type": "stream",
          "name": "stderr",
          "text": [
            "Some weights of the model checkpoint at law-ai/InLegalBERT were not used when initializing BertModel: ['cls.seq_relationship.weight', 'cls.seq_relationship.bias', 'cls.predictions.transform.LayerNorm.weight', 'cls.predictions.transform.LayerNorm.bias', 'cls.predictions.decoder.bias', 'cls.predictions.bias', 'cls.predictions.decoder.weight', 'cls.predictions.transform.dense.bias', 'cls.predictions.transform.dense.weight']\n",
            "- This IS expected if you are initializing BertModel from the checkpoint of a model trained on another task or with another architecture (e.g. initializing a BertForSequenceClassification model from a BertForPreTraining model).\n",
            "- This IS NOT expected if you are initializing BertModel from the checkpoint of a model that you expect to be exactly identical (initializing a BertForSequenceClassification model from a BertForSequenceClassification model).\n"
          ]
        }
      ]
    },
    {
      "cell_type": "markdown",
      "source": [
        "*The below code creates the sentence sequential training dataset in which we consider four previous sentences.*"
      ],
      "metadata": {
        "id": "nGpHfewtkErs"
      }
    },
    {
      "cell_type": "code",
      "source": [
        "# import numpy as np #considers 4 previous sentences, in total 5 sentences\n",
        "# def dataset_creation(doc,labels):\n",
        "#   s1 = np.zeros(768)\n",
        "#   # print(type(s1))\n",
        "#   s2=np.zeros(768)\n",
        "#   s3=np.zeros(768)\n",
        "#   s4=np.zeros(768)\n",
        "#   fl=[]\n",
        "#   fl_l=[]\n",
        "#   dc=[]\n",
        "#   label_list=[]\n",
        "#   dc.append(s1)\n",
        "#   label_list.append('pad')\n",
        "#   dc.append(s2)\n",
        "#   label_list.append('pad')\n",
        "#   dc.append(s3)\n",
        "#   label_list.append('pad')\n",
        "#   dc.append(s4)\n",
        "#   label_list.append('pad')\n",
        "#   dc.append(numpyarray(doc[0]))\n",
        "#   label_list.append(labels[0])\n",
        "#   fl.append(np.stack(dc))\n",
        "#   fl_l.append(label_list)\n",
        "#   dc=[]\n",
        "#   label_list=[]\n",
        "#   dc.append(s2)\n",
        "#   label_list.append('pad')\n",
        "#   dc.append(s3)\n",
        "#   label_list.append('pad')\n",
        "#   dc.append(s4)\n",
        "#   label_list.append('pad')\n",
        "#   dc.append(numpyarray(doc[0]))\n",
        "#   label_list.append(labels[0])\n",
        "#   dc.append(numpyarray(doc[1]))\n",
        "#   label_list.append(labels[1])\n",
        "#   fl.append(np.stack(dc))\n",
        "#   fl_l.append(label_list)\n",
        "#   dc=[]\n",
        "#   label_list=[]\n",
        "#   dc.append(s3)\n",
        "#   label_list.append('pad')\n",
        "#   dc.append(s4)\n",
        "#   label_list.append('pad')\n",
        "#   dc.append(numpyarray(doc[0]))\n",
        "#   label_list.append(labels[0])\n",
        "#   dc.append(numpyarray(doc[1]))\n",
        "#   label_list.append(labels[1])\n",
        "#   dc.append(numpyarray(doc[2]))\n",
        "#   label_list.append(labels[2])\n",
        "#   fl.append(np.stack(dc))\n",
        "#   fl_l.append(label_list)\n",
        "#   dc=[]\n",
        "#   label_list=[]\n",
        "#   dc.append(s4)\n",
        "#   label_list.append('pad')\n",
        "#   dc.append(numpyarray(doc[0]))\n",
        "#   label_list.append(labels[0])\n",
        "#   dc.append(numpyarray(doc[1]))\n",
        "#   label_list.append(labels[1])\n",
        "#   dc.append(numpyarray(doc[2]))\n",
        "#   label_list.append(labels[2])\n",
        "#   dc.append(numpyarray(doc[3]))\n",
        "#   label_list.append(labels[3])\n",
        "#   fl.append(np.stack(dc))\n",
        "#   fl_l.append(label_list)\n",
        "\n",
        "#   for i in range(4,len(doc)):\n",
        "#     dc=[]\n",
        "#     label_list=[]\n",
        "#     dc.append(numpyarray(doc[i-4]))\n",
        "#     label_list.append(labels[i-4])\n",
        "#     dc.append(numpyarray(doc[i-3]))\n",
        "#     label_list.append(labels[i-3])\n",
        "#     dc.append(numpyarray(doc[i-2]))\n",
        "#     label_list.append(labels[i-2])\n",
        "#     dc.append(numpyarray(doc[i-1]))\n",
        "#     label_list.append(labels[i-1])\n",
        "#     dc.append(numpyarray(doc[i]))\n",
        "#     label_list.append(labels[i])\n",
        "#     fl.append(np.stack(dc))\n",
        "#     fl_l.append(label_list)\n",
        "#   # for i in range(len(fl)):\n",
        "#   #   print(fl[i].shape)\n",
        "#   fl=np.stack(fl)\n",
        "#   return fl, fl_l"
      ],
      "metadata": {
        "id": "md9R4ADQoFGl"
      },
      "execution_count": null,
      "outputs": []
    },
    {
      "cell_type": "code",
      "source": [
        "# samplesX=[]\n",
        "# samplesY=[]\n",
        "# for i in range(len(CleanedText)):\n",
        "#   x,y=new_dataset_creation(CleanedText[i],AllLabels[i])\n",
        "#   samplesX.append(x)\n",
        "#   samplesY+=y\n",
        "#   print(i)\n",
        "# samplesX=np.vstack(samplesX)\n",
        "# print(len(samplesY))\n",
        "# print(samplesX.shape)"
      ],
      "metadata": {
        "id": "bV5XtLCaydSp"
      },
      "execution_count": null,
      "outputs": []
    },
    {
      "cell_type": "code",
      "source": [
        "f = open(\"/content/drive/My Drive/Colab Notebooks/LegalEval/RR_dev.json\")\n",
        "\n",
        "data = json.load(f)\n",
        "print(\"Total validation samples provided by the organizers: \", len(data))\n",
        "\n",
        "AllText=[]\n",
        "for i in range(len(data)):\n",
        "    TempText=[]\n",
        "    if len(data[i]['annotations'][0]['result'])!=0:\n",
        "\n",
        "        for j in range(len(data[i]['annotations'][0]['result'])):\n",
        "            TempText.append(data[i]['annotations'][0]['result'][j]['value']['text'])\n",
        "        AllText.append(TempText)\n",
        "\n",
        "\n",
        "CleanedText=[]\n",
        "for i in range(len(AllText)):\n",
        "    TempCleanedText=[]\n",
        "    for j in range(len(AllText[i])):\n",
        "        AllText[i][j]=AllText[i][j].replace(\"\\n\",\" \")\n",
        "        AllText[i][j]=re.sub('\\s+',' ',AllText[i][j])\n",
        "        AllText[i][j]=AllText[i][j].lower()\n",
        "        TempCleanedText.append(AllText[i][j])\n",
        "    CleanedText.append(TempCleanedText)  \n",
        "print(\"After cleaning, total number of samples in validation data (documentwise): \", len(CleanedText))\n",
        "\n",
        "AllLabels=[]\n",
        "for i in range(len(data)):\n",
        "    TempLabels=[]\n",
        "    if len(data[i]['annotations'][0]['result'])!=0:\n",
        "        for j in range(len(data[i]['annotations'][0]['result'])):\n",
        "            TempLabels.append(data[i]['annotations'][0]['result'][j]['value']['labels'][0])\n",
        "        AllLabels.append(TempLabels)\n",
        "    \n",
        "for i in range(len(AllLabels)):\n",
        "    for j in range(len(AllLabels[i])):\n",
        "        AllLabels[i][j]=AllLabels[i][j].lower()    \n",
        "print(\"After cleaning, total number of labels in validation data (documentwise): \", len(AllLabels)) "
      ],
      "metadata": {
        "colab": {
          "base_uri": "https://localhost:8080/"
        },
        "id": "qQIx_jLmo9QK",
        "outputId": "4cbfb32c-fa02-421e-86bb-08c02ad1c6ae"
      },
      "execution_count": null,
      "outputs": [
        {
          "output_type": "stream",
          "name": "stdout",
          "text": [
            "Total validation samples provided by the organizers:  30\n",
            "After cleaning, total number of samples in validation data (documentwise):  30\n",
            "After cleaning, total number of labels in validation data (documentwise):  30\n"
          ]
        }
      ]
    },
    {
      "cell_type": "markdown",
      "source": [
        "*The sequential dataset that we have created is utilized for training.*"
      ],
      "metadata": {
        "id": "5QBv4_aTnySE"
      }
    },
    {
      "cell_type": "code",
      "source": [
        "npy_samplesX=np.load('/content/drive/My Drive/Colab Notebooks/LegalEval/samplesX_5_sent.npy')\n",
        "print(npy_samplesX.shape)\n",
        "npy_ValSamplesX=np.load('/content/drive/My Drive/Colab Notebooks/LegalEval/ValSamplesX_5_sent.npy')\n",
        "print(npy_ValSamplesX.shape)"
      ],
      "metadata": {
        "colab": {
          "base_uri": "https://localhost:8080/"
        },
        "id": "mqHR1qyJpGaj",
        "outputId": "943921cd-e44c-4fa5-fc1d-3ccebde1a64f"
      },
      "execution_count": null,
      "outputs": [
        {
          "output_type": "stream",
          "name": "stdout",
          "text": [
            "(28986, 5, 768)\n",
            "(2879, 5, 768)\n"
          ]
        }
      ]
    },
    {
      "cell_type": "code",
      "source": [
        "import pandas as pd\n",
        "df=pd.read_csv('/content/drive/My Drive/Colab Notebooks/LegalEval/samplesY_5_sent.csv',header=None)\n",
        "df_samplesY=df.values.tolist()\n",
        "print(len(df_samplesY))\n",
        "print(df_samplesY[0])\n",
        "print(df_samplesY[5])"
      ],
      "metadata": {
        "colab": {
          "base_uri": "https://localhost:8080/"
        },
        "id": "lU_AELiXpKUr",
        "outputId": "78ac62fe-8487-4978-cf3f-bc612c27507d"
      },
      "execution_count": null,
      "outputs": [
        {
          "output_type": "stream",
          "name": "stdout",
          "text": [
            "28986\n",
            "['pad', 'pad', 'pad', 'pad', 'preamble']\n",
            "['preamble', 'preamble', 'preamble', 'none', 'fac']\n"
          ]
        }
      ]
    },
    {
      "cell_type": "code",
      "source": [
        "df_val=pd.read_csv('/content/drive/My Drive/Colab Notebooks/LegalEval/ValSamplesY_5_sent.csv',header=None)\n",
        "df_val.describe()\n",
        "df_val_samplesY=df_val.values.tolist()\n",
        "print(len(df_val_samplesY))\n",
        "print(df_val_samplesY[0])\n",
        "print(df_val_samplesY[5])"
      ],
      "metadata": {
        "colab": {
          "base_uri": "https://localhost:8080/"
        },
        "id": "m4klFviNpOfV",
        "outputId": "205d0f58-8e4f-4ca9-f7c3-d82997b2714a"
      },
      "execution_count": null,
      "outputs": [
        {
          "output_type": "stream",
          "name": "stdout",
          "text": [
            "2879\n",
            "['pad', 'pad', 'pad', 'pad', 'preamble']\n",
            "['preamble', 'preamble', 'preamble', 'preamble', 'preamble']\n"
          ]
        }
      ]
    },
    {
      "cell_type": "markdown",
      "source": [
        "*Weconsidered one more label 'pad' for those sentences that we have considered for creating sequential dataset.*"
      ],
      "metadata": {
        "id": "budRViOPo1GY"
      }
    },
    {
      "cell_type": "code",
      "source": [
        "num2text_label_dict={0:'analysis',1: 'arg_petitioner',2:'arg_respondent',3:'fac',4: 'issue',\n",
        "            5:'none',6:'pre_not_relied',7: 'pre_relied',8:'preamble',9:'ratio',10:'rlc',11: 'rpc',12:'sta',13:'pad'}\n",
        "\n",
        "text2num_label_dict={v:k for k,v in num2text_label_dict.items()}\n",
        "\n",
        "encoded_samplesY=[]\n",
        "for i in range(len(df_samplesY)):\n",
        "  temp=[]\n",
        "  for j in range(len(df_samplesY[i])):\n",
        "    temp.append(text2num_label_dict[df_samplesY[i][j]])\n",
        "  encoded_samplesY.append(temp)\n",
        "encoded_samplesY=np.array(encoded_samplesY)\n",
        "print(encoded_samplesY.shape) \n",
        "print(encoded_samplesY[0])"
      ],
      "metadata": {
        "colab": {
          "base_uri": "https://localhost:8080/"
        },
        "id": "Y5IJH-nGpTqT",
        "outputId": "ecf54a11-8cfc-42b3-cb06-2e9ac80feafc"
      },
      "execution_count": null,
      "outputs": [
        {
          "output_type": "stream",
          "name": "stdout",
          "text": [
            "(28986, 5)\n",
            "[13 13 13 13  8]\n"
          ]
        }
      ]
    },
    {
      "cell_type": "code",
      "source": [
        "encoded_val_samplesY=[]\n",
        "for i in range(len(df_val_samplesY)):\n",
        "  temp=[]\n",
        "  for j in range(len(df_val_samplesY[i])):\n",
        "    temp.append(text2num_label_dict[df_val_samplesY[i][j]])\n",
        "  encoded_val_samplesY.append(temp)\n",
        "encoded_val_samplesY=np.array(encoded_val_samplesY)\n",
        "print(encoded_val_samplesY.shape) \n",
        "print(encoded_val_samplesY[0])"
      ],
      "metadata": {
        "colab": {
          "base_uri": "https://localhost:8080/"
        },
        "id": "Ix0tyQlepgyI",
        "outputId": "e56988f5-d3dc-4ffa-9187-99d73126cb41"
      },
      "execution_count": null,
      "outputs": [
        {
          "output_type": "stream",
          "name": "stdout",
          "text": [
            "(2879, 5)\n",
            "[13 13 13 13  8]\n"
          ]
        }
      ]
    },
    {
      "cell_type": "code",
      "source": [
        "from keras.models import Sequential\n",
        "from keras.layers import Dense, LSTM, InputLayer, Bidirectional, TimeDistributed, Embedding, Activation\n",
        "from keras.optimizers import Adam\n",
        "from tensorflow.keras import regularizers \n",
        " \n",
        "model = Sequential()\n",
        "model.add(InputLayer(input_shape=(5,768, )))\n",
        "model.add(Bidirectional(LSTM(128, return_sequences=True)))\n",
        "model.add(Dropout(0.4))\n",
        "model.add(Bidirectional(LSTM(128, return_sequences=True)))\n",
        "model.add(Dropout(0.4))\n",
        "model.add(TimeDistributed(Dense(14)))\n",
        "model.add(Activation('softmax'))\n",
        "model.compile(loss='sparse_categorical_crossentropy',optimizer=Adam(0.001),metrics=['accuracy'])\n",
        " \n",
        "model.summary()"
      ],
      "metadata": {
        "colab": {
          "base_uri": "https://localhost:8080/"
        },
        "id": "tEipII5qpuyP",
        "outputId": "4fdc6000-5134-48a9-d24c-65c601179e1c"
      },
      "execution_count": null,
      "outputs": [
        {
          "output_type": "stream",
          "name": "stdout",
          "text": [
            "Model: \"sequential_1\"\n",
            "_________________________________________________________________\n",
            " Layer (type)                Output Shape              Param #   \n",
            "=================================================================\n",
            " bidirectional_2 (Bidirectio  (None, 5, 256)           918528    \n",
            " nal)                                                            \n",
            "                                                                 \n",
            " dropout_2 (Dropout)         (None, 5, 256)            0         \n",
            "                                                                 \n",
            " bidirectional_3 (Bidirectio  (None, 5, 256)           394240    \n",
            " nal)                                                            \n",
            "                                                                 \n",
            " dropout_3 (Dropout)         (None, 5, 256)            0         \n",
            "                                                                 \n",
            " time_distributed_1 (TimeDis  (None, 5, 14)            3598      \n",
            " tributed)                                                       \n",
            "                                                                 \n",
            " activation_1 (Activation)   (None, 5, 14)             0         \n",
            "                                                                 \n",
            "=================================================================\n",
            "Total params: 1,316,366\n",
            "Trainable params: 1,316,366\n",
            "Non-trainable params: 0\n",
            "_________________________________________________________________\n"
          ]
        }
      ]
    },
    {
      "cell_type": "code",
      "source": [
        "es = EarlyStopping(monitor='val_loss', mode='min', verbose=1, patience=10, restore_best_weights=True)\n",
        "history=model.fit(npy_samplesX, encoded_samplesY, validation_data=(npy_ValSamplesX,encoded_val_samplesY),epochs =500,callbacks=[es], batch_size= 16, shuffle=True)"
      ],
      "metadata": {
        "colab": {
          "base_uri": "https://localhost:8080/"
        },
        "id": "-dhSs8wPqzyB",
        "outputId": "aeb7788f-1add-4ca0-e990-65fb180423cf"
      },
      "execution_count": null,
      "outputs": [
        {
          "output_type": "stream",
          "name": "stdout",
          "text": [
            "Epoch 1/500\n",
            "1812/1812 [==============================] - 40s 15ms/step - loss: 0.9447 - accuracy: 0.6846 - val_loss: 0.9745 - val_accuracy: 0.6950\n",
            "Epoch 2/500\n",
            "1812/1812 [==============================] - 17s 9ms/step - loss: 0.6263 - accuracy: 0.7820 - val_loss: 0.8738 - val_accuracy: 0.7499\n",
            "Epoch 3/500\n",
            "1812/1812 [==============================] - 16s 9ms/step - loss: 0.4589 - accuracy: 0.8382 - val_loss: 0.9788 - val_accuracy: 0.7489\n",
            "Epoch 4/500\n",
            "1812/1812 [==============================] - 16s 9ms/step - loss: 0.3445 - accuracy: 0.8774 - val_loss: 0.9838 - val_accuracy: 0.7470\n",
            "Epoch 5/500\n",
            "1812/1812 [==============================] - 16s 9ms/step - loss: 0.2558 - accuracy: 0.9091 - val_loss: 1.0863 - val_accuracy: 0.7464\n",
            "Epoch 6/500\n",
            "1812/1812 [==============================] - 19s 10ms/step - loss: 0.2017 - accuracy: 0.9282 - val_loss: 1.2671 - val_accuracy: 0.7255\n",
            "Epoch 7/500\n",
            "1812/1812 [==============================] - 16s 9ms/step - loss: 0.1670 - accuracy: 0.9403 - val_loss: 1.3222 - val_accuracy: 0.7494\n",
            "Epoch 8/500\n",
            "1812/1812 [==============================] - 16s 9ms/step - loss: 0.1406 - accuracy: 0.9491 - val_loss: 1.2688 - val_accuracy: 0.7524\n",
            "Epoch 9/500\n",
            "1812/1812 [==============================] - 17s 9ms/step - loss: 0.1172 - accuracy: 0.9580 - val_loss: 1.3289 - val_accuracy: 0.7608\n",
            "Epoch 10/500\n",
            "1812/1812 [==============================] - 16s 9ms/step - loss: 0.1035 - accuracy: 0.9631 - val_loss: 1.3929 - val_accuracy: 0.7476\n",
            "Epoch 11/500\n",
            "1812/1812 [==============================] - 16s 9ms/step - loss: 0.0866 - accuracy: 0.9682 - val_loss: 1.5531 - val_accuracy: 0.7432\n",
            "Epoch 12/500\n",
            "1812/1812 [==============================] - ETA: 0s - loss: 0.0840 - accuracy: 0.9692Restoring model weights from the end of the best epoch: 2.\n",
            "1812/1812 [==============================] - 16s 9ms/step - loss: 0.0840 - accuracy: 0.9692 - val_loss: 1.5158 - val_accuracy: 0.7449\n",
            "Epoch 12: early stopping\n"
          ]
        }
      ]
    },
    {
      "cell_type": "code",
      "source": [
        "from matplotlib import pyplot as plt\n",
        "# plt.plot(history.history['accuracy'])\n",
        "# plt.plot(history.history['val_accuracy'])\n",
        "plt.plot(history.history['loss'])\n",
        "plt.plot(history.history['val_loss'])\n",
        "plt.title('model performance')\n",
        "plt.ylabel('loss/accuracy')\n",
        "plt.xlabel('epoch')\n",
        "plt.legend(['train', 'val'], loc='upper right')\n",
        "plt.show()"
      ],
      "metadata": {
        "colab": {
          "base_uri": "https://localhost:8080/",
          "height": 472
        },
        "id": "q6AYKCuIq36h",
        "outputId": "a968da1f-8adb-419d-a061-79e74e296a48"
      },
      "execution_count": null,
      "outputs": [
        {
          "output_type": "display_data",
          "data": {
            "text/plain": [
              "<Figure size 640x480 with 1 Axes>"
            ],
            "image/png": "[encoded data removed]"
          },
          "metadata": {}
        }
      ]
    },
    {
      "cell_type": "code",
      "source": [
        "# model.save('/content/drive/My Drive/Colab Notebooks/LegalEval/ModelIndLegal_5Sent.h5')"
      ],
      "metadata": {
        "id": "LTrYpZ5Vq7iH"
      },
      "execution_count": null,
      "outputs": []
    },
    {
      "cell_type": "code",
      "source": [
        "# import keras\n",
        "# model=keras.models.load_model('/content/drive/My Drive/Colab Notebooks/LegalEval/ModelIndLegal_5Sent.h5')"
      ],
      "metadata": {
        "id": "Jms5uInJq_rD"
      },
      "execution_count": null,
      "outputs": []
    },
    {
      "cell_type": "markdown",
      "source": [
        "*During Prediction, we considered two previous and 2 next sentences as a context. The sentences present at index 2 is the final prediction. In our paper, we call this approach as $M_{SS-Mid}$.* "
      ],
      "metadata": {
        "id": "EDyOz_b9q3oD"
      }
    },
    {
      "cell_type": "code",
      "source": [
        "#prev two sentences and next two sentences\n",
        "import numpy as np\n",
        "def test1_dataset_creation(doc):\n",
        "  s1 = np.zeros(768)\n",
        "  # print(type(s1))\n",
        "  s2=np.zeros(768)\n",
        "  s3=np.zeros(768)\n",
        "  s4=np.zeros(768)\n",
        "\n",
        "  fl=[]\n",
        "\n",
        "  dc=[]\n",
        "  dc.append(s1)\n",
        "  dc.append(s2)\n",
        "  dc.append(numpyarray(doc[0]))\n",
        "  dc.append(numpyarray(doc[1]))\n",
        "  dc.append(numpyarray(doc[2]))\n",
        "\n",
        "  \n",
        "  fl.append(np.stack(dc))\n",
        "  \n",
        "  dc=[]\n",
        "  \n",
        "  dc.append(s2)\n",
        "  dc.append(numpyarray(doc[0]))\n",
        "  \n",
        "  dc.append(numpyarray(doc[1]))\n",
        "  dc.append(numpyarray(doc[2]))\n",
        "  dc.append(numpyarray(doc[3]))\n",
        "  fl.append(np.stack(dc))\n",
        "  \n",
        "  for i in range(2,len(doc)-2):\n",
        "    dc=[]\n",
        "    \n",
        "    dc.append(numpyarray(doc[i-2]))\n",
        "    dc.append(numpyarray(doc[i-1]))\n",
        "    dc.append(numpyarray(doc[i]))\n",
        "    dc.append(numpyarray(doc[i+1]))\n",
        "    dc.append(numpyarray(doc[i+2]))\n",
        "    fl.append(np.stack(dc))\n",
        "    \n",
        "  # for i in range(len(fl)):\n",
        "  #   print(fl[i].shape)\n",
        "  dc=[]\n",
        "  dc.append(numpyarray(doc[-4]))\n",
        "  dc.append(numpyarray(doc[-3]))\n",
        "  dc.append(numpyarray(doc[-2]))\n",
        "  dc.append(numpyarray(doc[-1]))\n",
        "  dc.append(s3)\n",
        "  fl.append(np.stack(dc))\n",
        "  \n",
        "  dc=[]\n",
        "  dc.append(numpyarray(doc[-3]))\n",
        "  dc.append(numpyarray(doc[-2]))\n",
        "  dc.append(numpyarray(doc[-1]))\n",
        "  dc.append(s3)\n",
        "  dc.append(s4)\n",
        "  fl.append(np.stack(dc))\n",
        "  \n",
        "  fl=np.stack(fl)\n",
        "  return fl"
      ],
      "metadata": {
        "id": "m9hnC-5mrBuL"
      },
      "execution_count": null,
      "outputs": []
    },
    {
      "cell_type": "code",
      "source": [
        "def predict(doc):\n",
        "  compPred=[]\n",
        "  x=test1_dataset_creation(doc)\n",
        "  # print(x.shape)\n",
        "  y_prob=model.predict(x)\n",
        "  # print(np.array(y_prob).shape)\n",
        "  # print(y_prob)\n",
        "  flat_pred=np.argmax(y_prob,axis=2)\n",
        "  flat_pred_list= flat_pred.tolist()\n",
        "  final_preds=[]\n",
        "  for i in range(len(flat_pred_list)):\n",
        "    # final_preds.append(flat_pred_list[i][-1])\n",
        "    final_preds.append(flat_pred_list[i][2])\n",
        "  return final_preds\n",
        "Preds=[]\n",
        "for i in range(len(CleanedText)):\n",
        "  Preds.append(predict(CleanedText[i]))\n",
        "  print(i)\n",
        "\n",
        "print(Preds)\n",
        "print(len(Preds[1]))"
      ],
      "metadata": {
        "colab": {
          "base_uri": "https://localhost:8080/"
        },
        "id": "vW4rSpprrJf1",
        "outputId": "45038f6a-7af3-4041-b52f-5f3b49c42f9f"
      },
      "execution_count": null,
      "outputs": [
        {
          "output_type": "stream",
          "name": "stderr",
          "text": [
            "Truncation was not explicitly activated but `max_length` is provided a specific value, please use `truncation=True` to explicitly truncate examples to max length. Defaulting to 'longest_first' truncation strategy. If you encode pairs of sequences (GLUE-style) with the tokenizer you can select this strategy more precisely by providing a specific strategy to `truncation`.\n"
          ]
        },
        {
          "output_type": "stream",
          "name": "stdout",
          "text": [
            "3/3 [==============================] - 1s 6ms/step\n",
            "0\n",
            "5/5 [==============================] - 1s 4ms/step\n",
            "1\n",
            "5/5 [==============================] - 0s 6ms/step\n",
            "2\n",
            "2/2 [==============================] - 0s 6ms/step\n",
            "3\n",
            "3/3 [==============================] - 0s 5ms/step\n",
            "4\n",
            "2/2 [==============================] - 0s 8ms/step\n",
            "5\n",
            "3/3 [==============================] - 0s 7ms/step\n",
            "6\n",
            "4/4 [==============================] - 0s 5ms/step\n",
            "7\n",
            "7/7 [==============================] - 0s 4ms/step\n",
            "8\n",
            "5/5 [==============================] - 0s 6ms/step\n",
            "9\n",
            "3/3 [==============================] - 0s 6ms/step\n",
            "10\n",
            "4/4 [==============================] - 0s 5ms/step\n",
            "11\n",
            "7/7 [==============================] - 0s 4ms/step\n",
            "12\n",
            "5/5 [==============================] - 0s 5ms/step\n",
            "13\n",
            "2/2 [==============================] - 0s 9ms/step\n",
            "14\n",
            "2/2 [==============================] - 0s 7ms/step\n",
            "15\n",
            "4/4 [==============================] - 0s 4ms/step\n",
            "16\n",
            "4/4 [==============================] - 0s 5ms/step\n",
            "17\n",
            "2/2 [==============================] - 0s 6ms/step\n",
            "18\n",
            "5/5 [==============================] - 0s 4ms/step\n",
            "19\n",
            "2/2 [==============================] - 0s 9ms/step\n",
            "20\n",
            "3/3 [==============================] - 0s 7ms/step\n",
            "21\n",
            "3/3 [==============================] - 0s 6ms/step\n",
            "22\n",
            "2/2 [==============================] - 0s 7ms/step\n",
            "23\n",
            "4/4 [==============================] - 0s 5ms/step\n",
            "24\n",
            "6/6 [==============================] - 0s 4ms/step\n",
            "25\n",
            "2/2 [==============================] - 0s 10ms/step\n",
            "26\n",
            "2/2 [==============================] - 0s 7ms/step\n",
            "27\n",
            "2/2 [==============================] - 0s 7ms/step\n",
            "28\n",
            "1/1 [==============================] - 0s 21ms/step\n",
            "29\n",
            "[[8, 8, 8, 8, 8, 8, 8, 8, 8, 8, 5, 5, 5, 8, 8, 5, 5, 5, 3, 3, 3, 3, 3, 3, 3, 3, 3, 3, 3, 3, 0, 0, 0, 0, 0, 0, 0, 0, 0, 0, 0, 0, 0, 0, 3, 3, 3, 3, 3, 3, 3, 9, 11, 0, 0, 0, 0, 0, 0, 0, 0, 0, 0, 0, 0, 0, 0, 0, 12, 12, 7, 7, 7, 0, 0, 0, 0, 0, 0, 0, 0, 0, 0, 0, 0, 0, 0, 0, 0, 0, 9, 9, 11, 11, 11, 11], [8, 8, 8, 5, 3, 3, 3, 3, 3, 3, 0, 0, 7, 7, 7, 7, 7, 0, 0, 0, 0, 0, 0, 0, 0, 0, 0, 0, 0, 0, 0, 0, 0, 0, 7, 7, 7, 0, 0, 0, 0, 0, 7, 7, 7, 7, 7, 0, 0, 0, 7, 7, 7, 0, 7, 7, 7, 7, 7, 7, 7, 7, 0, 0, 0, 0, 0, 7, 0, 0, 0, 7, 7, 0, 0, 0, 0, 0, 0, 0, 0, 0, 0, 0, 0, 7, 7, 7, 7, 7, 0, 0, 0, 0, 0, 0, 0, 7, 0, 0, 0, 0, 7, 7, 7, 7, 7, 7, 0, 0, 0, 0, 0, 0, 0, 0, 0, 0, 0, 0, 0, 0, 0, 0, 7, 0, 0, 0, 0, 0, 0, 0, 0, 0, 9, 11, 11, 5, 5], [8, 8, 8, 8, 8, 8, 8, 8, 8, 8, 8, 8, 0, 0, 0, 0, 8, 8, 8, 8, 8, 8, 8, 0, 0, 0, 8, 8, 8, 8, 8, 8, 8, 8, 8, 5, 5, 5, 5, 5, 10, 4, 3, 3, 3, 3, 3, 3, 3, 3, 3, 0, 3, 8, 3, 8, 3, 8, 8, 8, 0, 0, 0, 0, 0, 0, 0, 0, 0, 0, 0, 0, 0, 0, 0, 0, 0, 0, 12, 0, 0, 0, 0, 7, 7, 7, 7, 0, 0, 0, 0, 0, 0, 0, 0, 0, 0, 0, 0, 0, 0, 0, 0, 0, 0, 0, 0, 1, 0, 1, 0, 0, 0, 0, 0, 0, 0, 0, 0, 0, 0, 0, 0, 0, 0, 0, 0, 0, 0, 0, 0, 0, 0, 0, 0, 0, 0, 0, 0, 0, 0, 0, 0, 0, 0, 9, 9, 11, 11, 11], [8, 8, 8, 8, 8, 8, 8, 8, 8, 8, 8, 8, 8, 8, 0, 8, 8, 8, 8, 8, 5, 5, 5, 5, 5, 10, 3, 3, 3, 3, 3, 3, 3, 3, 3, 10, 10, 0, 0, 0, 0, 0, 0, 7, 0, 0, 0, 11, 9, 9, 9, 11, 11, 5], [8, 8, 8, 8, 8, 8, 8, 8, 8, 8, 8, 8, 8, 8, 8, 8, 8, 8, 8, 8, 8, 8, 8, 8, 8, 8, 8, 8, 8, 3, 3, 3, 3, 3, 3, 3, 3, 3, 3, 3, 3, 3, 3, 3, 3, 3, 3, 3, 3, 5, 4, 4, 4, 4, 4, 0, 0, 3, 3, 3, 3, 0, 0, 0, 0, 0, 0, 0, 0, 0, 0, 0, 0, 0, 9, 9, 11, 11, 11, 11, 5, 5, 5, 5, 5, 5], [8, 8, 8, 8, 8, 8, 8, 8, 8, 8, 8, 3, 3, 3, 3, 3, 3, 3, 3, 3, 3, 3, 0, 0, 0, 0, 3, 3, 3, 3, 4, 5, 0, 0, 0, 0, 0, 0, 0, 0, 0, 0, 0, 0, 9, 0, 0, 0, 0, 0, 0, 0, 9, 11, 11, 11, 5], [8, 8, 8, 8, 8, 8, 8, 0, 0, 8, 8, 8, 8, 5, 5, 5, 5, 3, 3, 3, 3, 3, 3, 3, 7, 3, 3, 3, 1, 12, 0, 0, 0, 0, 0, 12, 12, 12, 12, 12, 12, 0, 0, 1, 0, 0, 0, 0, 0, 0, 0, 0, 7, 0, 7, 0, 0, 0, 0, 7, 0, 11, 11, 11, 11, 11, 11, 5], [8, 8, 8, 8, 8, 8, 8, 8, 8, 8, 3, 3, 3, 3, 3, 3, 0, 0, 0, 0, 0, 3, 3, 3, 3, 4, 4, 4, 4, 4, 3, 3, 3, 0, 0, 0, 0, 0, 0, 0, 4, 4, 0, 0, 0, 0, 0, 0, 1, 1, 1, 2, 2, 0, 0, 0, 0, 0, 0, 0, 0, 0, 0, 0, 0, 0, 0, 0, 0, 0, 0, 0, 0, 0, 0, 0, 0, 0, 0, 0, 0, 0, 0, 0, 0, 0, 0, 0, 0, 0, 0, 0, 0, 0, 0, 0, 0, 0, 0, 9, 0, 0, 7, 7, 0, 7, 0, 7, 9, 11, 11, 11, 5], [8, 8, 8, 8, 8, 8, 8, 8, 8, 8, 8, 8, 8, 8, 8, 8, 8, 8, 8, 8, 8, 8, 8, 8, 8, 8, 8, 8, 8, 8, 8, 8, 8, 8, 8, 8, 8, 8, 8, 8, 8, 8, 3, 3, 3, 3, 3, 3, 3, 3, 3, 3, 3, 3, 3, 3, 3, 3, 3, 3, 3, 3, 0, 0, 3, 3, 3, 4, 4, 4, 4, 4, 4, 4, 3, 3, 5, 0, 0, 0, 0, 0, 0, 0, 0, 0, 3, 0, 0, 0, 0, 0, 0, 0, 0, 0, 0, 0, 0, 0, 0, 0, 0, 0, 0, 0, 0, 0, 0, 0, 0, 0, 3, 3, 3, 3, 3, 0, 0, 0, 0, 0, 0, 0, 0, 0, 0, 0, 0, 0, 0, 0, 0, 0, 0, 0, 0, 0, 0, 0, 0, 0, 0, 0, 0, 0, 0, 0, 0, 0, 0, 0, 0, 9, 9, 11, 0, 0, 0, 0, 0, 0, 0, 0, 11, 11, 11, 11, 11, 11, 11, 11, 11, 5, 5, 8, 8, 5, 5, 5, 5, 5, 5, 5, 5, 5, 5, 5, 5, 5, 5, 5, 5, 5, 5, 5, 5, 5, 5], [8, 8, 8, 8, 8, 8, 8, 8, 8, 8, 8, 8, 8, 8, 8, 0, 0, 8, 8, 8, 8, 8, 8, 0, 8, 8, 0, 8, 8, 8, 5, 5, 5, 5, 5, 10, 10, 3, 3, 3, 3, 3, 3, 3, 3, 3, 3, 3, 3, 3, 3, 3, 3, 3, 3, 3, 3, 3, 3, 3, 3, 3, 3, 3, 3, 3, 3, 3, 3, 3, 3, 3, 3, 3, 3, 3, 3, 3, 3, 3, 3, 3, 3, 3, 3, 3, 3, 3, 3, 3, 3, 3, 3, 3, 3, 10, 10, 10, 0, 0, 0, 0, 0, 0, 0, 0, 0, 0, 0, 0, 0, 0, 0, 0, 0, 0, 0, 0, 0, 0, 7, 0, 0, 0, 12, 12, 0, 0, 0, 0, 0, 0, 0, 0, 0, 9, 9, 11, 5], [8, 8, 8, 8, 5, 10, 3, 10, 10, 10, 3, 3, 3, 3, 3, 3, 3, 3, 3, 3, 3, 3, 3, 3, 3, 3, 0, 0, 0, 0, 0, 0, 0, 0, 0, 0, 0, 3, 3, 3, 3, 3, 0, 0, 0, 0, 0, 0, 0, 0, 0, 0, 0, 0, 0, 0, 0, 0, 0, 0, 0, 7, 0, 0, 0, 0, 9, 9, 9, 11, 11, 11, 11, 11, 5, 5], [8, 8, 8, 8, 8, 8, 0, 8, 8, 8, 8, 5, 5, 5, 5, 5, 5, 5, 5, 3, 0, 0, 10, 10, 10, 0, 0, 0, 0, 0, 0, 0, 3, 3, 3, 3, 3, 3, 3, 3, 0, 0, 0, 0, 0, 0, 0, 0, 0, 0, 0, 0, 0, 0, 0, 0, 0, 0, 3, 0, 0, 3, 3, 0, 0, 0, 0, 0, 0, 3, 3, 0, 0, 0, 0, 0, 0, 0, 0, 0, 0, 0, 0, 0, 0, 0, 0, 0, 0, 0, 0, 0, 0, 0, 0, 0, 0, 7, 0, 0, 0, 9, 9, 11], [8, 8, 8, 8, 8, 8, 8, 8, 5, 5, 5, 3, 3, 3, 3, 3, 3, 3, 3, 3, 3, 3, 3, 3, 3, 3, 3, 3, 3, 3, 3, 3, 3, 3, 3, 3, 3, 3, 3, 3, 3, 3, 3, 3, 3, 3, 3, 3, 3, 3, 3, 3, 3, 3, 3, 3, 3, 3, 3, 3, 10, 3, 3, 0, 7, 7, 7, 0, 0, 12, 12, 12, 12, 12, 0, 0, 0, 0, 0, 0, 0, 0, 0, 0, 0, 0, 0, 0, 0, 3, 3, 0, 0, 0, 0, 0, 0, 0, 0, 0, 0, 0, 0, 0, 0, 0, 0, 0, 0, 0, 0, 0, 0, 0, 0, 0, 0, 0, 0, 0, 0, 0, 0, 0, 0, 0, 0, 0, 0, 0, 0, 0, 0, 0, 0, 0, 0, 0, 0, 0, 0, 0, 0, 0, 0, 0, 0, 0, 0, 0, 0, 0, 0, 0, 0, 0, 0, 0, 0, 0, 0, 0, 0, 0, 0, 0, 0, 0, 0, 0, 0, 0, 0, 0, 0, 0, 0, 0, 0, 0, 0, 0, 0, 0, 0, 0, 0, 0, 0, 0, 0, 0, 0, 0, 1, 0, 0, 0, 0, 0, 0, 9, 9, 11, 11, 11, 11, 5, 5], [8, 8, 8, 8, 3, 3, 8, 8, 8, 8, 8, 8, 8, 5, 5, 5, 8, 5, 5, 5, 3, 3, 3, 3, 3, 3, 3, 3, 3, 3, 3, 3, 3, 3, 3, 3, 3, 3, 3, 3, 3, 3, 0, 0, 0, 0, 7, 0, 0, 0, 0, 0, 0, 0, 0, 0, 0, 0, 0, 0, 0, 0, 0, 0, 0, 0, 0, 0, 0, 0, 0, 0, 0, 0, 0, 0, 0, 0, 0, 0, 0, 0, 0, 0, 0, 0, 0, 0, 0, 0, 0, 0, 0, 0, 0, 0, 0, 0, 0, 0, 0, 0, 0, 0, 0, 0, 0, 0, 0, 0, 0, 0, 0, 0, 0, 0, 0, 0, 0, 0, 0, 0, 0, 0, 0, 0, 0, 0, 0, 0, 0, 0, 9, 9, 11], [8, 8, 8, 8, 8, 8, 8, 8, 5, 3, 3, 3, 3, 3, 3, 3, 3, 3, 3, 3, 3, 3, 3, 3, 3, 3, 3, 0, 0, 0, 0, 4, 0, 12, 0, 12, 0, 0, 0, 0, 0, 0, 0, 0, 0, 0, 0, 0, 0, 0, 0, 0, 0, 0, 0, 0, 0, 0, 0, 9, 11, 11, 5, 5], [8, 8, 8, 8, 8, 8, 3, 3, 8, 8, 8, 8, 8, 8, 8, 8, 5, 5, 5, 3, 3, 3, 3, 3, 0, 3, 3, 3, 3, 3, 3, 8, 8, 8, 0, 0, 0, 0, 0, 0, 0, 0, 0, 0, 0, 0, 0, 0, 0, 8, 0, 0, 0, 0, 8, 0, 8, 11, 11, 11, 11, 5], [8, 8, 8, 8, 3, 0, 8, 8, 8, 0, 8, 8, 8, 8, 8, 8, 8, 8, 8, 0, 8, 8, 8, 8, 8, 8, 0, 0, 8, 8, 8, 8, 8, 0, 0, 8, 8, 8, 8, 5, 5, 5, 5, 8, 8, 8, 8, 0, 3, 3, 3, 3, 3, 10, 3, 0, 0, 0, 0, 0, 0, 0, 0, 0, 0, 0, 0, 0, 0, 0, 0, 0, 0, 7, 7, 7, 7, 0, 0, 0, 0, 0, 0, 8, 0, 0, 0, 0, 0, 0, 0, 9, 9, 11, 11, 11, 11, 5], [8, 8, 8, 8, 8, 8, 3, 8, 8, 8, 7, 7, 8, 8, 8, 8, 5, 5, 5, 5, 5, 5, 5, 10, 8, 10, 10, 10, 3, 3, 3, 3, 3, 3, 3, 3, 3, 3, 3, 3, 3, 3, 3, 3, 3, 3, 3, 3, 3, 3, 0, 0, 0, 0, 0, 3, 3, 3, 0, 0, 0, 0, 0, 0, 0, 0, 0, 0, 0, 0, 0, 0, 0, 0, 0, 0, 0, 0, 3, 3, 3, 3, 0, 0, 0, 0, 0, 0, 0, 7, 0, 0, 0, 0, 0, 7, 0, 0, 0, 0, 0, 0, 0, 0, 0, 0, 0, 9, 9, 11, 11], [8, 8, 8, 8, 3, 3, 3, 3, 8, 8, 8, 8, 8, 8, 8, 8, 8, 8, 8, 8, 8, 8, 5, 5, 5, 5, 5, 3, 3, 3, 0, 3, 3, 3, 3, 3, 3, 3, 0, 0, 0, 0, 0, 0, 0, 0, 0, 0, 0, 0, 0, 0, 0, 0, 0, 0, 0, 0, 0, 9, 9, 5], [8, 8, 8, 8, 8, 8, 8, 8, 8, 8, 8, 8, 8, 8, 0, 0, 8, 8, 8, 8, 8, 5, 5, 5, 5, 8, 5, 3, 3, 0, 3, 3, 3, 3, 3, 0, 0, 0, 0, 0, 0, 0, 0, 0, 0, 0, 12, 12, 12, 12, 0, 0, 0, 0, 0, 0, 0, 0, 0, 0, 0, 0, 7, 7, 0, 0, 0, 0, 0, 0, 0, 1, 1, 1, 1, 1, 0, 0, 0, 0, 0, 0, 1, 2, 1, 0, 0, 0, 7, 7, 0, 0, 0, 0, 0, 0, 0, 0, 0, 0, 0, 0, 0, 8, 8, 0, 0, 0, 0, 2, 2, 0, 0, 0, 0, 8, 0, 0, 0, 0, 0, 0, 0, 0, 0, 0, 9, 9, 11, 11], [8, 8, 8, 3, 3, 3, 3, 0, 0, 0, 0, 0, 3, 3, 4, 4, 4, 4, 0, 0, 0, 0, 0, 0, 0, 0, 0, 0, 0, 0, 0, 0, 0, 2, 0, 0, 0, 0, 0, 0, 0, 11, 11, 11, 5, 5], [8, 8, 8, 8, 8, 8, 8, 8, 8, 8, 8, 8, 5, 3, 5, 3, 3, 3, 3, 3, 4, 3, 3, 3, 3, 3, 3, 3, 3, 3, 3, 3, 3, 0, 0, 0, 0, 0, 0, 0, 0, 0, 0, 0, 0, 0, 0, 0, 0, 0, 0, 0, 0, 0, 0, 0, 0, 0, 0, 0, 0, 0, 9, 11, 11, 5], [8, 8, 8, 8, 8, 8, 8, 8, 8, 8, 8, 8, 8, 8, 8, 8, 8, 8, 8, 8, 8, 3, 3, 3, 3, 3, 3, 3, 4, 4, 4, 4, 0, 0, 0, 0, 0, 0, 0, 0, 0, 0, 0, 0, 0, 0, 0, 0, 0, 0, 0, 0, 0, 0, 0, 0, 0, 0, 0, 0, 0, 0, 0, 9, 11, 11, 11, 11, 5, 5, 5, 5, 5, 5, 5, 5, 5], [8, 8, 8, 8, 8, 8, 8, 8, 8, 8, 5, 5, 5, 5, 3, 3, 3, 3, 3, 3, 3, 3, 3, 3, 1, 1, 1, 1, 0, 0, 0, 0, 0, 0, 0, 0, 0, 0, 7, 7, 0, 0, 0, 0, 0, 0, 0, 0, 0, 9, 9, 11, 5], [8, 8, 8, 8, 8, 8, 8, 8, 8, 8, 8, 8, 8, 8, 8, 8, 8, 8, 8, 0, 0, 0, 0, 0, 8, 8, 8, 8, 8, 5, 5, 5, 5, 5, 3, 10, 10, 3, 12, 0, 0, 0, 0, 0, 1, 12, 0, 12, 0, 0, 7, 7, 7, 12, 0, 0, 0, 0, 0, 0, 0, 7, 0, 0, 0, 0, 0, 12, 0, 0, 3, 0, 0, 0, 0, 0, 0, 0, 0, 0, 0, 0, 0, 7, 0, 0, 0, 0, 0, 0, 0, 0, 0, 0, 0, 0, 0, 0, 0, 0, 0, 0, 0, 0, 0, 0, 0, 0, 0, 9, 11, 11], [8, 8, 8, 8, 3, 3, 3, 3, 3, 3, 3, 8, 8, 8, 8, 8, 8, 12, 0, 0, 8, 8, 8, 8, 8, 8, 0, 8, 0, 0, 0, 8, 8, 8, 8, 8, 8, 8, 8, 8, 8, 8, 5, 5, 5, 5, 5, 3, 3, 3, 3, 3, 3, 3, 0, 3, 0, 3, 3, 3, 3, 3, 3, 3, 0, 3, 3, 3, 3, 3, 3, 3, 0, 0, 0, 0, 0, 0, 0, 3, 3, 3, 3, 3, 3, 3, 3, 3, 3, 3, 0, 0, 0, 0, 0, 0, 3, 3, 3, 3, 3, 3, 3, 0, 0, 0, 0, 0, 0, 0, 0, 0, 0, 0, 0, 0, 0, 0, 0, 0, 12, 0, 12, 0, 0, 0, 0, 8, 8, 0, 0, 0, 0, 0, 0, 0, 0, 0, 3, 3, 3, 0, 0, 0, 0, 8, 8, 8, 8, 0, 0, 0, 0, 0, 7, 7, 8, 8, 8, 0, 0, 0, 0, 0, 0, 0, 0, 0, 0, 0, 0, 0, 0, 0, 0, 0, 0, 0, 0, 0, 0, 8, 8, 8, 9, 5], [8, 8, 8, 8, 8, 8, 8, 8, 3, 3, 3, 3, 3, 3, 3, 3, 3, 3, 3, 3, 3, 4, 4, 4, 0, 0, 0, 0, 0, 0, 0, 0, 0, 0, 0, 0, 0, 0, 0, 0, 0, 0, 0, 9, 9, 11, 11, 11, 11, 5, 5, 5, 5, 5], [8, 8, 8, 8, 8, 8, 8, 8, 5, 3, 3, 3, 3, 11, 11, 11, 3, 3, 3, 0, 0, 0, 0, 3, 0, 0, 0, 0, 0, 0, 1, 1, 0, 0, 0, 0, 1, 1, 0, 0, 9, 11, 5], [8, 8, 8, 8, 8, 8, 8, 8, 8, 8, 8, 8, 8, 3, 3, 3, 3, 3, 3, 3, 3, 3, 4, 4, 4, 4, 4, 0, 0, 0, 0, 0, 0, 0, 0, 0, 0, 0, 0, 0, 0, 0, 0, 0, 9, 9, 11, 11, 11, 5, 5, 5, 8, 8, 8, 8, 5, 5, 5], [8, 8, 8, 8, 8, 5, 3, 3, 3, 3, 3, 3, 0, 0, 0, 0, 0, 0, 0, 0, 0, 0, 0, 9, 9, 9, 11, 11, 11, 11, 5]]\n",
            "139\n"
          ]
        }
      ]
    },
    {
      "cell_type": "code",
      "source": [
        "num2text_label_dict={0:'analysis',1: 'arg_petitioner',2:'arg_respondent',3:'fac',4: 'issue',\n",
        "            5:'none',6:'pre_not_relied',7: 'pre_relied',8:'preamble',9:'ratio',10:'rlc',11: 'rpc',12:'sta',13:'pad'}\n",
        "\n",
        "text2num_label_dict={v:k for k,v in num2text_label_dict.items()}\n",
        "PredValLabels=[]\n",
        "for i in range(len(Preds)):\n",
        "  temp=[]\n",
        "  for j in range(len(Preds[i])):\n",
        "    temp.append(num2text_label_dict[Preds[i][j]])\n",
        "  PredValLabels.append(temp)"
      ],
      "metadata": {
        "id": "XW5pmmGCa_ln"
      },
      "execution_count": null,
      "outputs": []
    },
    {
      "cell_type": "code",
      "source": [
        "ActSentwiseLabels=[]\n",
        "for i in range(len(AllLabels)):\n",
        "  for j in range(len(AllLabels[i])):\n",
        "    ActSentwiseLabels.append(AllLabels[i][j])"
      ],
      "metadata": {
        "id": "GiccDLxNb-Q5"
      },
      "execution_count": null,
      "outputs": []
    },
    {
      "cell_type": "code",
      "source": [
        "PredSentwiseLabels=[]\n",
        "for i in range(len(PredValLabels)):\n",
        "  for j in range(len(PredValLabels[i])):\n",
        "    PredSentwiseLabels.append(PredValLabels[i][j])"
      ],
      "metadata": {
        "id": "EkMuyrCJcj9y"
      },
      "execution_count": null,
      "outputs": []
    },
    {
      "cell_type": "code",
      "source": [
        "from sklearn.metrics import precision_recall_fscore_support\n",
        "precision_recall_fscore_support(ActSentwiseLabels, PredSentwiseLabels, average='weighted')"
      ],
      "metadata": {
        "colab": {
          "base_uri": "https://localhost:8080/"
        },
        "id": "mzKQixXRc9P0",
        "outputId": "5338693c-a3bc-44ed-997b-643922cd1d33"
      },
      "execution_count": null,
      "outputs": [
        {
          "output_type": "stream",
          "name": "stderr",
          "text": [
            "/usr/local/lib/python3.9/dist-packages/sklearn/metrics/_classification.py:1344: UndefinedMetricWarning: Precision and F-score are ill-defined and being set to 0.0 in labels with no predicted samples. Use `zero_division` parameter to control this behavior.\n",
            "  _warn_prf(average, modifier, msg_start, len(result))\n"
          ]
        },
        {
          "output_type": "execute_result",
          "data": {
            "text/plain": [
              "(0.7562048304624073, 0.7568600208405697, 0.7356480780288189, None)"
            ]
          },
          "metadata": {},
          "execution_count": 22
        }
      ]
    },
    {
      "cell_type": "code",
      "source": [
        "label_list=['analysis','arg_petitioner','arg_respondent','fac', 'issue','none','pre_not_relied','pre_relied','preamble','ratio','rlc','rpc','sta']\n",
        "precision_recall_fscore_support(ActSentwiseLabels, PredSentwiseLabels, average=None, labels=label_list)"
      ],
      "metadata": {
        "colab": {
          "base_uri": "https://localhost:8080/"
        },
        "id": "zTrUaxIvdbsZ",
        "outputId": "a53a1c3d-db2e-42df-ea14-941cb676c4f7"
      },
      "execution_count": null,
      "outputs": [
        {
          "output_type": "stream",
          "name": "stderr",
          "text": [
            "/usr/local/lib/python3.9/dist-packages/sklearn/metrics/_classification.py:1344: UndefinedMetricWarning: Precision and F-score are ill-defined and being set to 0.0 in labels with no predicted samples. Use `zero_division` parameter to control this behavior.\n",
            "  _warn_prf(average, modifier, msg_start, len(result))\n"
          ]
        },
        {
          "output_type": "execute_result",
          "data": {
            "text/plain": [
              "(array([0.6776365 , 0.58333333, 0.5       , 0.79017013, 0.87179487,\n",
              "        0.96932515, 0.        , 0.63095238, 0.90781563, 0.56862745,\n",
              "        0.70833333, 0.85869565, 0.48387097]),\n",
              " array([0.92073171, 0.2       , 0.07894737, 0.72068966, 0.68      ,\n",
              "        0.83157895, 0.        , 0.37323944, 0.89173228, 0.41428571,\n",
              "        0.14655172, 0.86813187, 0.53571429]),\n",
              " array([0.78069798, 0.29787234, 0.13636364, 0.75383228, 0.76404494,\n",
              "        0.89518414, 0.        , 0.46902655, 0.89970209, 0.47933884,\n",
              "        0.24285714, 0.86338798, 0.50847458]),\n",
              " array([984,  70,  38, 580,  50, 190,  12, 142, 508,  70, 116,  91,  28]))"
            ]
          },
          "metadata": {},
          "execution_count": 23
        }
      ]
    },
    {
      "cell_type": "code",
      "source": [
        "num2text_label_dict={0:'analysis',1: 'arg_petitioner',2:'arg_respondent',3:'fac',4: 'issue',\n",
        "            5:'none',6:'pre_not_relied',7: 'pre_relied',8:'preamble',9:'ratio',10:'rlc',11: 'rpc',12:'sta',13:'pad'}\n",
        "\n",
        "text2num_label_dict={v:k for k,v in num2text_label_dict.items()}\n",
        "ActualValLabels=[]\n",
        "for i in range(len(AllLabels)):\n",
        "  temp=[]\n",
        "  for j in range(len(AllLabels[i])):\n",
        "    temp.append(text2num_label_dict[AllLabels[i][j]])\n",
        "  ActualValLabels.append(temp)"
      ],
      "metadata": {
        "id": "5NKgUI2Xtnyf"
      },
      "execution_count": null,
      "outputs": []
    },
    {
      "cell_type": "markdown",
      "source": [
        "*This is the second way of predcting labels in which we consider the last sentence as the sentence of interest. We call this approach as $M_{SS-End}$ in our paper.*"
      ],
      "metadata": {
        "id": "U-YCWNc_tcx9"
      }
    },
    {
      "cell_type": "code",
      "source": [
        "import numpy as np\n",
        "def test_dataset_creation(doc):\n",
        "  s1 = np.zeros(768)\n",
        "  # print(type(s1))\n",
        "  s2=np.zeros(768)\n",
        "  s3=np.zeros(768)\n",
        "  s4=np.zeros(768)\n",
        "  fl=[]\n",
        "  \n",
        "  dc=[]\n",
        "  \n",
        "  dc.append(s1)\n",
        "  \n",
        "  dc.append(s2)\n",
        "  \n",
        "  dc.append(s3)\n",
        "  \n",
        "  dc.append(s4)\n",
        "  \n",
        "  dc.append(numpyarray(doc[0]))\n",
        "  \n",
        "  fl.append(np.stack(dc))\n",
        "  \n",
        "  dc=[]\n",
        "  \n",
        "  dc.append(s2)\n",
        "  \n",
        "  dc.append(s3)\n",
        "  \n",
        "  dc.append(s4)\n",
        "  \n",
        "  dc.append(numpyarray(doc[0]))\n",
        "  \n",
        "  dc.append(numpyarray(doc[1]))\n",
        "  \n",
        "  fl.append(np.stack(dc))\n",
        "  \n",
        "  dc=[]\n",
        "  \n",
        "  dc.append(s3)\n",
        "  \n",
        "  dc.append(s4)\n",
        "  \n",
        "  dc.append(numpyarray(doc[0]))\n",
        "  \n",
        "  dc.append(numpyarray(doc[1]))\n",
        "  \n",
        "  dc.append(numpyarray(doc[2]))\n",
        "  \n",
        "  fl.append(np.stack(dc))\n",
        "  \n",
        "  dc=[]\n",
        "  \n",
        "  dc.append(s4)\n",
        "  \n",
        "  dc.append(numpyarray(doc[0]))\n",
        "  \n",
        "  dc.append(numpyarray(doc[1]))\n",
        "  \n",
        "  dc.append(numpyarray(doc[2]))\n",
        "  \n",
        "  dc.append(numpyarray(doc[3]))\n",
        "  \n",
        "  fl.append(np.stack(dc))\n",
        "  \n",
        "\n",
        "  for i in range(4,len(doc)):\n",
        "    dc=[]\n",
        "    \n",
        "    dc.append(numpyarray(doc[i-4]))\n",
        "    \n",
        "    dc.append(numpyarray(doc[i-3]))\n",
        "    \n",
        "    dc.append(numpyarray(doc[i-2]))\n",
        "    \n",
        "    dc.append(numpyarray(doc[i-1]))\n",
        "    \n",
        "    dc.append(numpyarray(doc[i]))\n",
        "    \n",
        "    fl.append(np.stack(dc))\n",
        "    \n",
        "  # for i in range(len(fl)):\n",
        "  #   print(fl[i].shape)\n",
        "  fl=np.stack(fl)\n",
        "  return fl"
      ],
      "metadata": {
        "id": "T-W6BeggO6AO"
      },
      "execution_count": null,
      "outputs": []
    },
    {
      "cell_type": "code",
      "source": [
        "def predict(doc):\n",
        "  compPred=[]\n",
        "  x=test_dataset_creation(doc)\n",
        "  y_prob=model.predict(x)\n",
        "  flat_pred=np.argmax(y_prob,axis=2)\n",
        "  flat_pred_list= flat_pred.tolist()\n",
        "  final_preds=[]\n",
        "  for i in range(len(flat_pred_list)):\n",
        "    final_preds.append(flat_pred_list[i][-1])\n",
        "  return final_preds\n",
        "  \n",
        "Preds=[]\n",
        "for i in range(len(CleanedText)):\n",
        "  Preds.append(predict(CleanedText[i]))\n",
        "  print(i)\n",
        "\n",
        "print(Preds)\n",
        "print(len(Preds[1]))"
      ],
      "metadata": {
        "colab": {
          "base_uri": "https://localhost:8080/"
        },
        "id": "d6hpa4v3P75Z",
        "outputId": "f95a9361-d903-4ebf-e32a-c021909f9be6"
      },
      "execution_count": null,
      "outputs": [
        {
          "output_type": "stream",
          "name": "stdout",
          "text": [
            "3/3 [==============================] - 0s 8ms/step\n",
            "0\n",
            "5/5 [==============================] - 0s 4ms/step\n",
            "1\n",
            "5/5 [==============================] - 0s 5ms/step\n",
            "2\n",
            "2/2 [==============================] - 0s 7ms/step\n",
            "3\n",
            "3/3 [==============================] - 0s 8ms/step\n",
            "4\n",
            "2/2 [==============================] - 0s 14ms/step\n",
            "5\n",
            "3/3 [==============================] - 0s 9ms/step\n",
            "6\n",
            "4/4 [==============================] - 0s 5ms/step\n",
            "7\n",
            "7/7 [==============================] - 0s 4ms/step\n",
            "8\n",
            "5/5 [==============================] - 0s 6ms/step\n",
            "9\n",
            "3/3 [==============================] - 0s 6ms/step\n",
            "10\n",
            "4/4 [==============================] - 0s 5ms/step\n",
            "11\n",
            "7/7 [==============================] - 0s 4ms/step\n",
            "12\n",
            "5/5 [==============================] - 0s 4ms/step\n",
            "13\n",
            "2/2 [==============================] - 0s 7ms/step\n",
            "14\n",
            "2/2 [==============================] - 0s 7ms/step\n",
            "15\n",
            "4/4 [==============================] - 0s 5ms/step\n",
            "16\n",
            "4/4 [==============================] - 0s 5ms/step\n",
            "17\n",
            "2/2 [==============================] - 0s 10ms/step\n",
            "18\n",
            "5/5 [==============================] - 0s 4ms/step\n",
            "19\n",
            "2/2 [==============================] - 0s 12ms/step\n",
            "20\n",
            "3/3 [==============================] - 0s 5ms/step\n",
            "21\n",
            "3/3 [==============================] - 0s 5ms/step\n",
            "22\n",
            "2/2 [==============================] - 0s 7ms/step\n",
            "23\n",
            "4/4 [==============================] - 0s 8ms/step\n",
            "24\n",
            "6/6 [==============================] - 0s 6ms/step\n",
            "25\n",
            "2/2 [==============================] - 0s 9ms/step\n",
            "26\n",
            "2/2 [==============================] - 0s 8ms/step\n",
            "27\n",
            "2/2 [==============================] - 0s 7ms/step\n",
            "28\n",
            "1/1 [==============================] - 0s 21ms/step\n",
            "29\n",
            "[[8, 8, 8, 8, 8, 8, 8, 8, 8, 8, 8, 5, 5, 8, 5, 8, 8, 5, 3, 3, 3, 3, 3, 3, 3, 3, 3, 3, 3, 3, 3, 3, 0, 0, 0, 0, 0, 0, 0, 0, 0, 0, 0, 0, 0, 0, 3, 3, 3, 10, 3, 1, 11, 5, 0, 0, 0, 0, 0, 0, 0, 0, 0, 0, 0, 0, 0, 0, 0, 12, 7, 7, 7, 0, 0, 0, 0, 0, 0, 0, 0, 0, 0, 0, 0, 0, 0, 0, 0, 0, 0, 9, 11, 11, 11, 11], [8, 8, 8, 5, 8, 3, 3, 3, 3, 3, 0, 3, 0, 0, 7, 7, 7, 7, 7, 0, 0, 0, 0, 0, 0, 0, 0, 0, 0, 0, 0, 0, 0, 0, 7, 0, 0, 0, 0, 0, 0, 0, 7, 0, 7, 7, 7, 0, 0, 0, 7, 7, 7, 7, 7, 7, 7, 7, 7, 7, 7, 7, 0, 0, 0, 0, 0, 7, 0, 0, 0, 7, 7, 0, 0, 0, 0, 0, 0, 0, 0, 0, 0, 0, 0, 0, 7, 7, 7, 7, 0, 7, 0, 0, 0, 0, 0, 0, 0, 0, 0, 0, 7, 7, 7, 7, 7, 7, 7, 0, 0, 0, 0, 0, 0, 0, 0, 0, 0, 0, 0, 0, 0, 0, 0, 0, 0, 0, 0, 0, 0, 0, 0, 0, 0, 9, 11, 5, 5], [8, 8, 8, 8, 8, 8, 8, 8, 8, 8, 8, 8, 8, 8, 0, 0, 0, 0, 8, 8, 8, 8, 8, 8, 8, 0, 0, 0, 8, 0, 8, 8, 8, 8, 8, 8, 5, 5, 5, 5, 10, 4, 3, 3, 3, 3, 3, 3, 3, 3, 3, 3, 0, 0, 8, 8, 3, 8, 8, 8, 8, 8, 0, 0, 0, 0, 0, 0, 0, 0, 0, 0, 0, 0, 0, 0, 0, 0, 12, 0, 0, 0, 0, 0, 0, 7, 7, 7, 0, 0, 0, 8, 0, 0, 0, 0, 0, 0, 0, 0, 0, 0, 0, 0, 0, 7, 0, 0, 0, 1, 0, 0, 0, 8, 0, 0, 0, 0, 0, 0, 0, 0, 0, 0, 0, 0, 0, 0, 0, 0, 0, 0, 0, 0, 0, 0, 0, 0, 0, 0, 0, 0, 0, 0, 0, 0, 0, 11, 11, 11], [8, 8, 8, 8, 8, 8, 8, 8, 8, 8, 8, 8, 8, 8, 8, 8, 8, 8, 8, 8, 5, 5, 5, 5, 5, 10, 3, 3, 3, 3, 3, 3, 3, 3, 3, 3, 10, 3, 0, 0, 0, 9, 0, 8, 0, 0, 0, 11, 9, 9, 11, 11, 11, 5], [8, 8, 8, 8, 8, 8, 8, 8, 8, 8, 8, 8, 8, 8, 8, 8, 8, 8, 8, 8, 8, 8, 8, 8, 8, 8, 8, 8, 8, 3, 3, 3, 3, 3, 3, 3, 3, 3, 3, 3, 3, 3, 3, 3, 3, 3, 3, 3, 3, 5, 4, 0, 4, 4, 4, 0, 0, 0, 0, 3, 3, 3, 3, 0, 0, 0, 0, 0, 0, 0, 0, 0, 12, 0, 0, 0, 11, 11, 11, 11, 5, 5, 5, 5, 5, 5], [8, 8, 8, 8, 8, 8, 8, 8, 8, 8, 8, 3, 3, 3, 3, 3, 3, 3, 3, 3, 3, 3, 3, 3, 0, 3, 0, 0, 3, 3, 4, 5, 4, 0, 0, 0, 0, 0, 0, 0, 0, 0, 0, 0, 0, 0, 11, 0, 0, 0, 0, 0, 0, 11, 11, 11, 5], [8, 8, 8, 8, 8, 8, 8, 8, 8, 8, 0, 8, 8, 5, 5, 5, 5, 3, 3, 3, 3, 3, 3, 3, 0, 0, 3, 3, 1, 12, 12, 0, 0, 0, 0, 0, 12, 12, 12, 12, 12, 0, 0, 0, 0, 0, 0, 0, 0, 0, 0, 0, 7, 0, 7, 0, 0, 0, 0, 0, 0, 11, 0, 11, 11, 11, 11, 5], [8, 8, 8, 8, 8, 8, 8, 8, 8, 8, 3, 3, 3, 3, 3, 3, 0, 3, 0, 0, 0, 0, 0, 3, 3, 3, 4, 4, 4, 4, 0, 0, 3, 3, 0, 0, 5, 5, 0, 0, 4, 4, 0, 0, 0, 0, 0, 0, 0, 0, 2, 1, 0, 1, 0, 0, 0, 0, 0, 0, 0, 0, 0, 0, 0, 0, 0, 0, 0, 0, 0, 0, 0, 0, 0, 0, 0, 0, 0, 0, 0, 0, 0, 0, 0, 0, 0, 0, 0, 0, 0, 0, 0, 0, 0, 0, 0, 0, 0, 0, 0, 11, 7, 7, 0, 7, 0, 7, 9, 11, 11, 11, 5], [8, 8, 8, 8, 8, 8, 8, 8, 8, 8, 8, 8, 8, 8, 8, 8, 8, 8, 8, 8, 8, 8, 8, 8, 8, 8, 8, 8, 8, 8, 8, 8, 8, 8, 8, 8, 8, 8, 8, 8, 8, 8, 3, 3, 3, 3, 3, 3, 3, 3, 0, 3, 3, 3, 3, 3, 3, 3, 3, 3, 3, 3, 0, 3, 0, 0, 3, 4, 4, 4, 4, 4, 4, 4, 3, 0, 5, 0, 0, 0, 0, 0, 0, 0, 0, 0, 0, 0, 0, 0, 0, 0, 0, 0, 0, 0, 0, 0, 0, 0, 0, 0, 2, 0, 0, 0, 0, 0, 0, 0, 0, 0, 0, 0, 3, 3, 3, 3, 3, 0, 0, 0, 0, 0, 0, 0, 0, 0, 0, 0, 0, 0, 0, 0, 0, 0, 0, 0, 0, 0, 0, 0, 0, 0, 0, 0, 0, 0, 9, 0, 0, 0, 0, 0, 9, 11, 5, 0, 0, 0, 0, 0, 0, 0, 0, 0, 11, 11, 11, 11, 11, 11, 11, 5, 5, 5, 5, 8, 5, 5, 5, 5, 5, 5, 5, 5, 5, 5, 5, 5, 5, 5, 5, 5, 5, 5, 5, 5, 5], [8, 8, 8, 8, 8, 8, 8, 8, 8, 8, 8, 8, 8, 8, 8, 8, 8, 8, 0, 8, 8, 8, 8, 8, 8, 7, 8, 8, 8, 8, 8, 5, 5, 5, 5, 10, 10, 10, 3, 3, 3, 3, 3, 3, 3, 3, 3, 3, 3, 3, 3, 3, 3, 3, 3, 3, 3, 3, 3, 3, 3, 3, 3, 3, 3, 3, 3, 3, 3, 3, 3, 3, 3, 3, 3, 3, 3, 3, 3, 3, 3, 3, 3, 3, 3, 3, 3, 3, 3, 3, 3, 3, 3, 3, 3, 3, 10, 10, 5, 0, 0, 0, 0, 0, 0, 0, 0, 0, 0, 0, 0, 0, 0, 0, 0, 0, 0, 0, 0, 0, 7, 0, 0, 0, 12, 12, 0, 0, 0, 0, 0, 0, 12, 0, 0, 0, 0, 11, 5], [8, 8, 8, 8, 8, 10, 3, 10, 10, 10, 3, 3, 3, 3, 3, 3, 3, 3, 3, 3, 3, 3, 3, 3, 3, 3, 3, 3, 0, 0, 0, 0, 0, 0, 0, 0, 0, 0, 0, 3, 3, 3, 3, 3, 0, 0, 0, 0, 0, 0, 0, 0, 0, 0, 0, 0, 0, 0, 0, 0, 0, 7, 0, 0, 0, 0, 0, 9, 9, 11, 11, 11, 11, 11, 5, 5], [8, 8, 8, 8, 8, 8, 8, 8, 8, 8, 8, 5, 5, 5, 5, 5, 5, 5, 5, 3, 0, 3, 10, 0, 3, 3, 10, 0, 0, 0, 0, 0, 0, 0, 3, 3, 3, 3, 3, 3, 3, 3, 0, 0, 0, 0, 0, 0, 0, 0, 0, 0, 0, 0, 0, 0, 3, 0, 0, 0, 3, 0, 0, 3, 3, 0, 0, 0, 0, 0, 0, 10, 0, 0, 0, 0, 0, 0, 0, 0, 0, 0, 0, 0, 0, 0, 0, 0, 0, 0, 0, 0, 0, 0, 0, 0, 0, 7, 0, 0, 0, 0, 9, 11], [8, 8, 8, 8, 8, 8, 8, 8, 5, 5, 5, 3, 3, 3, 3, 3, 3, 3, 3, 3, 3, 3, 3, 3, 3, 3, 3, 3, 3, 3, 3, 3, 3, 3, 3, 3, 3, 3, 3, 3, 3, 3, 3, 3, 3, 3, 3, 3, 3, 3, 3, 3, 3, 3, 3, 3, 3, 3, 3, 3, 10, 3, 3, 3, 7, 0, 7, 0, 0, 7, 0, 0, 0, 12, 0, 0, 0, 0, 0, 0, 0, 0, 0, 0, 0, 0, 0, 0, 0, 0, 0, 3, 3, 0, 0, 0, 0, 0, 0, 0, 0, 0, 0, 0, 0, 4, 0, 0, 0, 0, 0, 0, 0, 0, 0, 0, 0, 0, 0, 0, 0, 0, 0, 0, 0, 0, 0, 0, 0, 0, 0, 0, 0, 0, 0, 0, 0, 0, 0, 0, 0, 0, 0, 0, 0, 0, 0, 0, 0, 0, 0, 0, 0, 0, 0, 0, 0, 0, 0, 0, 0, 0, 0, 0, 0, 0, 0, 0, 0, 0, 0, 0, 0, 0, 0, 0, 0, 0, 0, 0, 0, 0, 0, 0, 0, 0, 0, 0, 0, 0, 0, 0, 0, 0, 0, 0, 1, 0, 0, 0, 0, 0, 0, 11, 11, 11, 11, 5, 5], [8, 8, 8, 8, 8, 8, 3, 0, 8, 8, 8, 8, 8, 5, 5, 5, 5, 5, 5, 5, 3, 3, 3, 3, 3, 3, 3, 3, 3, 3, 3, 3, 3, 3, 3, 3, 3, 3, 3, 3, 3, 3, 3, 0, 0, 0, 0, 0, 0, 0, 0, 0, 0, 0, 0, 0, 0, 0, 0, 0, 0, 0, 0, 0, 0, 0, 0, 0, 0, 0, 0, 0, 0, 0, 0, 0, 0, 0, 0, 0, 0, 0, 0, 0, 0, 0, 0, 0, 0, 0, 0, 0, 0, 0, 0, 0, 0, 0, 0, 0, 0, 0, 0, 0, 0, 0, 0, 0, 0, 0, 0, 0, 0, 0, 0, 0, 0, 0, 0, 0, 0, 0, 0, 0, 0, 0, 0, 0, 0, 0, 0, 0, 0, 0, 11], [8, 8, 8, 8, 8, 8, 8, 5, 5, 3, 3, 3, 3, 3, 3, 3, 3, 3, 3, 3, 3, 3, 3, 3, 3, 3, 3, 3, 0, 0, 0, 4, 0, 12, 0, 12, 12, 0, 0, 0, 0, 0, 0, 0, 0, 0, 0, 0, 0, 0, 0, 0, 0, 0, 0, 0, 0, 0, 0, 0, 0, 11, 5, 5], [8, 8, 8, 8, 8, 8, 8, 8, 3, 8, 8, 8, 8, 8, 8, 8, 5, 5, 5, 3, 3, 3, 3, 3, 3, 0, 3, 3, 3, 3, 3, 3, 8, 0, 8, 8, 0, 0, 0, 0, 0, 0, 0, 0, 0, 0, 0, 0, 0, 8, 0, 8, 12, 0, 0, 0, 8, 0, 8, 11, 11, 5], [8, 8, 8, 8, 8, 8, 3, 0, 8, 8, 8, 0, 8, 8, 8, 8, 8, 8, 8, 8, 8, 0, 8, 8, 8, 8, 8, 8, 0, 0, 8, 8, 8, 8, 8, 0, 0, 8, 8, 5, 5, 5, 5, 5, 10, 8, 8, 8, 8, 0, 3, 3, 3, 3, 3, 0, 0, 4, 0, 0, 0, 0, 0, 0, 0, 0, 0, 0, 0, 0, 0, 0, 0, 7, 0, 7, 7, 0, 0, 0, 0, 0, 0, 0, 0, 8, 0, 0, 0, 0, 0, 0, 9, 11, 11, 11, 11, 5], [8, 8, 8, 8, 8, 8, 8, 8, 8, 8, 8, 0, 0, 7, 7, 8, 5, 5, 5, 5, 5, 5, 5, 3, 10, 10, 8, 10, 3, 3, 3, 3, 3, 3, 3, 3, 3, 3, 3, 3, 3, 3, 3, 3, 3, 3, 3, 3, 3, 3, 3, 3, 0, 0, 0, 0, 0, 3, 3, 3, 0, 0, 0, 0, 0, 0, 0, 0, 0, 0, 0, 0, 0, 0, 0, 0, 0, 0, 0, 0, 3, 3, 3, 0, 0, 0, 0, 0, 0, 0, 0, 0, 0, 0, 0, 0, 0, 0, 7, 0, 0, 0, 0, 0, 0, 0, 0, 0, 0, 11, 11], [8, 8, 8, 8, 8, 8, 3, 3, 3, 3, 8, 8, 8, 8, 8, 8, 8, 8, 8, 8, 8, 8, 5, 5, 5, 5, 5, 3, 10, 3, 3, 3, 3, 3, 3, 3, 3, 3, 3, 3, 0, 0, 0, 0, 0, 0, 0, 0, 0, 0, 0, 0, 0, 0, 0, 0, 0, 0, 0, 0, 0, 5], [8, 8, 8, 8, 8, 8, 8, 8, 8, 8, 8, 8, 8, 8, 8, 8, 8, 0, 8, 8, 8, 5, 5, 5, 5, 5, 5, 3, 3, 3, 3, 0, 3, 3, 3, 3, 0, 0, 0, 0, 0, 0, 0, 0, 0, 0, 0, 12, 12, 12, 0, 0, 0, 0, 0, 0, 0, 0, 0, 0, 1, 0, 7, 0, 0, 0, 0, 0, 0, 0, 0, 0, 0, 1, 1, 1, 1, 0, 0, 0, 0, 0, 1, 0, 1, 1, 1, 0, 1, 7, 0, 0, 0, 0, 0, 0, 0, 0, 0, 0, 0, 0, 0, 8, 8, 8, 8, 0, 0, 1, 2, 0, 0, 0, 0, 0, 0, 8, 0, 0, 0, 0, 0, 0, 0, 0, 0, 0, 11, 11], [8, 8, 8, 3, 3, 3, 3, 3, 3, 0, 0, 0, 0, 0, 4, 4, 4, 4, 4, 0, 0, 0, 0, 0, 0, 0, 0, 0, 0, 0, 0, 0, 0, 0, 0, 0, 0, 0, 0, 0, 0, 0, 11, 11, 5, 5], [8, 8, 8, 8, 8, 8, 8, 8, 8, 8, 8, 8, 5, 3, 5, 3, 3, 3, 3, 3, 4, 3, 3, 3, 3, 3, 3, 3, 3, 3, 3, 3, 3, 3, 3, 0, 0, 0, 0, 0, 0, 0, 0, 0, 0, 0, 0, 0, 0, 0, 0, 0, 1, 0, 0, 0, 0, 0, 0, 0, 0, 0, 0, 11, 11, 5], [8, 8, 8, 8, 8, 8, 8, 8, 8, 8, 8, 8, 8, 8, 8, 8, 8, 8, 8, 8, 8, 8, 3, 3, 3, 3, 3, 3, 3, 4, 4, 4, 0, 0, 0, 0, 0, 0, 0, 0, 0, 0, 0, 0, 0, 0, 0, 0, 0, 0, 0, 0, 0, 0, 0, 0, 0, 0, 0, 0, 0, 0, 0, 0, 11, 11, 11, 11, 5, 5, 5, 5, 5, 5, 5, 5, 5], [8, 8, 8, 8, 8, 8, 8, 8, 8, 8, 5, 5, 5, 5, 5, 3, 3, 3, 3, 3, 3, 3, 3, 3, 0, 1, 2, 1, 1, 1, 0, 0, 0, 0, 0, 0, 0, 0, 7, 7, 7, 0, 0, 0, 0, 0, 0, 0, 0, 0, 0, 11, 5], [8, 8, 8, 8, 8, 8, 8, 8, 8, 8, 8, 8, 8, 8, 8, 8, 8, 8, 8, 8, 0, 0, 0, 0, 0, 0, 8, 8, 8, 5, 5, 5, 5, 5, 3, 10, 10, 10, 12, 5, 0, 0, 0, 0, 1, 0, 1, 12, 0, 0, 7, 7, 7, 7, 7, 0, 0, 0, 0, 0, 0, 0, 0, 0, 0, 0, 0, 12, 0, 0, 0, 0, 3, 0, 0, 0, 0, 0, 0, 0, 0, 0, 0, 0, 0, 0, 0, 0, 0, 0, 0, 0, 0, 0, 0, 0, 0, 0, 0, 0, 0, 0, 0, 0, 0, 0, 0, 0, 0, 0, 11, 11], [8, 8, 8, 8, 8, 8, 8, 3, 3, 3, 3, 3, 3, 8, 8, 8, 8, 8, 8, 0, 0, 0, 8, 8, 8, 8, 8, 8, 8, 8, 0, 0, 0, 8, 8, 8, 8, 8, 8, 8, 8, 8, 8, 5, 5, 5, 5, 3, 3, 3, 3, 3, 3, 3, 3, 3, 0, 3, 0, 3, 3, 3, 3, 3, 3, 3, 0, 3, 3, 3, 3, 3, 3, 3, 0, 0, 0, 0, 0, 0, 0, 3, 3, 3, 3, 3, 3, 3, 3, 3, 3, 0, 0, 0, 0, 0, 0, 0, 3, 3, 3, 3, 3, 3, 0, 0, 0, 0, 0, 0, 0, 0, 0, 0, 0, 0, 12, 0, 0, 0, 12, 0, 12, 0, 0, 0, 0, 8, 0, 8, 8, 8, 0, 0, 0, 0, 0, 0, 0, 0, 3, 3, 3, 0, 0, 0, 0, 8, 8, 8, 8, 0, 0, 0, 0, 0, 0, 7, 7, 8, 8, 0, 0, 0, 0, 0, 0, 0, 0, 0, 0, 0, 0, 0, 0, 0, 0, 0, 0, 0, 0, 0, 0, 8, 8, 5], [8, 8, 8, 8, 8, 8, 8, 8, 3, 3, 3, 3, 3, 3, 3, 3, 3, 3, 3, 3, 3, 4, 4, 4, 0, 0, 0, 0, 0, 0, 0, 0, 0, 0, 0, 0, 0, 0, 0, 0, 0, 0, 0, 0, 0, 11, 11, 11, 11, 5, 5, 5, 5, 5], [8, 8, 8, 8, 8, 8, 8, 8, 5, 3, 3, 3, 3, 3, 0, 0, 11, 11, 3, 5, 0, 0, 0, 0, 0, 0, 0, 0, 0, 0, 0, 1, 1, 0, 0, 0, 0, 0, 0, 0, 0, 9, 5], [8, 8, 8, 8, 8, 8, 8, 8, 8, 8, 8, 8, 8, 3, 3, 3, 3, 3, 3, 3, 3, 3, 4, 4, 4, 4, 4, 0, 0, 0, 0, 0, 0, 0, 0, 0, 0, 0, 0, 0, 0, 0, 0, 0, 0, 0, 11, 11, 11, 5, 5, 5, 5, 5, 8, 8, 8, 8, 5], [8, 8, 8, 8, 8, 5, 3, 3, 3, 3, 3, 3, 3, 0, 0, 3, 0, 9, 0, 0, 0, 0, 0, 0, 0, 9, 11, 11, 11, 11, 5]]\n",
            "139\n"
          ]
        }
      ]
    },
    {
      "cell_type": "code",
      "source": [
        "num2text_label_dict={0:'analysis',1: 'arg_petitioner',2:'arg_respondent',3:'fac',4: 'issue',\n",
        "            5:'none',6:'pre_not_relied',7: 'pre_relied',8:'preamble',9:'ratio',10:'rlc',11: 'rpc',12:'sta',13:'pad'}\n",
        "\n",
        "text2num_label_dict={v:k for k,v in num2text_label_dict.items()}\n",
        "PredValLabels=[]\n",
        "for i in range(len(Preds)):\n",
        "  temp=[]\n",
        "  for j in range(len(Preds[i])):\n",
        "    temp.append(num2text_label_dict[Preds[i][j]])\n",
        "  PredValLabels.append(temp)\n",
        "\n",
        "PredSentwiseLabels=[]\n",
        "for i in range(len(PredValLabels)):\n",
        "  for j in range(len(PredValLabels[i])):\n",
        "    PredSentwiseLabels.append(PredValLabels[i][j])\n",
        "\n",
        "from sklearn.metrics import precision_recall_fscore_support\n",
        "precision_recall_fscore_support(ActSentwiseLabels, PredSentwiseLabels, average='weighted')\n"
      ],
      "metadata": {
        "colab": {
          "base_uri": "https://localhost:8080/"
        },
        "id": "qciRQluFfS40",
        "outputId": "ef9b7513-1801-427c-f147-d4cf442aa799"
      },
      "execution_count": null,
      "outputs": [
        {
          "output_type": "stream",
          "name": "stderr",
          "text": [
            "/usr/local/lib/python3.9/dist-packages/sklearn/metrics/_classification.py:1344: UndefinedMetricWarning: Precision and F-score are ill-defined and being set to 0.0 in labels with no predicted samples. Use `zero_division` parameter to control this behavior.\n",
            "  _warn_prf(average, modifier, msg_start, len(result))\n"
          ]
        },
        {
          "output_type": "execute_result",
          "data": {
            "text/plain": [
              "(0.7318456131135416, 0.741229593608892, 0.7139155007924255, None)"
            ]
          },
          "metadata": {},
          "execution_count": 27
        }
      ]
    },
    {
      "cell_type": "code",
      "source": [
        "from sklearn.metrics import precision_recall_fscore_support\n",
        "num2text_label_dict={0:'analysis',1: 'arg_petitioner',2:'arg_respondent',3:'fac',4: 'issue',\n",
        "            5:'none',6:'pre_not_relied',7: 'pre_relied',8:'preamble',9:'ratio',10:'rlc',11: 'rpc',12:'sta',13:'pad'}\n",
        "\n",
        "text2num_label_dict={v:k for k,v in num2text_label_dict.items()}\n",
        "PredValLabels=[]\n",
        "for i in range(len(Preds)):\n",
        "  temp=[]\n",
        "  for j in range(len(Preds[i])):\n",
        "    temp.append(num2text_label_dict[Preds[i][j]])\n",
        "  PredValLabels.append(temp)\n",
        "\n",
        "PredSentwiseLabels=[]\n",
        "for i in range(len(PredValLabels)):\n",
        "  for j in range(len(PredValLabels[i])):\n",
        "    PredSentwiseLabels.append(PredValLabels[i][j])\n",
        "\n",
        "precision_recall_fscore_support(ActSentwiseLabels, PredSentwiseLabels, average='micro')\n",
        "\n",
        "label_list=['analysis','arg_petitioner','arg_respondent','fac', 'issue','none','pre_not_relied','pre_relied','preamble','ratio','rlc','rpc','sta']\n",
        "precision_recall_fscore_support(ActSentwiseLabels, PredSentwiseLabels, average=None, labels=label_list)"
      ],
      "metadata": {
        "colab": {
          "base_uri": "https://localhost:8080/"
        },
        "id": "7yLX5LNCfFxo",
        "outputId": "a07f59b3-0a33-4cb9-865a-9f1979f4e136"
      },
      "execution_count": null,
      "outputs": [
        {
          "output_type": "stream",
          "name": "stderr",
          "text": [
            "/usr/local/lib/python3.9/dist-packages/sklearn/metrics/_classification.py:1344: UndefinedMetricWarning: Precision and F-score are ill-defined and being set to 0.0 in labels with no predicted samples. Use `zero_division` parameter to control this behavior.\n",
            "  _warn_prf(average, modifier, msg_start, len(result))\n"
          ]
        },
        {
          "output_type": "execute_result",
          "data": {
            "text/plain": [
              "(array([0.65223771, 0.53846154, 0.5       , 0.79887218, 0.8       ,\n",
              "        0.92941176, 0.        , 0.6       , 0.88781431, 0.4       ,\n",
              "        0.6       , 0.85882353, 0.59259259]),\n",
              " array([0.90345528, 0.2       , 0.05263158, 0.73275862, 0.64      ,\n",
              "        0.83157895, 0.        , 0.31690141, 0.90354331, 0.08571429,\n",
              "        0.12931034, 0.8021978 , 0.57142857]),\n",
              " array([0.75756285, 0.29166667, 0.0952381 , 0.76438849, 0.71111111,\n",
              "        0.87777778, 0.        , 0.41474654, 0.89560976, 0.14117647,\n",
              "        0.21276596, 0.82954545, 0.58181818]),\n",
              " array([984,  70,  38, 580,  50, 190,  12, 142, 508,  70, 116,  91,  28]))"
            ]
          },
          "metadata": {},
          "execution_count": 28
        }
      ]
    },
    {
      "cell_type": "code",
      "source": [
        "from sklearn.metrics import f1_score\n",
        "from sklearn.metrics import precision_score\n",
        "from sklearn.metrics import recall_score\n",
        "\n",
        "PScore=[]\n",
        "for i in range(len(ActualValLabels)):\n",
        "  PScore.append(precision_score(ActualValLabels[i],Preds[i], average='micro'))\n",
        "# print(F1Score)\n",
        "print(sum(PScore)/len(ActualValLabels))\n",
        "\n",
        "RScore=[]\n",
        "for i in range(len(ActualValLabels)):\n",
        "  RScore.append(recall_score(ActualValLabels[i],Preds[i], average='micro'))\n",
        "# print(F1Score)\n",
        "print(sum(RScore)/len(ActualValLabels))\n",
        "\n",
        "F1Score=[]\n",
        "for i in range(len(ActualValLabels)):\n",
        "  F1Score.append(f1_score(ActualValLabels[i],Preds[i], average='micro'))\n",
        "# print(F1Score)\n",
        "print(sum(F1Score)/len(ActualValLabels))"
      ],
      "metadata": {
        "colab": {
          "base_uri": "https://localhost:8080/"
        },
        "id": "9uYZAQfKPIDu",
        "outputId": "c58e8da4-b80b-4e61-c7a5-20402f67c1dc"
      },
      "execution_count": null,
      "outputs": [
        {
          "output_type": "stream",
          "name": "stdout",
          "text": [
            "0.733370285385263\n",
            "0.733370285385263\n",
            "0.733370285385263\n"
          ]
        }
      ]
    }
  ]
}